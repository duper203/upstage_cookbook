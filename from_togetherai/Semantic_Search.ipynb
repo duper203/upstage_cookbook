{
  "cells": [
    {
      "cell_type": "markdown",
      "metadata": {
        "id": "view-in-github",
        "colab_type": "text"
      },
      "source": [
        "<a href=\"https://colab.research.google.com/github/duper203/upstage_cookbook/blob/main/from_togetherai/Semantic_Search.ipynb\" target=\"_parent\"><img src=\"https://colab.research.google.com/assets/colab-badge.svg\" alt=\"Open In Colab\"/></a>"
      ]
    },
    {
      "cell_type": "markdown",
      "metadata": {
        "id": "3v1Kp19naxqx"
      },
      "source": [
        "# Semantic Searching for Movies\n",
        "[![Open In Colab](https://colab.research.google.com/assets/colab-badge.svg)](https://colab.research.google.com/github/togethercomputer/together-cookbook/blob/main/Semantic_Search.ipynb)"
      ]
    },
    {
      "cell_type": "markdown",
      "metadata": {
        "id": "1BTfsZzaaxqy"
      },
      "source": [
        "## Introduction\n",
        "\n",
        "In this notebook we will implement semantic search feature over a dataset of movies. Given a user `query` we'd like to identify movies that user might be interested in. In order to do this we need to be able to search through a dataset of 1000's (or even more!) of movies and rank each one based on it's semantic relevance to the user query.  \n",
        "\n",
        "To do this we will follow these steps:\n",
        "1. Embed our entire movies dataset, which is a subset of the [Movies Dataset](https://www.kaggle.com/datasets/utkarshx27/movies-dataset). This will produce a vector representation of each movie.\n",
        "2. Upon recieving a user `query` we will embed this using the same model. This will produce a query vector.\n",
        "3. We will measure the distance between the query vector and each movie vector. Sorting this list will give us movies most semantically similar to the query!\n",
        "4. We can return the list of the top K movies the user might be interested in.  \n",
        "\n",
        "<img src=\"https://github.com/togethercomputer/together-cookbook/blob/main/images/semantic_search.png?raw=1\" width=\"750\">"
      ]
    },
    {
      "cell_type": "markdown",
      "metadata": {
        "id": "iK_Gu2Czaxqz"
      },
      "source": [
        "### Install relevant libraries"
      ]
    },
    {
      "cell_type": "code",
      "execution_count": null,
      "metadata": {
        "id": "mvPjz491axqz"
      },
      "outputs": [],
      "source": [
        "!pip install -qU openai langchain-upstage"
      ]
    },
    {
      "cell_type": "code",
      "execution_count": 2,
      "metadata": {
        "id": "-T4OUw24axq0"
      },
      "outputs": [],
      "source": [
        "import os\n",
        "from google.colab import userdata\n",
        "os.environ[\"UPSTAGE_API_KEY\"] = userdata.get(\"UPSTAGE_API_KEY\")"
      ]
    },
    {
      "cell_type": "markdown",
      "metadata": {
        "id": "pZsu9Uhnaxq0"
      },
      "source": [
        "### Download and View the Dataset"
      ]
    },
    {
      "cell_type": "code",
      "execution_count": 3,
      "metadata": {
        "id": "cIOWfcoeaxq0",
        "outputId": "5a46e606-09a1-47dd-b3e2-cc44ee39da11",
        "colab": {
          "base_uri": "https://localhost:8080/"
        }
      },
      "outputs": [
        {
          "output_type": "stream",
          "name": "stdout",
          "text": [
            "--2024-10-24 19:28:15--  https://raw.githubusercontent.com/togethercomputer/together-cookbook/refs/heads/main/datasets/movies.json\n",
            "Resolving raw.githubusercontent.com (raw.githubusercontent.com)... 185.199.108.133, 185.199.109.133, 185.199.110.133, ...\n",
            "Connecting to raw.githubusercontent.com (raw.githubusercontent.com)|185.199.108.133|:443... connected.\n",
            "HTTP request sent, awaiting response... 200 OK\n",
            "Length: 461845 (451K) [text/plain]\n",
            "Saving to: ‘movies.json’\n",
            "\n",
            "movies.json         100%[===================>] 451.02K  --.-KB/s    in 0.05s   \n",
            "\n",
            "2024-10-24 19:28:15 (8.91 MB/s) - ‘movies.json’ saved [461845/461845]\n",
            "\n"
          ]
        }
      ],
      "source": [
        "# Let's get the movies dataset\n",
        "!wget https://raw.githubusercontent.com/togethercomputer/together-cookbook/refs/heads/main/datasets/movies.json\n",
        "!mkdir datasets\n",
        "!mv movies.json datasets/movies.json"
      ]
    },
    {
      "cell_type": "code",
      "execution_count": 7,
      "metadata": {
        "colab": {
          "base_uri": "https://localhost:8080/"
        },
        "id": "3wysxjIvLZ3w",
        "outputId": "5f4fb724-1c9f-4393-9c71-3c2e1b53a089"
      },
      "outputs": [
        {
          "output_type": "execute_result",
          "data": {
            "text/plain": [
              "[{'title': 'Minions',\n",
              "  'overview': 'Minions Stuart, Kevin and Bob are recruited by Scarlet Overkill, a super-villain who, alongside her inventor husband Herb, hatches a plot to take over the world.',\n",
              "  'director': 'Kyle Balda',\n",
              "  'genres': 'Family Animation Adventure Comedy',\n",
              "  'tagline': 'Before Gru, they had a history of bad bosses'},\n",
              " {'title': 'Interstellar',\n",
              "  'overview': 'Interstellar chronicles the adventures of a group of explorers who make use of a newly discovered wormhole to surpass the limitations on human space travel and conquer the vast distances involved in an interstellar voyage.',\n",
              "  'director': 'Christopher Nolan',\n",
              "  'genres': 'Adventure Drama Science Fiction',\n",
              "  'tagline': 'Mankind was born on Earth. It was never meant to die here.'},\n",
              " {'title': 'Deadpool',\n",
              "  'overview': 'Deadpool tells the origin story of former Special Forces operative turned mercenary Wade Wilson, who after being subjected to a rogue experiment that leaves him with accelerated healing powers, adopts the alter ego Deadpool. Armed with his new abilities and a dark, twisted sense of humor, Deadpool hunts down the man who nearly destroyed his life.',\n",
              "  'director': 'Tim Miller',\n",
              "  'genres': 'Action Adventure Comedy',\n",
              "  'tagline': 'Witness the beginning of a happy ending'}]"
            ]
          },
          "metadata": {},
          "execution_count": 7
        }
      ],
      "source": [
        "import json\n",
        "\n",
        "with open('./datasets/movies.json', 'r') as file:\n",
        "    movies_data = json.load(file)\n",
        "\n",
        "movies_data[:3]"
      ]
    },
    {
      "cell_type": "markdown",
      "metadata": {
        "id": "ak-wm0Kkaxq1"
      },
      "source": [
        "### 1. Generate Embeddings\n",
        "\n",
        "We will use the Together AI embedding API to generate vector representations for each movie `title` + `overview` + `tagline`."
      ]
    },
    {
      "cell_type": "code",
      "execution_count": 8,
      "metadata": {
        "id": "0CR4khxlMb2P"
      },
      "outputs": [],
      "source": [
        "# This function will be used to access the Upstage Embedding API to generate embeddings for the movie plots\n",
        "\n",
        "from typing import List\n",
        "import numpy as np\n",
        "from langchain_upstage import UpstageEmbeddings\n",
        "\n",
        "\n",
        "def generate_embeddings(input_texts: List[str]) -> List[List[float]]:\n",
        "    \"\"\"Generate embeddings from Together python library.\n",
        "\n",
        "    Args:\n",
        "        input_texts: a list of string input texts.\n",
        "        model_api_string: str. An API string for a specific embedding model of your choice.\n",
        "\n",
        "    Returns:\n",
        "        embeddings_list: a list of embeddings. Each element corresponds to the each input text.\n",
        "    \"\"\"\n",
        "    embeddings = UpstageEmbeddings(model=\"solar-embedding-1-large\")\n",
        "    embed_list = embeddings.embed_documents(input_texts)\n",
        "    return embed_list"
      ]
    },
    {
      "cell_type": "code",
      "execution_count": 9,
      "metadata": {
        "id": "oogY8HpUaxq1",
        "outputId": "37e46816-aa5f-4e97-a144-9263e7686844",
        "colab": {
          "base_uri": "https://localhost:8080/"
        }
      },
      "outputs": [
        {
          "output_type": "execute_result",
          "data": {
            "text/plain": [
              "['Minions Minions Stuart, Kevin and Bob are recruited by Scarlet Overkill, a super-villain who, alongside her inventor husband Herb, hatches a plot to take over the world. Before Gru, they had a history of bad bosses',\n",
              " 'Interstellar Interstellar chronicles the adventures of a group of explorers who make use of a newly discovered wormhole to surpass the limitations on human space travel and conquer the vast distances involved in an interstellar voyage. Mankind was born on Earth. It was never meant to die here.',\n",
              " 'Deadpool Deadpool tells the origin story of former Special Forces operative turned mercenary Wade Wilson, who after being subjected to a rogue experiment that leaves him with accelerated healing powers, adopts the alter ego Deadpool. Armed with his new abilities and a dark, twisted sense of humor, Deadpool hunts down the man who nearly destroyed his life. Witness the beginning of a happy ending',\n",
              " 'Guardians of the Galaxy Light years from Earth, 26 years after being abducted, Peter Quill finds himself the prime target of a manhunt after discovering an orb wanted by Ronan the Accuser. All heroes start somewhere.',\n",
              " \"Mad Max: Fury Road An apocalyptic story set in the furthest reaches of our planet, in a stark desert landscape where humanity is broken, and most everyone is crazed fighting for the necessities of life. Within this world exist two rebels on the run who just might be able to restore order. There's Max, a man of action and a man of few words, who seeks peace of mind following the loss of his wife and child in the aftermath of the chaos. And Furiosa, a woman of action and a woman who believes her path to survival may be achieved if she can make it across the desert back to her childhood homeland. What a Lovely Day.\",\n",
              " 'Jurassic World Twenty-two years after the events of Jurassic Park, Isla Nublar now features a fully functioning dinosaur theme park, Jurassic World, as originally envisioned by John Hammond. The park is open.',\n",
              " \"Pirates of the Caribbean: The Curse of the Black Pearl Jack Sparrow, a freewheeling 17th-century pirate who roams the Caribbean Sea, butts heads with a rival pirate bent on pillaging the village of Port Royal. When the governor's daughter is kidnapped, Sparrow decides to help the girl's love save her. But their seafaring mission is hardly simple. Prepare to be blown out of the water.\",\n",
              " 'Dawn of the Planet of the Apes A group of scientists in San Francisco struggle to stay alive in the aftermath of a plague that is wiping out humanity, while Caesar tries to maintain dominance over his community of intelligent apes. One last chance for peace.',\n",
              " 'The Hunger Games: Mockingjay - Part 1 Katniss Everdeen reluctantly becomes the symbol of a mass rebellion against the autocratic Capitol. Fire burns brighter in the darkness',\n",
              " 'Big Hero 6 The special bond that develops between plus-sized inflatable robot Baymax, and prodigy Hiro Hamada, who team up with a group of friends to form a band of high-tech heroes. From the creators of Wreck-it Ralph and Frozen']"
            ]
          },
          "metadata": {},
          "execution_count": 9
        }
      ],
      "source": [
        "# Concatenate the title, overview, and tagline of each movie\n",
        "# this makes the text that will be embedded for each movie more informative\n",
        "# as a result the embeddings will be richer and capture this information.\n",
        "to_embed = []\n",
        "for movie in movies_data[:1000]:\n",
        "    text = ''\n",
        "    for field in ['title', 'overview', 'tagline']:\n",
        "        value = movie.get(field, '')\n",
        "        text += str(value) + ' '\n",
        "    to_embed.append(text.strip())\n",
        "\n",
        "to_embed[:10]"
      ]
    },
    {
      "cell_type": "code",
      "execution_count": 10,
      "metadata": {
        "id": "PPkb_O6UNKEB"
      },
      "outputs": [],
      "source": [
        "embeddings = generate_embeddings(to_embed)"
      ]
    },
    {
      "cell_type": "code",
      "execution_count": 11,
      "metadata": {
        "colab": {
          "base_uri": "https://localhost:8080/"
        },
        "id": "K59L7q_2Noer",
        "outputId": "c05d2e34-05bc-481c-dcaa-ddec3c293c69"
      },
      "outputs": [
        {
          "output_type": "execute_result",
          "data": {
            "text/plain": [
              "4096"
            ]
          },
          "metadata": {},
          "execution_count": 11
        }
      ],
      "source": [
        "# Check the shape of each vector embedding to make sure it is 4096 dimensions\n",
        "len(embeddings[0])"
      ]
    },
    {
      "cell_type": "markdown",
      "metadata": {
        "id": "QCY0fuJOaxq2"
      },
      "source": [
        "### What does a movie vector \"look\" like?\n",
        "\n",
        "Here we visualize the vector representation the `bge-base-en-v1.5` produced for the Minions movie at index 0!"
      ]
    },
    {
      "cell_type": "code",
      "execution_count": 13,
      "metadata": {
        "colab": {
          "base_uri": "https://localhost:8080/",
          "height": 148
        },
        "id": "UIY2lTEON5hv",
        "outputId": "3a6f0bb1-ac0c-495e-a79b-74c813ccb5b8"
      },
      "outputs": [
        {
          "output_type": "display_data",
          "data": {
            "text/plain": [
              "<Figure size 1500x100 with 1 Axes>"
            ],
            "image/png": "[encoded data removed]"
          },
          "metadata": {}
        }
      ],
      "source": [
        "import matplotlib.pyplot as plt\n",
        "import numpy as np\n",
        "\n",
        "data = embeddings[0]\n",
        "\n",
        "data_2d = np.reshape(data, (1, 4096))\n",
        "\n",
        "plt.figure(figsize=(15, 1))\n",
        "# Create a heatmap with a binary colormap (black and white)\n",
        "plt.imshow(data_2d, cmap='binary', interpolation='nearest', aspect='auto')\n",
        "\n",
        "# Remove axes and ticks\n",
        "plt.xlabel('Vector Dimension')\n",
        "plt.ylabel(f\"{movies_data[0]['title']}\")\n",
        "# Show the plot\n",
        "plt.show()"
      ]
    },
    {
      "cell_type": "markdown",
      "metadata": {
        "id": "UVUp3QFWaxq2"
      },
      "source": [
        "A single vector looks alot like a barcode!\n",
        "\n",
        "In the plot above you can ignore the `y-axis`. The `x-axis` captures each dimension of the 4096 dimensional vector, the colour captures the values at each dimension.\n",
        "\n",
        "Let's visualize some more vectors to see if we can find patterns!"
      ]
    },
    {
      "cell_type": "code",
      "execution_count": 16,
      "metadata": {
        "colab": {
          "base_uri": "https://localhost:8080/",
          "height": 236
        },
        "id": "PdrGM9SjO5ZD",
        "outputId": "69d07d9d-e5b3-46b6-eade-f70e6dfbc671"
      },
      "outputs": [
        {
          "output_type": "display_data",
          "data": {
            "text/plain": [
              "<Figure size 1500x300 with 3 Axes>"
            ],
            "image/png": "[encoded data removed]"
          },
          "metadata": {}
        }
      ],
      "source": [
        "import matplotlib.pyplot as plt\n",
        "import numpy as np\n",
        "\n",
        "# Select three movie embeddings\n",
        "data1 = embeddings[0]\n",
        "data2 = embeddings[1]\n",
        "data3 = embeddings[2]\n",
        "\n",
        "# Reshape each embedding into a 2D array\n",
        "data1_2d = np.reshape(data1, (1, 4096))\n",
        "data2_2d = np.reshape(data2, (1, 4096))\n",
        "data3_2d = np.reshape(data3, (1, 4096))\n",
        "\n",
        "# Create a figure with three subplots\n",
        "fig, axs = plt.subplots(3, 1, figsize=(15, 3))\n",
        "\n",
        "# Plot each embedding as a heatmap\n",
        "axs[0].imshow(data1_2d, cmap='binary', interpolation='nearest', aspect='auto')\n",
        "axs[1].imshow(data2_2d, cmap='binary', interpolation='nearest', aspect='auto')\n",
        "axs[2].imshow(data3_2d, cmap='binary', interpolation='nearest', aspect='auto')\n",
        "\n",
        "# Set labels and titles\n",
        "axs[0].set_ylabel(f\"{movies_data[0]['title']}\")\n",
        "axs[1].set_ylabel(f\"{movies_data[1]['title']}\")\n",
        "axs[2].set_ylabel(f\"{movies_data[2]['title']}\")\n",
        "axs[2].set_xlabel('Vector Dimension')\n",
        "\n",
        "# Remove ticks\n",
        "for ax in axs:\n",
        "    ax.set_xticks([])\n",
        "    ax.set_yticks([])\n",
        "\n",
        "# Layout so plots do not overlap\n",
        "fig.tight_layout()\n",
        "\n",
        "# Show the plot\n",
        "plt.show()"
      ]
    },
    {
      "cell_type": "markdown",
      "metadata": {
        "id": "poAg_XAaaxq2"
      },
      "source": [
        "The vectors for the three movies above capture the semantics of the movie title + overview + tagline!\n",
        "\n",
        "When trying to understand what a vector looks like it better to look at the overall pattern of the barcode as opposed to asking what each line in the barcode means. Each line in the barcode might not have a human understandable meaning - experts don't yet understand how each bar contributes to capturing the overall meaning of the movie!\n",
        "\n",
        "Next let's visualize the user query!"
      ]
    },
    {
      "cell_type": "markdown",
      "metadata": {
        "id": "itsXoLxraxq2"
      },
      "source": [
        "## 2. Vectorize the User Query\n",
        "\n",
        "In this case the user is interested in `query` = `super hero action movie with a timeline twist` and so we want to rank our dataset of 1000 movies such that relevant movies are at the top of the list we send to this user."
      ]
    },
    {
      "cell_type": "code",
      "execution_count": 17,
      "metadata": {
        "id": "SCmko0YXaxq3",
        "outputId": "be3a15c1-4f14-492f-9189-6fdc60515fa3",
        "colab": {
          "base_uri": "https://localhost:8080/",
          "height": 148
        }
      },
      "outputs": [
        {
          "output_type": "display_data",
          "data": {
            "text/plain": [
              "<Figure size 1500x100 with 1 Axes>"
            ],
            "image/png": "[encoded data removed]"
          },
          "metadata": {}
        }
      ],
      "source": [
        "query = \"super hero action movie with a timeline twist\"\n",
        "\n",
        "query_embedding = generate_embeddings([query])[0]\n",
        "\n",
        "data_2d = np.reshape(query_embedding, (1, 4096))\n",
        "\n",
        "plt.figure(figsize=(15, 1))\n",
        "# Create a heatmap with a binary colormap (black and white)\n",
        "plt.imshow(data_2d, cmap='binary', interpolation='nearest', aspect='auto')\n",
        "\n",
        "# Remove axes and ticks\n",
        "plt.xlabel('Vector Dimension')\n",
        "plt.ylabel(\"query\")\n",
        "# Show the plot\n",
        "plt.show()"
      ]
    },
    {
      "cell_type": "markdown",
      "metadata": {
        "id": "Jzauwp2faxq3"
      },
      "source": [
        "The `query` vector also looks like a barcode.\n",
        "\n",
        "The problem of solving which movie is most semantically similar to the user query is the same as asking which movie vector/barcode \"looks\" most similar to the query vector/barcode!"
      ]
    },
    {
      "cell_type": "markdown",
      "metadata": {
        "id": "BmOt4oWsaxq3"
      },
      "source": [
        "## 3. Compute Distance between Query and Movie Vectors\n",
        "\n",
        "Here we will use the cosine similarity metric to identify which movie vectors are closest to the query vector. Intuitively think of this step as matching the qeury barcode to the movie barcodes to find the best match!"
      ]
    },
    {
      "cell_type": "code",
      "execution_count": 18,
      "metadata": {
        "id": "pCq1sU8kQ8WP"
      },
      "outputs": [],
      "source": [
        "from sklearn.metrics.pairwise import cosine_similarity\n",
        "\n",
        "# This function will produce a list of cosine similarity scores between the query embedding and the movie embeddings\n",
        "similarity_scores = cosine_similarity([query_embedding], embeddings)"
      ]
    },
    {
      "cell_type": "code",
      "execution_count": 19,
      "metadata": {
        "id": "eF4MrqJraxq3",
        "outputId": "005c8b80-28b8-4f28-f4d1-f5d908f7f567",
        "colab": {
          "base_uri": "https://localhost:8080/"
        }
      },
      "outputs": [
        {
          "output_type": "execute_result",
          "data": {
            "text/plain": [
              "(1, 1000)"
            ]
          },
          "metadata": {},
          "execution_count": 19
        }
      ],
      "source": [
        "# We get a cosine similarity score for each one of the 1000 movie embeddings\n",
        "similarity_scores.shape"
      ]
    },
    {
      "cell_type": "code",
      "execution_count": 20,
      "metadata": {
        "id": "3q-isxnBaxq3",
        "outputId": "8158b073-4af9-4a16-9259-58f73301f13f",
        "colab": {
          "base_uri": "https://localhost:8080/"
        }
      },
      "outputs": [
        {
          "output_type": "execute_result",
          "data": {
            "text/plain": [
              "array([0.41844285, 0.42472354, 0.46951252, 0.4608487 , 0.42757719,\n",
              "       0.3680335 , 0.44847033, 0.42090551, 0.41408895, 0.4494984 ])"
            ]
          },
          "metadata": {},
          "execution_count": 20
        }
      ],
      "source": [
        "# Cosine similarity goes from -1 to 1, where 1 means the vectors are identical and -1 means they are opposite.\n",
        "similarity_scores[0, :10]"
      ]
    },
    {
      "cell_type": "markdown",
      "metadata": {
        "id": "-XWb4i_Eaxq3"
      },
      "source": [
        "## 4. Sort Movies based on Semantic Similarity\n",
        "\n",
        "We want to organize our list of 1000 movies from most to least relevant to the query. We can do this by sorting the above `similarity_scores` array."
      ]
    },
    {
      "cell_type": "code",
      "execution_count": 21,
      "metadata": {
        "id": "o8bFIR5Oaxq3",
        "outputId": "100d452c-bf5c-4c13-a8be-a86b812e50dd",
        "colab": {
          "base_uri": "https://localhost:8080/"
        }
      },
      "outputs": [
        {
          "output_type": "stream",
          "name": "stdout",
          "text": [
            "[[977  49 535 227 187  52  76 590 319 185 834 265  17 349 944 701 490 613\n",
            "  723 812 295 366  36 195 328  94 174 973 188 543 372 217 487 268 291 924\n",
            "  115 374 519 530 191 524 149  22 990 131 119 815 145 211 546 180 788 952\n",
            "  312 305 344 688 828  11 542 204 822  50 842 176 585 827 358 638   2 224\n",
            "  871 209 768 865 474 904  18 321 626 750  67  47  25 890  55 893 515 472\n",
            "  752  93  58 116 867 429   3 296 839 482  28 205 943 661 400 325 170 927\n",
            "  655 129 147 468 690 595  20 222 166 425 197 912 424 964 420  60 580 555\n",
            "  285 999 570 920 238  13 385 106 766 683 606 203 317 844 206 915 820   9\n",
            "  173 783  87 478  62 900   6 331 737 773 501 214  26 991 495 477 357 817\n",
            "  636 676 292  33 263 997 394 862 172  38 681 777 467 908 816 938 669 658\n",
            "  184 298 343 730 199 347 308 759 365 813 940 207  81 460 706 194 969 406\n",
            "  526 680 231 615 163 335 450 627 497 961 949 966 511 288 430 134 463 560\n",
            "  726 650 941 252 675 897 632 419  35 592 761 573 821 376 527 500 677 946\n",
            "  746 462  98 891 795 621 648 599 600  43 245 387 611 256  10 457 620 504\n",
            "  154 380 965 850 415 780 339 765 502 388 950 346 654 486 604 422 114 233\n",
            "  352 516 757   4  29 493  23 323 414 315 489 370 962 958 554 193 838 696\n",
            "  596 219  19 413 800  88 506 876 887 678 602 644 561 616 153 284 809   1\n",
            "  189 798 466 434 137 831 916  24 992 367 663 872 806 689 718 155 775 229\n",
            "  316 399 345 635 659 637   7 959 673 803 353 510 329 982 508 136 383 198\n",
            "  261 588 672 558 401 716 709 879 269 449 192 745 148 320 721   0 104 660\n",
            "  986 289 667 249 853 138 278 550 101 794 967  39 735 574 551  77 576 259\n",
            "  715 254 597 216 951 293 251 910 179 892 639 151 549 810 863 160 936 700\n",
            "  610 649 935 273 929 835   8 158 250 221 776 361 666 668  84 382 789  79\n",
            "  248 642 933 845  59 350  99 682 762 917 618  70 911  80 471 895 764 993\n",
            "  804 337 886 324 859 624 572 459 514 980  57 105 182 257 894 409  15 521\n",
            "  476 342 146 304 694 411  44 571 785 832 625 499 111 760 633 412 686 244\n",
            "  903 157 454 870 135 769 679 143 156 913 727 747 564 598 338 847 622 140\n",
            "  271 536 932 928 125 239 905 880 751 363 565 984 518 874  34 748 297 356\n",
            "  266 283 455 168  92  91 755 855 947 169 311 232 107 384 503 464 124  12\n",
            "  787 522 533 754 196 130 826 739 664  82 377 552 577 139 410 113 805 704\n",
            "  808 177 186 854 956  74 988 629 830  97 423 594 695 212  14 758 710 448\n",
            "  968 634 465 270 274 567 456 540 603 120 591 662  21 811 547 390 407 117\n",
            "  340 443 692  41 109 883 744 772 976 309 612 888 797 122 843 711 896 276\n",
            "  640 878 975 128 557 763 979 957 112  31 861 483 178 242 461 544 234 725\n",
            "  575 699 226 819 857 517  53 841 833 960 336 829 767 310 427 720 102 348\n",
            "  670 452 445 864 444 498  54 327 262 509 866 485 183 791 528 165 882 302\n",
            "  674 167 416 541 513 417 228 341 279 714  63 553 381 290 877 479 426 647\n",
            "  281 396 334 529 150 651 275 909  68 641 719 784 200 589 921 392 563 127\n",
            "  818 703 849 494 458 421 451  32 731 569 645 523 433  86 175 371 475 691\n",
            "  307 235 525 220 118 869  66 734 391 954  85 793 851 802 868 437 926 538\n",
            "  685 628 133 431  51 824 702 161 246  75 584 732 264 953 837 848 998 473\n",
            "  152 697 441 373 579 792 282 435  78 354 141 255 395 108 771 578 889 272\n",
            "  881 240 402 397 539 653 942 885 922 970 313 646 223 687 326 447 779 708\n",
            "  492 756 355 286  56 301  16 707 907 218 742 609 404 368 159 162  71 724\n",
            "  359 605 330 432 741 405 623 562 237 717  46 945 619 586 208 712 852 241\n",
            "  484 243  61 505 770 782 985 733 840 781 303   5  42 488 875 225 786 142\n",
            "  559 918 439 481 126 738 379 512 294 981 201 856 469  30 408 164  69 215\n",
            "  931 836 607 398 972 531 362 364 333 210 814 418 300 287 440 858 825 213\n",
            "   37 774 583 656 230 453 470 351 534 684  96 740 280 987 446 614 587 884\n",
            "  963 698 306 899 428 260 823 548 314 807 955 202 729 736 442 593 121  89\n",
            "  537 923 728 898 318  45 299 236 378 532 393 925 657 906 902 652 934 948\n",
            "  799 914 507 581 369 989 693 520 438  64  48 556 630 389 247 971 983 671\n",
            "  801  27 103 491 974 796 919 631 994 743 930 100 332 873 277  72 360 790\n",
            "  860 978 253 386 601 643 566 436 123 144 375 190 545  73 939 996 937 258\n",
            "  181  83 480 722 110 901  90 267 846 995 713 753 171 617 496 749  65 568\n",
            "  778 403 132 322 665 582  95  40 608 705]]\n"
          ]
        }
      ],
      "source": [
        "# Get the indices of the highest to lowest cosine similarity values\n",
        "# This tell use which movies are most similar to the query\n",
        "\n",
        "# Lookin at the results below we see that the movie at index 172 is the most similar to the query!\n",
        "indices = np.argsort(-similarity_scores)\n",
        "\n",
        "print(indices)"
      ]
    },
    {
      "cell_type": "code",
      "execution_count": 22,
      "metadata": {
        "id": "mjiYiO0-axq3",
        "outputId": "b2358728-f834-44fa-a8d4-8355f2486f89",
        "colab": {
          "base_uri": "https://localhost:8080/"
        }
      },
      "outputs": [
        {
          "output_type": "execute_result",
          "data": {
            "text/plain": [
              "['Project Almanac',\n",
              " 'Iron Man',\n",
              " 'Looper',\n",
              " 'Megamind',\n",
              " 'Captain America: The First Avenger',\n",
              " 'X-Men: Days of Future Past',\n",
              " 'The Matrix',\n",
              " 'Knight and Day',\n",
              " 'The Curious Case of Benjamin Button',\n",
              " 'About Time']"
            ]
          },
          "metadata": {},
          "execution_count": 22
        }
      ],
      "source": [
        "top_10_sorted_titles = [movies_data[index]['title'] for index in indices[0]][:10]\n",
        "\n",
        "top_10_sorted_titles"
      ]
    },
    {
      "cell_type": "markdown",
      "metadata": {
        "id": "9G8qb5ucaxq3"
      },
      "source": [
        "Here we can see the list of top ten movies most similar to the query(`super hero action movie with a timeline twist`), according to vector embeddings.\n",
        "Notice that most of these movies have something to do with the query. Some are super hero movies, some are action movies and others have a timeline twist - we get very few false positives(movies that have nothing to do with anything in the query).\n",
        "\n",
        "Semantic similarity gives us a fuzzy way to sort our dataset based on how similar the objects are to a given query!\n"
      ]
    }
  ],
  "metadata": {
    "colab": {
      "provenance": [],
      "include_colab_link": true
    },
    "kernelspec": {
      "display_name": "Python 3",
      "name": "python3"
    },
    "language_info": {
      "name": "python"
    }
  },
  "nbformat": 4,
  "nbformat_minor": 0
}