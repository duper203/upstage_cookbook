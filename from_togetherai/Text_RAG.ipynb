{
  "cells": [
    {
      "cell_type": "markdown",
      "metadata": {
        "id": "view-in-github",
        "colab_type": "text"
      },
      "source": [
        "<a href=\"https://colab.research.google.com/github/duper203/upstage_cookbook/blob/main/from_togetherai/Text_RAG.ipynb\" target=\"_parent\"><img src=\"https://colab.research.google.com/assets/colab-badge.svg\" alt=\"Open In Colab\"/></a>"
      ]
    },
    {
      "cell_type": "markdown",
      "metadata": {
        "id": "m3ub-6zwioD7"
      },
      "source": [
        "# Retrieval-Augmented Generation (RAG) with Llama3 8B\n",
        "[![Open In Colab](https://colab.research.google.com/assets/colab-badge.svg)](https://colab.research.google.com/github/togethercomputer/together-cookbook/blob/main/Text_RAG.ipynb)"
      ]
    },
    {
      "cell_type": "markdown",
      "metadata": {
        "id": "CZBuvYsVioD8"
      },
      "source": [
        "## Introduction\n",
        "\n",
        "For AI models to be effective in specialized tasks, they often require domain-specific knowledge. For instance, a financial advisory chatbot needs to understand market trends and products offered by a specific bank, while an AI legal assistant must be equipped with knowledge of statutes, regulations, and past case law.\n",
        "\n",
        "A common solution is Retrieval-Augmented Generation (RAG), which retrieves relevant data from a knowledge base and combines it with the user’s prompt, thereby improving and customizing the model's output to the provided data.\n",
        "\n",
        "<img src=\"https://github.com/togethercomputer/together-cookbook/blob/main/images/simple_RAG.png?raw=1\" width=\"500\">"
      ]
    },
    {
      "cell_type": "markdown",
      "metadata": {
        "id": "10WF_8hnioD9"
      },
      "source": [
        "## RAG Explanation\n",
        "\n",
        "RAG operates by preprocessing a large knowledge base and dynamically retrieving relevant information at runtime.\n",
        "\n",
        "Here's a breakdown of the process:\n",
        "\n",
        "1. Indexing the Knowledge Base:\n",
        "The corpus (collection of documents) is divided into smaller, manageable chunks of text. Each chunk is converted into a vector embedding using an embedding model. These embeddings are stored in a vector database optimized for similarity searches.\n",
        "\n",
        "2. Query Processing and Retrieval:\n",
        "When a user submits a prompt that would initially go directly to a LLM we process that and extract a query, the system searches the vector database for chunks semantically similar to the query. The most relevant chunks are retrieved and injected into the prompt sent to the generative AI model.\n",
        "\n",
        "3. Response Generation:\n",
        "The AI model then uses the retrieved information along with its pre-trained knowledge to generate a response. Not only does this reduce the likelihood of hallucination since relevant context is provided directly in the prompt but it also allows us to cite to source material as well.\n",
        "\n",
        "<img src=\"https://github.com/togethercomputer/together-cookbook/blob/main/images/text_RAG.png?raw=1\" width=\"750\">"
      ]
    },
    {
      "cell_type": "markdown",
      "metadata": {
        "id": "2a36WZVuioD9"
      },
      "source": [
        "### Install libraries"
      ]
    },
    {
      "cell_type": "code",
      "execution_count": null,
      "metadata": {
        "id": "ubSQgZNalImb"
      },
      "outputs": [],
      "source": [
        "!pip install -qU openai langchain-upstage"
      ]
    },
    {
      "cell_type": "code",
      "execution_count": 3,
      "metadata": {
        "id": "YO3t0PAHlpaE"
      },
      "outputs": [],
      "source": [
        "import os\n",
        "from google.colab import userdata\n",
        "os.environ[\"UPSTAGE_API_KEY\"] = userdata.get(\"UPSTAGE_API_KEY\")"
      ]
    },
    {
      "cell_type": "markdown",
      "metadata": {
        "id": "S_KJeqdGioEB"
      },
      "source": [
        "### Download and View the Dataset"
      ]
    },
    {
      "cell_type": "code",
      "execution_count": 5,
      "metadata": {
        "colab": {
          "base_uri": "https://localhost:8080/"
        },
        "id": "DTzq9WHXioEB",
        "outputId": "c39c849f-bb5f-463b-ebd1-e67a3d7651e3"
      },
      "outputs": [
        {
          "output_type": "stream",
          "name": "stdout",
          "text": [
            "--2024-10-24 17:21:33--  https://raw.githubusercontent.com/togethercomputer/together-cookbook/refs/heads/main/datasets/movies.json\n",
            "Resolving raw.githubusercontent.com (raw.githubusercontent.com)... 185.199.108.133, 185.199.109.133, 185.199.110.133, ...\n",
            "Connecting to raw.githubusercontent.com (raw.githubusercontent.com)|185.199.108.133|:443... connected.\n",
            "HTTP request sent, awaiting response... 200 OK\n",
            "Length: 461845 (451K) [text/plain]\n",
            "Saving to: ‘movies.json’\n",
            "\n",
            "movies.json         100%[===================>] 451.02K  --.-KB/s    in 0.06s   \n",
            "\n",
            "2024-10-24 17:21:34 (7.20 MB/s) - ‘movies.json’ saved [461845/461845]\n",
            "\n",
            "mkdir: cannot create directory ‘datasets’: File exists\n"
          ]
        }
      ],
      "source": [
        "# Let's get the movies dataset\n",
        "!wget https://raw.githubusercontent.com/togethercomputer/together-cookbook/refs/heads/main/datasets/movies.json\n",
        "!mkdir datasets\n",
        "!mv movies.json datasets/movies.json"
      ]
    },
    {
      "cell_type": "code",
      "execution_count": 4,
      "metadata": {
        "colab": {
          "base_uri": "https://localhost:8080/"
        },
        "id": "2croRfETmD0s",
        "outputId": "c63c722e-3ca9-46ec-a36d-041d79969258"
      },
      "outputs": [
        {
          "output_type": "execute_result",
          "data": {
            "text/plain": [
              "[{'title': 'Minions',\n",
              "  'overview': 'Minions Stuart, Kevin and Bob are recruited by Scarlet Overkill, a super-villain who, alongside her inventor husband Herb, hatches a plot to take over the world.',\n",
              "  'director': 'Kyle Balda',\n",
              "  'genres': 'Family Animation Adventure Comedy',\n",
              "  'tagline': 'Before Gru, they had a history of bad bosses'},\n",
              " {'title': 'Interstellar',\n",
              "  'overview': 'Interstellar chronicles the adventures of a group of explorers who make use of a newly discovered wormhole to surpass the limitations on human space travel and conquer the vast distances involved in an interstellar voyage.',\n",
              "  'director': 'Christopher Nolan',\n",
              "  'genres': 'Adventure Drama Science Fiction',\n",
              "  'tagline': 'Mankind was born on Earth. It was never meant to die here.'},\n",
              " {'title': 'Deadpool',\n",
              "  'overview': 'Deadpool tells the origin story of former Special Forces operative turned mercenary Wade Wilson, who after being subjected to a rogue experiment that leaves him with accelerated healing powers, adopts the alter ego Deadpool. Armed with his new abilities and a dark, twisted sense of humor, Deadpool hunts down the man who nearly destroyed his life.',\n",
              "  'director': 'Tim Miller',\n",
              "  'genres': 'Action Adventure Comedy',\n",
              "  'tagline': 'Witness the beginning of a happy ending'}]"
            ]
          },
          "metadata": {},
          "execution_count": 4
        }
      ],
      "source": [
        "import json\n",
        "\n",
        "with open('datasets/movies.json', 'r') as file:\n",
        "    movies_data = json.load(file)\n",
        "\n",
        "movies_data[:3]"
      ]
    },
    {
      "cell_type": "markdown",
      "metadata": {
        "id": "r0YOTls_ioEC"
      },
      "source": [
        "## Implement Retreival Pipeline - \"R\" part of RAG\n",
        "\n",
        "Below we implement a simple retreival pipeline:\n",
        "1. Embed movie documents + query\n",
        "2. Obtain top k movies ranked based on cosine similarities between the query and movie vectors."
      ]
    },
    {
      "cell_type": "code",
      "execution_count": 7,
      "metadata": {
        "id": "I0o-ZpaDlsgZ"
      },
      "outputs": [],
      "source": [
        "# This function will be used to access the Upstage Embedding API to generate embeddings for the movie plots\n",
        "\n",
        "from typing import List\n",
        "import numpy as np\n",
        "from langchain_upstage import UpstageEmbeddings\n",
        "\n",
        "\n",
        "def generate_embeddings(input_texts: List[str]) -> List[List[float]]:\n",
        "    \"\"\"Generate embeddings from Together python library.\n",
        "\n",
        "    Args:\n",
        "        input_texts: a list of string input texts.\n",
        "        model_api_string: str. An API string for a specific embedding model of your choice.\n",
        "\n",
        "    Returns:\n",
        "        embeddings_list: a list of embeddings. Each element corresponds to the each input text.\n",
        "    \"\"\"\n",
        "    embeddings = UpstageEmbeddings(model=\"solar-embedding-1-large\")\n",
        "    embed_list = embeddings.embed_documents(input_texts)\n",
        "    return embed_list"
      ]
    },
    {
      "cell_type": "code",
      "execution_count": 8,
      "metadata": {
        "colab": {
          "base_uri": "https://localhost:8080/"
        },
        "id": "uwk2bwNGl84p",
        "outputId": "dfe6f651-7913-42c4-c2e6-54707bd47799"
      },
      "outputs": [
        {
          "output_type": "execute_result",
          "data": {
            "text/plain": [
              "['Minions Minions Stuart, Kevin and Bob are recruited by Scarlet Overkill, a super-villain who, alongside her inventor husband Herb, hatches a plot to take over the world. Before Gru, they had a history of bad bosses',\n",
              " 'Interstellar Interstellar chronicles the adventures of a group of explorers who make use of a newly discovered wormhole to surpass the limitations on human space travel and conquer the vast distances involved in an interstellar voyage. Mankind was born on Earth. It was never meant to die here.',\n",
              " 'Deadpool Deadpool tells the origin story of former Special Forces operative turned mercenary Wade Wilson, who after being subjected to a rogue experiment that leaves him with accelerated healing powers, adopts the alter ego Deadpool. Armed with his new abilities and a dark, twisted sense of humor, Deadpool hunts down the man who nearly destroyed his life. Witness the beginning of a happy ending',\n",
              " 'Guardians of the Galaxy Light years from Earth, 26 years after being abducted, Peter Quill finds himself the prime target of a manhunt after discovering an orb wanted by Ronan the Accuser. All heroes start somewhere.',\n",
              " \"Mad Max: Fury Road An apocalyptic story set in the furthest reaches of our planet, in a stark desert landscape where humanity is broken, and most everyone is crazed fighting for the necessities of life. Within this world exist two rebels on the run who just might be able to restore order. There's Max, a man of action and a man of few words, who seeks peace of mind following the loss of his wife and child in the aftermath of the chaos. And Furiosa, a woman of action and a woman who believes her path to survival may be achieved if she can make it across the desert back to her childhood homeland. What a Lovely Day.\",\n",
              " 'Jurassic World Twenty-two years after the events of Jurassic Park, Isla Nublar now features a fully functioning dinosaur theme park, Jurassic World, as originally envisioned by John Hammond. The park is open.',\n",
              " \"Pirates of the Caribbean: The Curse of the Black Pearl Jack Sparrow, a freewheeling 17th-century pirate who roams the Caribbean Sea, butts heads with a rival pirate bent on pillaging the village of Port Royal. When the governor's daughter is kidnapped, Sparrow decides to help the girl's love save her. But their seafaring mission is hardly simple. Prepare to be blown out of the water.\",\n",
              " 'Dawn of the Planet of the Apes A group of scientists in San Francisco struggle to stay alive in the aftermath of a plague that is wiping out humanity, while Caesar tries to maintain dominance over his community of intelligent apes. One last chance for peace.',\n",
              " 'The Hunger Games: Mockingjay - Part 1 Katniss Everdeen reluctantly becomes the symbol of a mass rebellion against the autocratic Capitol. Fire burns brighter in the darkness',\n",
              " 'Big Hero 6 The special bond that develops between plus-sized inflatable robot Baymax, and prodigy Hiro Hamada, who team up with a group of friends to form a band of high-tech heroes. From the creators of Wreck-it Ralph and Frozen']"
            ]
          },
          "metadata": {},
          "execution_count": 8
        }
      ],
      "source": [
        "# Concatenate the title, overview, and tagline of each movie\n",
        "# this makes the text that will be embedded for each movie more informative\n",
        "# as a result the embeddings will be richer and capture this information.\n",
        "\n",
        "to_embed = []\n",
        "for movie in movies_data[:1000]:\n",
        "    text = ''\n",
        "    for field in ['title', 'overview', 'tagline']:\n",
        "        value = movie.get(field, '')\n",
        "        text += str(value) + ' '\n",
        "    to_embed.append(text.strip())\n",
        "\n",
        "to_embed[:10]"
      ]
    },
    {
      "cell_type": "code",
      "execution_count": 9,
      "metadata": {
        "id": "QMqmezr8mCUG"
      },
      "outputs": [],
      "source": [
        "# Use bge-base-en-v1.5 model to generate embeddings\n",
        "embeddings = generate_embeddings(to_embed)"
      ]
    },
    {
      "cell_type": "code",
      "execution_count": 10,
      "metadata": {
        "id": "g1HTX3bGmYCk"
      },
      "outputs": [],
      "source": [
        "# Generate the vector embeddings for the query\n",
        "query = \"super hero action movie with a timeline twist\"\n",
        "\n",
        "query_embedding = generate_embeddings([query])[0]"
      ]
    },
    {
      "cell_type": "code",
      "execution_count": 11,
      "metadata": {
        "id": "eqQe4VsBmp7w"
      },
      "outputs": [],
      "source": [
        "from sklearn.metrics.pairwise import cosine_similarity\n",
        "\n",
        "# Calculate cosine similarity between the query embedding and each movie embedding\n",
        "similarity_scores = cosine_similarity([query_embedding], embeddings)"
      ]
    },
    {
      "cell_type": "code",
      "execution_count": 12,
      "metadata": {
        "colab": {
          "base_uri": "https://localhost:8080/"
        },
        "id": "coKcFNlzmsrh",
        "outputId": "77fad580-89e0-4cbd-c348-732966c9b895"
      },
      "outputs": [
        {
          "output_type": "execute_result",
          "data": {
            "text/plain": [
              "(1, 1000)"
            ]
          },
          "metadata": {},
          "execution_count": 12
        }
      ],
      "source": [
        "# We get a similarity score for each of our 1000 movies - the higher the score, the more similar the movie is to the query\n",
        "similarity_scores.shape"
      ]
    },
    {
      "cell_type": "code",
      "execution_count": 13,
      "metadata": {
        "id": "0rvxmdvKmuhY"
      },
      "outputs": [],
      "source": [
        "# Get the indices of the highest to lowest values\n",
        "indices = np.argsort(-similarity_scores)"
      ]
    },
    {
      "cell_type": "code",
      "source": [
        "indices[0][:5]"
      ],
      "metadata": {
        "colab": {
          "base_uri": "https://localhost:8080/"
        },
        "id": "IWc8JUZYrCEi",
        "outputId": "0fbe3edf-1121-46f5-fff2-7a6cdb7711e8"
      },
      "execution_count": 21,
      "outputs": [
        {
          "output_type": "execute_result",
          "data": {
            "text/plain": [
              "array([977,  49, 535, 227, 187])"
            ]
          },
          "metadata": {},
          "execution_count": 21
        }
      ]
    },
    {
      "cell_type": "code",
      "execution_count": 14,
      "metadata": {
        "colab": {
          "base_uri": "https://localhost:8080/"
        },
        "id": "3m0zGxlLm1Zp",
        "outputId": "6b02431d-eb09-4e7b-ac32-bfcb966cbf1d"
      },
      "outputs": [
        {
          "output_type": "execute_result",
          "data": {
            "text/plain": [
              "['Project Almanac',\n",
              " 'Iron Man',\n",
              " 'Looper',\n",
              " 'Megamind',\n",
              " 'Captain America: The First Avenger',\n",
              " 'X-Men: Days of Future Past',\n",
              " 'The Matrix',\n",
              " 'Knight and Day',\n",
              " 'The Curious Case of Benjamin Button',\n",
              " 'About Time']"
            ]
          },
          "metadata": {},
          "execution_count": 14
        }
      ],
      "source": [
        "top_10_sorted_titles = [movies_data[index]['title'] for index in indices[0]][:10]\n",
        "\n",
        "top_10_sorted_titles"
      ]
    },
    {
      "cell_type": "markdown",
      "metadata": {
        "id": "PRnZNN93ioED"
      },
      "source": [
        "### Retreiver Function\n",
        "\n",
        "Once we understand the steps in the retriever pipeline above we can simplify it into the function below."
      ]
    },
    {
      "cell_type": "code",
      "execution_count": 15,
      "metadata": {
        "id": "R6GLqD9_m2WN"
      },
      "outputs": [],
      "source": [
        "def retreive(query: str, top_k: int = 5, index: np.ndarray = None) -> List[int]:\n",
        "    \"\"\"\n",
        "    Retrieve the top-k most similar items from an index based on a query.\n",
        "    Args:\n",
        "        query (str): The query string to search for.\n",
        "        top_k (int, optional): The number of top similar items to retrieve. Defaults to 5.\n",
        "        index (np.ndarray, optional): The index array containing embeddings to search against. Defaults to None.\n",
        "    Returns:\n",
        "        List[int]: A list of indices corresponding to the top-k most similar items in the index.\n",
        "    \"\"\"\n",
        "\n",
        "    query_embedding = generate_embeddings([query])[0]\n",
        "    similarity_scores = cosine_similarity([query_embedding], index)\n",
        "\n",
        "    return np.argsort(-similarity_scores)[0][:top_k]"
      ]
    },
    {
      "cell_type": "code",
      "execution_count": 16,
      "metadata": {
        "colab": {
          "base_uri": "https://localhost:8080/"
        },
        "id": "gJ989oVqnrW-",
        "outputId": "bf6852b9-a5b7-4768-d115-57d65cb2f2e6"
      },
      "outputs": [
        {
          "output_type": "execute_result",
          "data": {
            "text/plain": [
              "array([977,  49, 535, 227, 187])"
            ]
          },
          "metadata": {},
          "execution_count": 16
        }
      ],
      "source": [
        "retreive(\"super hero action movie with a timeline twist\", top_k=5, index = embeddings)"
      ]
    },
    {
      "cell_type": "markdown",
      "metadata": {
        "id": "oKDgQQltioED"
      },
      "source": [
        "## Generation Step - \"G\" part of RAG\n",
        "\n",
        "Below we will inject/augment the information the retreival pipeline extracts into the prompt to the Upstage Solar-pro Model.\n",
        "\n",
        "This will help guide the generation by grounding it from facts in our knowledge base!"
      ]
    },
    {
      "cell_type": "code",
      "execution_count": 17,
      "metadata": {
        "id": "YLoZYcx9nvAZ"
      },
      "outputs": [],
      "source": [
        "# Extract out the titles and overviews of the top 10 most similar movies\n",
        "titles = [movies_data[index]['title'] for index in indices[0]][:10]\n",
        "overviews = [movies_data[index]['overview'] for index in indices[0]][:10]"
      ]
    },
    {
      "cell_type": "code",
      "execution_count": 18,
      "metadata": {
        "colab": {
          "base_uri": "https://localhost:8080/"
        },
        "id": "gTuUW3HOn_AA",
        "outputId": "b812af1b-bc47-492b-ed0a-aebbc5952636"
      },
      "outputs": [
        {
          "output_type": "stream",
          "name": "stdout",
          "text": [
            "Once upon a time, in a world where time travel was both a gift and a curse, a group of teens stumbled upon the secret plans of a time machine. They were inspired by the legendary tales of Iron Man, Captain America, and other heroes who had used advanced technology to change the course of history. The teens, led by the brilliant but bumbling genius, Megamind Jr., decided to construct their own time machine.\n",
            "\n",
            "As they activated the machine, they were transported to a future where time travel was illegal, and loopers like Joe existed to eliminate targets sent back in time. The teens found themselves caught in a web of deceit and danger, with their own future selves seeking to eliminate them to protect their timeline.\n",
            "\n",
            "In their desperate attempt to survive, they met a mysterious hacker who introduced them to the world of The Matrix, where a computer hacker and his allies fought against the ruling computers. The hacker, who called himself Time, revealed that the teens' actions had caused a ripple effect, threatening the very fabric of time itself.\n",
            "\n",
            "With the help of Time and a group of X-Men from different time periods, the teens embarked on a mission to restore the timeline. Along the way, they encountered a curious case of a man named Benjamin Button Jr., who aged backwards and had vital information about the origin of the time machine.\n",
            "\n",
            "As they raced against time, they met a couple named Knight and Day, who had been on a similar journey, trying to find their place in a world where trust was a rare commodity. The couple shared their wisdom and helped the teens understand the true power of time travel.\n",
            "\n",
            "In the end, the teens realized that they couldn't change history but could learn from it. They used their knowledge to create a better future, just like Tim from \"About Time\" who learned that changing the past wasn't as important as making the most of the present. And so, the teens returned to their time, forever changed by their adventure, and vowed to use their newfound wisdom to make a positive impact on the world.\n"
          ]
        }
      ],
      "source": [
        "from openai import OpenAI\n",
        "client = OpenAI(\n",
        "        api_key=os.environ[\"UPSTAGE_API_KEY\"],\n",
        "        base_url=\"https://api.upstage.ai/v1/solar\"\n",
        "    )\n",
        "\n",
        "response = client.chat.completions.create(\n",
        "    model=\"solar-pro\",\n",
        "    messages=[\n",
        "      {\"role\": \"system\", \"content\": \"You are a pulitzer award winning craftful story teller. Given only the overview of different plots you can weave together an interesting storyline.\"},\n",
        "      {\"role\": \"user\", \"content\": f\"Tell me a story about {titles}. Here is some information about them {overviews}\"},\n",
        "    ],\n",
        ")\n",
        "\n",
        "print(response.choices[0].message.content)"
      ]
    },
    {
      "cell_type": "markdown",
      "metadata": {
        "id": "V7YM-O22ioEE"
      },
      "source": [
        "Here we can see a simple RAG pipeline where we use semantic search to perform retreival and pass relevant information into the prompt of a LLM to condition its generation.\n"
      ]
    }
  ],
  "metadata": {
    "colab": {
      "provenance": [],
      "include_colab_link": true
    },
    "kernelspec": {
      "display_name": "Python 3",
      "name": "python3"
    },
    "language_info": {
      "name": "python"
    }
  },
  "nbformat": 4,
  "nbformat_minor": 0
}