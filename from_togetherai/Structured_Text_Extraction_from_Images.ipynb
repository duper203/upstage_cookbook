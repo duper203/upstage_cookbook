{
  "cells": [
    {
      "cell_type": "markdown",
      "metadata": {
        "id": "view-in-github",
        "colab_type": "text"
      },
      "source": [
        "<a href=\"https://colab.research.google.com/github/duper203/upstage_cookbook/blob/main/Structured_Text_Extraction_from_Images.ipynb\" target=\"_parent\"><img src=\"https://colab.research.google.com/assets/colab-badge.svg\" alt=\"Open In Colab\"/></a>"
      ]
    },
    {
      "cell_type": "markdown",
      "metadata": {
        "id": "_x94xNsKxJfR"
      },
      "source": [
        "# Extracting Structured Data from Images\n",
        "[![Open In Colab](https://colab.research.google.com/assets/colab-badge.svg)](https://colab.research.google.com/github/togethercomputer/together-cookbook/blob/main/Structured_Text_Extraction_from_Images.ipynb)"
      ]
    },
    {
      "cell_type": "markdown",
      "metadata": {
        "id": "xaDrDPQdxJfS"
      },
      "source": [
        "## Introduction\n",
        "\n",
        "In this notebook we will demonstrate how you can use a language vision model(Llama 3.2 90B Vision) along with an LLM that has JSON mode enabled(Llama 3.1 70B) to extract structured text from images.\n",
        "\n",
        "In our case we will extract line items from an invoice in the form of a JSON.\n",
        "\n",
        "<img src=\"https://github.com/togethercomputer/together-cookbook/blob/main/images/structured_text_image.png?raw=1\" width=\"750\">\n"
      ]
    },
    {
      "cell_type": "markdown",
      "metadata": {
        "id": "vJ_wXMgIxJfS"
      },
      "source": [
        "### Install relevant libraries"
      ]
    },
    {
      "cell_type": "code",
      "execution_count": 1,
      "metadata": {
        "colab": {
          "base_uri": "https://localhost:8080/"
        },
        "id": "BdXwZoEej4cy",
        "outputId": "1c6f97f0-2409-4e79-e333-8a7128f5d4d4"
      },
      "outputs": [
        {
          "output_type": "stream",
          "name": "stdout",
          "text": [
            "\u001b[?25l   \u001b[90m━━━━━━━━━━━━━━━━━━━━━━━━━━━━━━━━━━━━━━━━\u001b[0m \u001b[32m0.0/386.9 kB\u001b[0m \u001b[31m?\u001b[0m eta \u001b[36m-:--:--\u001b[0m\r\u001b[2K   \u001b[91m━━━━━━━━━━━━━━━━━━━━━━━━━━━━━━━━━━━━━━━\u001b[0m\u001b[90m╺\u001b[0m \u001b[32m378.9/386.9 kB\u001b[0m \u001b[31m11.8 MB/s\u001b[0m eta \u001b[36m0:00:01\u001b[0m\r\u001b[2K   \u001b[90m━━━━━━━━━━━━━━━━━━━━━━━━━━━━━━━━━━━━━━━━\u001b[0m \u001b[32m386.9/386.9 kB\u001b[0m \u001b[31m5.4 MB/s\u001b[0m eta \u001b[36m0:00:00\u001b[0m\n",
            "\u001b[2K   \u001b[90m━━━━━━━━━━━━━━━━━━━━━━━━━━━━━━━━━━━━━━━━\u001b[0m \u001b[32m76.4/76.4 kB\u001b[0m \u001b[31m3.4 MB/s\u001b[0m eta \u001b[36m0:00:00\u001b[0m\n",
            "\u001b[2K   \u001b[90m━━━━━━━━━━━━━━━━━━━━━━━━━━━━━━━━━━━━━━━━\u001b[0m \u001b[32m78.0/78.0 kB\u001b[0m \u001b[31m3.7 MB/s\u001b[0m eta \u001b[36m0:00:00\u001b[0m\n",
            "\u001b[2K   \u001b[90m━━━━━━━━━━━━━━━━━━━━━━━━━━━━━━━━━━━━━━━━\u001b[0m \u001b[32m325.2/325.2 kB\u001b[0m \u001b[31m12.1 MB/s\u001b[0m eta \u001b[36m0:00:00\u001b[0m\n",
            "\u001b[2K   \u001b[90m━━━━━━━━━━━━━━━━━━━━━━━━━━━━━━━━━━━━━━━━\u001b[0m \u001b[32m58.3/58.3 kB\u001b[0m \u001b[31m2.3 MB/s\u001b[0m eta \u001b[36m0:00:00\u001b[0m\n",
            "\u001b[?25h"
          ]
        }
      ],
      "source": [
        "!pip install -qU openai"
      ]
    },
    {
      "cell_type": "code",
      "source": [
        "import os, json\n",
        "from google.colab import userdata\n",
        "\n",
        "os.environ[\"UPSTAGE_API_KEY\"] = userdata.get(\"UPSTAGE_API_KEY\")"
      ],
      "metadata": {
        "id": "vfcMike3xN7y"
      },
      "execution_count": 2,
      "outputs": []
    },
    {
      "cell_type": "markdown",
      "metadata": {
        "id": "5KMF6s6IxJfT"
      },
      "source": [
        "## Create Invoice Structure using Pydantic\n",
        "\n",
        "We need a way of telling the LLM what structure to organize information into - including what information to expect in the receipt. We will do this using `pydantic` models.\n",
        "\n",
        "Below we define the required classes.\n",
        "\n",
        "- Each line item on the receipt will have a `name`, `price` and `quantity`. The `Item` class specifies this.\n",
        "- Each receipt/invoice is a combination of multiple line `Item` elements along with a `total` price. The `Receipt` class specifies this."
      ]
    },
    {
      "cell_type": "code",
      "execution_count": 3,
      "metadata": {
        "id": "iY7Xe0Bjk_Zc"
      },
      "outputs": [],
      "source": [
        "import json\n",
        "from pydantic import BaseModel, Field\n",
        "\n",
        "class Item(BaseModel):\n",
        "    name: str\n",
        "    price: float\n",
        "    quantity: int = Field(default=1)\n",
        "\n",
        "class Receipt(BaseModel):\n",
        "    items: list[Item]\n",
        "    total: float"
      ]
    },
    {
      "cell_type": "markdown",
      "metadata": {
        "id": "8aPkxE7MnbkX"
      },
      "source": [
        "## Lets bring in the reciept that we want to extract information from\n",
        "\n",
        "Notice that this is a real receipt with multiple portions that are not relevant to the line item extraction structure we've outlined above.\n",
        "\n",
        "<img src=\"https://ocr.space/Content/Images/receipt-ocr-original.webp\" height=\"500\">"
      ]
    },
    {
      "cell_type": "markdown",
      "metadata": {
        "id": "sC3qyxpgxJfU"
      },
      "source": [
        "## 1. Extract Information Receipt\n",
        "\n",
        "We will use the Llama 3.2 90B Vision model to extract out information in normal text format."
      ]
    },
    {
      "cell_type": "code",
      "source": [
        "from openai import OpenAI\n",
        "\n",
        "getDescriptionPrompt = \"Extract out the details from the receipt image. Identify the name, price and quantity of each item. Also specify the total. In json format\"\n",
        "\n",
        "imageUrl = \"https://ocr.space/Content/Images/receipt-ocr-original.jpg\"\n",
        "\n",
        "client = OpenAI(\n",
        "    api_key=os.environ[\"UPSTAGE_API_KEY\"],\n",
        "    base_url=\"https://api.upstage.ai/v1/solar\"\n",
        ")\n",
        "\n",
        "response = client.chat.completions.create(\n",
        "    model=\"solar-docvision\",\n",
        "    messages=[\n",
        "        {\n",
        "            \"role\": \"user\",\n",
        "            \"content\": [\n",
        "                {\"type\": \"text\", \"text\": getDescriptionPrompt},\n",
        "                {\n",
        "                    \"type\": \"image_url\",\n",
        "                    \"image_url\": {\n",
        "                        \"url\": imageUrl,\n",
        "                    },\n",
        "                },\n",
        "            ],\n",
        "\n",
        "        }\n",
        "    ],\n",
        "    response_format={\n",
        "            \"type\": \"json_object\",\n",
        "            \"schema\": Receipt.model_json_schema(),\n",
        "        },\n",
        ")\n",
        "\n",
        "info=response.choices[0].message.content"
      ],
      "metadata": {
        "id": "I6ZAVVfsxuzc"
      },
      "execution_count": 36,
      "outputs": []
    },
    {
      "cell_type": "code",
      "execution_count": 37,
      "metadata": {
        "colab": {
          "base_uri": "https://localhost:8080/"
        },
        "id": "mcpfNLWaoGWX",
        "outputId": "28e1344e-3e83-4554-a6fe-a3e7bda07bf6"
      },
      "outputs": [
        {
          "output_type": "stream",
          "name": "stdout",
          "text": [
            " {\n",
            "  \"receipt_image\": None,\n",
            "  \"items\": [\n",
            "    {\n",
            "      \"name\": \"Manager Diana Earnest\",\n",
            "      \"price\": \"3330\",\n",
            "      \"quantity\": \"3339\",\n",
            "      \"total\": \"33991\"\n",
            "    },\n",
            "    {\n",
            "      \"name\": \"Bluebell Dr Sw\",\n",
            "      \"price\": \"2331\",\n",
            "      \"quantity\": \"444663\",\n",
            "      \"total\": \"66300\"\n",
            "    },\n",
            "    {\n",
            "      \"name\": \"New Phyllis Orh\",\n",
            "      \"price\": \"009044\",\n",
            "      \"quantity\": \"44\",\n",
            "      \"total\": \"004444\"\n",
            "    },\n",
            "    {\n",
            "      \"name\": \"Sth#02115\",\n",
            "      \"price\": \"004747\",\n",
            "      \"quantity\": \"003215\",\n",
            "      \"total\": \"001547\"\n",
            "    },\n",
            "    {\n",
            "      \"name\": \"Pete Toy\",\n",
            "      \"price\": \"004747\",\n",
            "      \"quantity\": \"7571658\",\n",
            "      \"total\": \"7571658\"\n",
            "    },\n",
            "    {\n",
            "      \"name\": \"Floppy Puppy\",\n",
            "      \"price\": \"070060\",\n",
            "      \"quantity\": \"3321153\",\n",
            "      \"total\": \"3321153\"\n",
            "    },\n",
            "    {\n",
            "      \"name\": \"Sssupreme Ss\",\n",
            "      \"price\": \"084699\",\n",
            "      \"quantity\": \"083238\",\n",
            "      \"total\": \"083238\"\n",
            "    },\n",
            "    {\n",
            "      \"name\": \"Munchy Dmeak\",\n",
            "      \"price\": \"068113\",\n",
            "      \"quantity\": \"087996\",\n",
            "      \"total\": \"087996\"\n",
            "    },\n",
            "    {\n",
            "      \"name\": \"Dog Treat\",\n",
            "      \"price\": \"007119\",\n",
            "      \"quantity\": \"0013654\",\n",
            "      \"total\": \"0013654\"\n",
            "    },\n",
            "    {\n",
            "      \"name\": \"Ped Pch\",\n",
            "      \"price\": \"002310\",\n",
            "      \"quantity\": \"0011802\",\n",
            "      \"total\": \"0011802\"\n",
            "    },\n",
            "    {\n",
            "      \"name\": \"Coupon 23100\",\n",
            "      \"price\": \"052310\",\n",
            "      \"quantity\": \"0037000\",\n",
            "      \"total\": \"0037000\"\n",
            "    },\n",
            "    {\n",
            "      \"name\": \"Hnyimd Smores\",\n",
            "      \"price\": \"088491\",\n",
            "      \"quantity\": \"226837\",\n",
            "      \"total\": \"226837\"\n",
            "    },\n",
            "    {\n",
            "      \"name\": \"French Dersng\",\n",
            "      \"price\": \"004132\",\n",
            "      \"quantity\": \"100655\",\n",
            "      \"total\": \"100655\"\n",
            "    },\n",
            "    {\n",
            "      \"name\": \"Baby Carrots\",\n",
            "      \"price\": \"003338\",\n",
            "      \"quantity\": \"3666602\",\n",
            "      \"total\": \"3666602\"\n",
            "    },\n",
            "    {\n",
            "      \"name\": \"Collards\",\n",
            "      \"price\": \"000000\",\n",
            "      \"quantity\": \"0004614\",\n",
            "      \"total\": \"0004614\"\n",
            "    },\n",
            "    {\n",
            "      \"name\": \"Ca1zone\",\n",
            "      \"price\": \"005208\",\n",
            "      \"quantity\": \"362080\",\n",
            "      \"total\": \"362080\"\n",
            "    },\n",
            "    {\n",
            "      \"name\": \"Mm Rvw Mnt\",\n",
            "      \"price\": \"003399\",\n",
            "      \"quantity\": \"005848\",\n",
            "      \"total\": \"005848\"\n",
            "    },\n",
            "    {\n",
            "      \"name\": \"Stkobr Rplabl\",\n",
            "      \"price\": \"001558\",\n",
            "      \"quantity\": \"6679414\",\n",
            "      \"total\": \"6679414\"\n",
            "    },\n",
            "    {\n",
            "      \"name\": \"Stkobr Sunflwr\",\n",
            "      \"price\": \"001558\",\n",
            "      \"quantity\": \"6679414\",\n",
            "      \"total\": \"6679414\"\n",
            "    },\n",
            "    {\n",
            "      \"name\": \"Stkobr Sunflwr\",\n",
            "      \"price\": \"001558\",\n",
            "      \"quantity\": \"6679410\",\n",
            "      \"total\": \"6679410\"\n",
            "    },\n",
            "    {\n",
            "      \"name\": \"Stkobr Sunflwr\",\n",
            "      \"price\": \"001558\",\n",
            "      \"quantity\": \"6679410\",\n",
            "      \"total\": \"6679410\"\n",
            "    },\n",
            "    {\n",
            "      \"name\": \"Great Value\",\n",
            "      \"price\": \"007694\",\n",
            "      \"quantity\": \"203199\",\n",
            "      \"total\": \"203199\"\n",
            "    },\n",
            "    {\n",
            "      \"name\": \"Lilpton Dog\",\n",
            "      \"price\": \"001200\",\n",
            "      \"quantity\": \"0011224\",\n",
            "      \"total\": \"0011224\"\n",
            "    },\n",
            "    {\n",
            "      \"name\": \"Dry Dog\",\n",
            "      \"price\": \"002310\",\n",
            "      \"quantity\": \"001135\",\n",
            "      \"total\": \"001135\"\n",
            "    },\n",
            "    {\n",
            "      \"name\": \"Subtotal\",\n",
            "      \"price\": \"93\",\n",
            "      \"quantity\": \"62\",\n",
            "      \"total\": \"9362\"\n",
            "    },\n",
            "    {\n",
            "      \"name\": \"Tax\",\n",
            "      \"price\": \"6\",\n",
            "      \"quantity\": \"75\",\n",
            "      \"total\": \"675\"\n",
            "    },\n",
            "    {\n",
            "      \"name\": \"Total\",\n",
            "      \"price\": \"98\",\n",
            "      \"quantity\": \"21\",\n",
            "      \"total\": \"9821\"\n",
            "    },\n",
            "    {\n",
            "      \"name\": \"Us Debit\",\n",
            "      \"price\": \"91666\",\n",
            "      \"quantity\": \"I\",\n",
            "      \"total\": \"91666\"\n",
            "    },\n",
            "    {\n",
            "      \"name\": \"Approval #\",\n",
            "      \"price\": \"720900\",\n",
            "      \"quantity\": \"54961\",\n",
            "      \"total\": \"720900\"\n",
            "    },\n",
            "    {\n",
            "      \"name\": \"Ref #\",\n",
            "      \"price\": \"38720\",\n",
            "      \"quantity\": \"923396\",\n",
            "      \"total\": \"38720\"\n",
            "    },\n",
            "    {\n",
            "      \"name\": \"Transaction Id\",\n",
            "      \"price\": \"38720\",\n",
            "      \"quantity\": \"923396\",\n",
            "      \"total\": \"38720\"\n",
            "    },\n",
            "    {\n",
            "      \"name\": \"Validation\",\n",
            "      \"price\": \"87\",\n",
            "      \"quantity\": \"3\",\n",
            "      \"total\": \"87\"\n",
            "    },\n",
            "    {\n",
            "      \"name\": \"Payment Service\",\n",
            "      \"price\": \"E\",\n",
            "      \"quantity\": \"-\",\n",
            "      \"total\": \"0\"\n",
            "    },\n",
            "    {\n",
            "      \"name\": \"Aid\",\n",
            "      \"price\": \"0098\",\n",
            "      \"quantity\": \"0084\",\n",
            "      \"total\": \"0098\"\n",
            "    },\n",
            "    {\n",
            "      \"name\": \"Terminal #\",\n",
            "      \"price\": \"51319\",\n",
            "      \"quantity\": \"CA81DC22B\",\n",
            "      \"total\": \"51319\"\n",
            "    },\n",
            "    {\n",
            "      \"name\": \"Signature Verified\",\n",
            "      \"price\": \"0\",\n",
            "      \"quantity\": \"1\",\n",
            "      \"total\": \"0\"\n",
            "    }\n",
            "  ],\n",
            "  \"total\": \"9821.675\"\n",
            "}\n",
            "\n",
            "\n"
          ]
        }
      ],
      "source": [
        "print(info)"
      ]
    },
    {
      "cell_type": "markdown",
      "metadata": {
        "id": "xE254E0bxJfU"
      },
      "source": [
        "Notice that the model is not perfect and wasn't able to extract out some line items. It's hard for most models to perform this zero-shot extraction of data from images. A way to improve this is to finetune the model using [Visual Intruction Tuning](https://arxiv.org/abs/2304.08485)."
      ]
    },
    {
      "cell_type": "markdown",
      "metadata": {
        "id": "ImUVVPUXxJfU"
      },
      "source": [
        "## 2. Organize Information as JSON\n",
        "\n",
        "We will use Llama 3.1 70B with structured generation in JSON mode to organize the information extracted by the vision model into an acceptable JSON format that can be parsed.\n",
        "\n",
        "`Meta-Llama-3.1-70B-Instruct-Turbo` will strcitly respect the JSON schema passed to it."
      ]
    },
    {
      "cell_type": "code",
      "execution_count": 32,
      "metadata": {
        "id": "kdGlyO8hnD7v"
      },
      "outputs": [],
      "source": [
        "extract = client.chat.completions.create(\n",
        "        messages=[\n",
        "            {\n",
        "                \"role\": \"system\",\n",
        "                \"content\": \"The following is a detailed description of all the items, prices and quantities on a receipt. Extract out information. Only answer in JSON.\",\n",
        "            },\n",
        "            {\n",
        "                \"role\": \"user\",\n",
        "                \"content\": info,\n",
        "            },\n",
        "        ],\n",
        "        model=\"solar-pro\",\n",
        "        response_format={\n",
        "            \"type\": \"json_object\",\n",
        "            \"schema\": Receipt.model_json_schema(),\n",
        "        },\n",
        "    )"
      ]
    },
    {
      "cell_type": "code",
      "execution_count": 33,
      "metadata": {
        "colab": {
          "base_uri": "https://localhost:8080/"
        },
        "id": "037sAvDRoaB4",
        "outputId": "f55b799f-115f-46d9-8698-a98c22cafa40"
      },
      "outputs": [
        {
          "output_type": "stream",
          "name": "stdout",
          "text": [
            "{\n",
            "  \"items\": [\n",
            "    {\n",
            "      \"name\": \"Walmart\",\n",
            "      \"price\": 1.97,\n",
            "      \"quantity\": 20\n",
            "    },\n",
            "    {\n",
            "      \"name\": \"Manager Diana Earnest\",\n",
            "      \"price\": 1.97,\n",
            "      \"quantity\": 20\n",
            "    },\n",
            "    {\n",
            "      \"name\": \"New Phyllis Dr. Sw\",\n",
            "      \"price\": 1.97,\n",
            "      \"quantity\": 20\n",
            "    },\n",
            "    {\n",
            "      \"name\": \"S.T.H.# 022115\",\n",
            "      \"price\": 1.97,\n",
            "      \"quantity\": 20\n",
            "    },\n",
            "    {\n",
            "      \"name\": \"Peet Toy\",\n",
            "      \"price\": 1.97,\n",
            "      \"quantity\": 20\n",
            "    },\n",
            "    {\n",
            "      \"name\": \"Floppy Puppy\",\n",
            "      \"price\": 1.97,\n",
            "      \"quantity\": 20\n",
            "    },\n",
            "    {\n",
            "      \"name\": \"S.S.S.Spreme S\",\n",
            "      \"price\": 1.97,\n",
            "      \"quantity\": 20\n",
            "    },\n",
            "    {\n",
            "      \"name\": \"Muncho Dumebel\",\n",
            "      \"price\": 1.97,\n",
            "      \"quantity\": 20\n",
            "    },\n",
            "    {\n",
            "      \"name\": \"Dog Treat\",\n",
            "      \"price\": 1.97,\n",
            "      \"quantity\": 20\n",
            "    },\n",
            "    {\n",
            "      \"name\": \"Peed Poch\",\n",
            "      \"price\": 1.97,\n",
            "      \"quantity\": 20\n",
            "    },\n",
            "    {\n",
            "      \"name\": \"Coupon 2 3100\",\n",
            "      \"price\": 1.97,\n",
            "      \"quantity\": 20\n",
            "    },\n",
            "    {\n",
            "      \"name\": \"Hnytmd Smore\",\n",
            "      \"price\": 1.97,\n",
            "      \"quantity\": 20\n",
            "    },\n",
            "    {\n",
            "      \"name\": \"French Derse\",\n",
            "      \"price\": 1.97,\n",
            "      \"quantity\": 20\n",
            "    },\n",
            "    {\n",
            "      \"name\": \"Oranges\",\n",
            "      \"price\": 1.97,\n",
            "      \"quantity\": 20\n",
            "    },\n",
            "    {\n",
            "      \"name\": \"Baby Carrots\",\n",
            "      \"price\": 1.97,\n",
            "      \"quantity\": 20\n",
            "    },\n",
            "    {\n",
            "      \"name\": \"Collards\",\n",
            "      \"price\": 1.97,\n",
            "      \"quantity\": 20\n",
            "    },\n",
            "    {\n",
            "      \"name\": \"Calzone\",\n",
            "      \"price\": 1.97,\n",
            "      \"quantity\": 20\n",
            "    },\n",
            "    {\n",
            "      \"name\": \"Mm Rw\",\n",
            "      \"price\": 1.97,\n",
            "      \"quantity\": 20\n",
            "    },\n",
            "    {\n",
            "      \"name\": \"S.T.K.O. Bratislabl\",\n",
            "      \"price\": 1.97,\n",
            "      \"quantity\": 20\n",
            "    },\n",
            "    {\n",
            "      \"name\": \"S.T.K.O. Sunflower\",\n",
            "      \"price\": 1.97,\n",
            "      \"quantity\": 20\n",
            "    },\n",
            "    {\n",
            "      \"name\": \"S.T.K.O. Sunflower\",\n",
            "      \"price\": 1.97,\n",
            "      \"quantity\": 20\n",
            "    },\n",
            "    {\n",
            "      \"name\": \"S.T.K.O. Sunflower\",\n",
            "      \"price\": 1.97,\n",
            "      \"quantity\": 20\n",
            "    },\n",
            "    {\n",
            "      \"name\": \"Blinking\",\n",
            "      \"price\": 1.97,\n",
            "      \"quantity\": 20\n",
            "    },\n",
            "    {\n",
            "      \"name\": \"Great Value\",\n",
            "      \"price\": 1.97,\n",
            "      \"quantity\": 20\n",
            "    },\n",
            "    {\n",
            "      \"name\": \"Lipton\",\n",
            "      \"price\": 1.97,\n",
            "      \"quantity\": 20\n",
            "    },\n",
            "    {\n",
            "      \"name\": \"Dry Dog\",\n",
            "      \"price\": 1.97,\n",
            "      \"quantity\": 20\n",
            "    },\n",
            "    {\n",
            "      \"name\": \"Subtotal\",\n",
            "      \"price\": 1.97,\n",
            "      \"quantity\": 20\n",
            "    },\n",
            "    {\n",
            "      \"name\": \"Tax\",\n",
            "      \"price\": 0.09,\n",
            "      \"quantity\": 20\n",
            "    },\n",
            "    {\n",
            "      \"name\": \"Total\",\n",
            "      \"price\": 1.97,\n",
            "      \"quantity\": 20\n",
            "    }\n",
            "  ]\n",
            "}\n"
          ]
        }
      ],
      "source": [
        "output = json.loads(extract.choices[0].message.content)\n",
        "print(json.dumps(output, indent=2))"
      ]
    },
    {
      "cell_type": "markdown",
      "metadata": {
        "id": "MFaLLQEIxJfV"
      },
      "source": [
        "Althought with some missed line items we were able to extract out structured JSON from an image in a zero shot manner! To improve the results for your pipeline and make them production ready I recommend you [finetune](https://docs.together.ai/docs/fine-tuning-overview) the vision model on your own dataset!\n",
        "\n",
        "Learn more about how to use JSON mode in the [docs](https://docs.together.ai/docs/json-mode) here!"
      ]
    }
  ],
  "metadata": {
    "colab": {
      "provenance": [],
      "include_colab_link": true
    },
    "kernelspec": {
      "display_name": "Python 3",
      "name": "python3"
    },
    "language_info": {
      "name": "python"
    }
  },
  "nbformat": 4,
  "nbformat_minor": 0
}
