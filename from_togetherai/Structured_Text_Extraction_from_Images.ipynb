{
  "cells": [
    {
      "cell_type": "markdown",
      "metadata": {
        "id": "view-in-github",
        "colab_type": "text"
      },
      "source": [
        "<a href=\"https://colab.research.google.com/github/duper203/upstage_cookbook/blob/main/from_togetherai/Structured_Text_Extraction_from_Images.ipynb\" target=\"_parent\"><img src=\"https://colab.research.google.com/assets/colab-badge.svg\" alt=\"Open In Colab\"/></a>"
      ]
    },
    {
      "cell_type": "markdown",
      "metadata": {
        "id": "_x94xNsKxJfR"
      },
      "source": [
        "# Extracting Structured Data from Images\n",
        "[![Open In Colab](https://colab.research.google.com/assets/colab-badge.svg)](https://colab.research.google.com/github/togethercomputer/together-cookbook/blob/main/Structured_Text_Extraction_from_Images.ipynb)"
      ]
    },
    {
      "cell_type": "markdown",
      "metadata": {
        "id": "xaDrDPQdxJfS"
      },
      "source": [
        "## Introduction\n",
        "\n",
        "In this notebook we will demonstrate how you can use a language vision model(Solar DocVision) along with an LLM that has JSON mode enabled(Solar-Pro) to extract structured text from images.\n",
        "\n",
        "In our case we will extract line items from an invoice in the form of a JSON.\n",
        "\n",
        "<img src=\"https://github.com/togethercomputer/together-cookbook/blob/main/images/structured_text_image.png?raw=1\" width=\"750\">\n"
      ]
    },
    {
      "cell_type": "markdown",
      "metadata": {
        "id": "vJ_wXMgIxJfS"
      },
      "source": [
        "### Install relevant libraries"
      ]
    },
    {
      "cell_type": "code",
      "execution_count": 38,
      "metadata": {
        "id": "BdXwZoEej4cy"
      },
      "outputs": [],
      "source": [
        "!pip install -qU openai"
      ]
    },
    {
      "cell_type": "code",
      "source": [
        "import os, json\n",
        "from google.colab import userdata\n",
        "\n",
        "os.environ[\"UPSTAGE_API_KEY\"] = userdata.get(\"UPSTAGE_API_KEY\")"
      ],
      "metadata": {
        "id": "vfcMike3xN7y"
      },
      "execution_count": 39,
      "outputs": []
    },
    {
      "cell_type": "markdown",
      "metadata": {
        "id": "5KMF6s6IxJfT"
      },
      "source": [
        "## Create Invoice Structure using Pydantic\n",
        "\n",
        "We need a way of telling the LLM what structure to organize information into - including what information to expect in the receipt. We will do this using `pydantic` models.\n",
        "\n",
        "Below we define the required classes.\n",
        "\n",
        "- Each line item on the receipt will have a `name`, `price` and `quantity`. The `Item` class specifies this.\n",
        "- Each receipt/invoice is a combination of multiple line `Item` elements along with a `total` price. The `Receipt` class specifies this."
      ]
    },
    {
      "cell_type": "code",
      "execution_count": 40,
      "metadata": {
        "id": "iY7Xe0Bjk_Zc"
      },
      "outputs": [],
      "source": [
        "import json\n",
        "from pydantic import BaseModel, Field\n",
        "\n",
        "class Item(BaseModel):\n",
        "    name: str\n",
        "    price: float\n",
        "    quantity: int = Field(default=1)\n",
        "\n",
        "class Receipt(BaseModel):\n",
        "    items: list[Item]\n",
        "    total: float"
      ]
    },
    {
      "cell_type": "markdown",
      "metadata": {
        "id": "8aPkxE7MnbkX"
      },
      "source": [
        "## Lets bring in the reciept that we want to extract information from\n",
        "\n",
        "Notice that this is a real receipt with multiple portions that are not relevant to the line item extraction structure we've outlined above.\n",
        "\n",
        "<img src=\"https://ocr.space/Content/Images/receipt-ocr-original.webp\" height=\"500\">"
      ]
    },
    {
      "cell_type": "markdown",
      "metadata": {
        "id": "sC3qyxpgxJfU"
      },
      "source": [
        "## 1. Extract Information Receipt\n",
        "\n",
        "We will use the Llama 3.2 90B Vision model to extract out information in normal text format."
      ]
    },
    {
      "cell_type": "code",
      "source": [
        "from openai import OpenAI\n",
        "\n",
        "getDescriptionPrompt = \"Extract out the details from the receipt image. Identify the name, price and quantity of each item. Also specify the total. In json format\"\n",
        "\n",
        "imageUrl = \"https://ocr.space/Content/Images/receipt-ocr-original.jpg\"\n",
        "\n",
        "client = OpenAI(\n",
        "    api_key=os.environ[\"UPSTAGE_API_KEY\"],\n",
        "    base_url=\"https://api.upstage.ai/v1/solar\"\n",
        ")\n",
        "\n",
        "response = client.chat.completions.create(\n",
        "    model=\"solar-docvision\",\n",
        "    messages=[\n",
        "        {\n",
        "            \"role\": \"user\",\n",
        "            \"content\": [\n",
        "                {\"type\": \"text\", \"text\": getDescriptionPrompt},\n",
        "                {\n",
        "                    \"type\": \"image_url\",\n",
        "                    \"image_url\": {\n",
        "                        \"url\": imageUrl,\n",
        "                    },\n",
        "                },\n",
        "            ],\n",
        "\n",
        "        }\n",
        "    ],\n",
        ")\n",
        "\n",
        "info=response.choices[0].message.content"
      ],
      "metadata": {
        "id": "I6ZAVVfsxuzc"
      },
      "execution_count": 41,
      "outputs": []
    },
    {
      "cell_type": "code",
      "execution_count": 42,
      "metadata": {
        "colab": {
          "base_uri": "https://localhost:8080/"
        },
        "id": "mcpfNLWaoGWX",
        "outputId": "0a0896c2-1ead-42fd-91c8-6b76ebb69a9a"
      },
      "outputs": [
        {
          "output_type": "stream",
          "name": "stdout",
          "text": [
            " {'image_type': 'Table', 'text': '<thead></thead><tbody><tr><td colspan=\"2\">Walmart� Ⓡ</td></tr><tr><td colspan=\"2\">Save money. Live better.</td></tr><tr><td>(330) 3339 MANAGER DIANA EARNEST 231 BLUEBELL DR. SW</td><td>3991</td></tr><tr><td>NEW PHILADELPHIA OH 44663 ST# 02115 OP# 009044 TE# 44 TTR# 01301</td><td></td></tr><tr><td>PEET TOY 004747 514846</td><td>11977 X</td></tr><tr><td>FLOPPY PUPPY 07006060332153</td><td>41977 X</td></tr><tr><td>SSSSUPREME S 084669998003228</td><td>51927 X</td></tr><tr><td>2 MUNCHKY DUMBEL 06881133008796</td><td>31777 X</td></tr><tr><td>DOG TREAT 00711900136654</td><td>21520 X</td></tr><tr><td>PED PCH 0023100011802</td><td>0150 X</td></tr><tr><td>PED PCH 1 0023100011802</td><td>0150 X</td></tr><tr><td>COUPON 23100 0523100037000</td><td>1100-0 X</td></tr><tr><td>HNNYMD SMORR 0884912268837</td><td>31980 O</td></tr><tr><td>FRENCH DERS 004132100655</td><td>11980 N</td></tr><tr><td>3 ORANGES 0014668350001</td><td>5147 N</td></tr><tr><td>BABY CARROT 003338366602</td><td>1148 N</td></tr><tr><td>COLLARDS 00000000004614KI</td><td>1124 N</td></tr><tr><td>CALZONE 005208362080</td><td>2150 O</td></tr><tr><td>MM RVRPL MNT 003399105848</td><td>1197 X</td></tr><tr><td>STKOBRPLPLABIL 0001558679414</td><td>1197 X</td></tr><tr><td>STKOBRPLPLABIL 0001558679414</td><td>01977 X</td></tr><tr><td>STKO SUNFLWR 0001558679410</td><td>01977 X</td></tr><tr><td>STKO SUNFLWR 0001558679410</td><td>01977 X</td></tr><tr><td>STKO SUNFLWR 0001558679410</td><td>01977 X</td></tr><tr><td>BLING BEADS 007659406099</td><td>01977 X</td></tr><tr><td>GREAT VALUE 007884203191</td><td>91977 0</td></tr><tr><td>LIIP TON 00023100011244</td><td>124141 X</td></tr><tr><td>DRY DOG 00231000011035</td><td>121441 X</td></tr><tr><td>SUBTOTAL 66750</td><td>931620</td></tr><tr><td>TAX 1</td><td>4159</td></tr><tr><td>TOTAL</td><td>98121</td></tr><tr><td>VISA TEND 98121</td><td>11</td></tr><tr><td>US DEBIT 572868</td><td>00</td></tr><tr><td>APPROVAL # 720900</td><td></td></tr><tr><td>REF # 50549681</td><td></td></tr><tr><td>TRAN ID 38720092396508944</td><td></td></tr><tr><td>VALIDATION 87HMS</td><td></td></tr><tr><td>PAYMENT SERVICE  E</td><td></td></tr><tr><td>AID A000000000980840</td><td></td></tr><tr><td>TC# 51319CA81DC22BC7</td><td></td></tr><tr><td>TERMINAL # SC010764</td><td></td></tr><tr><td>*Signature Verified</td><td></td></tr><tr><td>07/28/17 02:339:48</td><td></td></tr><tr><td>CHANGE DUE 00</td><td></td></tr><tr><td># ITEMS SOLD 25</td><td></td></tr><tr><td>TC# 04443 02223 1059 8001</td><td></td></tr><tr><td></td><td></td></tr><tr><td></td><td></td></tr><tr><td>Low Prices You Trust 00 00</td><td></td></tr><tr><td>Every Day 07/28/17 02:339:48</td><td></td></tr><tr><td>**COUSTOMER</td><td></td></tr><tr><td></td><td></td></tr><tr><td>COPY**</td><td></td></tr></tbody>'}\n",
            "\n",
            "\n"
          ]
        }
      ],
      "source": [
        "print(info)"
      ]
    },
    {
      "cell_type": "markdown",
      "metadata": {
        "id": "xE254E0bxJfU"
      },
      "source": [
        "Notice that the model is not perfect and wasn't able to extract out some line items. It's hard for most models to perform this zero-shot extraction of data from images. A way to improve this is to finetune the model using [Visual Intruction Tuning](https://arxiv.org/abs/2304.08485)."
      ]
    },
    {
      "cell_type": "markdown",
      "metadata": {
        "id": "ImUVVPUXxJfU"
      },
      "source": [
        "## 2. Organize Information as JSON\n",
        "\n",
        "We will use Llama 3.1 70B with structured generation in JSON mode to organize the information extracted by the vision model into an acceptable JSON format that can be parsed.\n",
        "\n",
        "`Meta-Llama-3.1-70B-Instruct-Turbo` will strcitly respect the JSON schema passed to it."
      ]
    },
    {
      "cell_type": "code",
      "execution_count": 43,
      "metadata": {
        "id": "kdGlyO8hnD7v"
      },
      "outputs": [],
      "source": [
        "extract = client.chat.completions.create(\n",
        "        messages=[\n",
        "            {\n",
        "                \"role\": \"system\",\n",
        "                \"content\": \"The following is a detailed description of all the items, prices and quantities on a receipt. Extract out information. Only answer in JSON.\",\n",
        "            },\n",
        "            {\n",
        "                \"role\": \"user\",\n",
        "                \"content\": info,\n",
        "            },\n",
        "        ],\n",
        "        model=\"solar-pro\",\n",
        "        response_format={\n",
        "            \"type\": \"json_object\",\n",
        "            \"schema\": Receipt.model_json_schema(),\n",
        "        },\n",
        "    )"
      ]
    },
    {
      "cell_type": "code",
      "execution_count": 44,
      "metadata": {
        "colab": {
          "base_uri": "https://localhost:8080/"
        },
        "id": "037sAvDRoaB4",
        "outputId": "729f09e9-7b38-4b3c-9d25-77b26eccfbe1"
      },
      "outputs": [
        {
          "output_type": "stream",
          "name": "stdout",
          "text": [
            "{\n",
            "  \"items\": [\n",
            "    {\n",
            "      \"description\": \"Peety Floppy Puppy\",\n",
            "      \"quantity\": 41977,\n",
            "      \"price\": \"X\"\n",
            "    },\n",
            "    {\n",
            "      \"description\": \"SSSSupreme S\",\n",
            "      \"quantity\": 51927,\n",
            "      \"price\": \"X\"\n",
            "    },\n",
            "    {\n",
            "      \"description\": \"2 Munchky Dumbel\",\n",
            "      \"quantity\": 31777,\n",
            "      \"price\": \"X\"\n",
            "    },\n",
            "    {\n",
            "      \"description\": \"Dog Treat\",\n",
            "      \"quantity\": 21520,\n",
            "      \"price\": \"X\"\n",
            "    },\n",
            "    {\n",
            "      \"description\": \"PED PCH\",\n",
            "      \"quantity\": 150,\n",
            "      \"price\": \"X\"\n",
            "    },\n",
            "    {\n",
            "      \"description\": \"PED PCH 1\",\n",
            "      \"quantity\": 150,\n",
            "      \"price\": \"X\"\n",
            "    },\n",
            "    {\n",
            "      \"description\": \"Coupon 23100 0523100037000\",\n",
            "      \"quantity\": 1100,\n",
            "      \"price\": \"-0 X\"\n",
            "    },\n",
            "    {\n",
            "      \"description\": \"HNNYMD Smorrr\",\n",
            "      \"quantity\": 31980,\n",
            "      \"price\": \"O\"\n",
            "    },\n",
            "    {\n",
            "      \"description\": \"FRENCH DERS\",\n",
            "      \"quantity\": 11980,\n",
            "      \"price\": \"N\"\n",
            "    },\n",
            "    {\n",
            "      \"description\": \"3 ORANGES\",\n",
            "      \"quantity\": 5147,\n",
            "      \"price\": \"N\"\n",
            "    },\n",
            "    {\n",
            "      \"description\": \"BABY CARROT\",\n",
            "      \"quantity\": 1148,\n",
            "      \"price\": \"N\"\n",
            "    },\n",
            "    {\n",
            "      \"description\": \"COLLARDS\",\n",
            "      \"quantity\": 1124,\n",
            "      \"price\": \"N\"\n",
            "    },\n",
            "    {\n",
            "      \"description\": \"CALZZONE\",\n",
            "      \"quantity\": 2150,\n",
            "      \"price\": \"O\"\n",
            "    },\n",
            "    {\n",
            "      \"description\": \"MM RVRPL MNT\",\n",
            "      \"quantity\": 1197,\n",
            "      \"price\": \"X\"\n",
            "    },\n",
            "    {\n",
            "      \"description\": \"STKOBRPLPLABIL\",\n",
            "      \"quantity\": 1197,\n",
            "      \"price\": \"X\"\n",
            "    },\n",
            "    {\n",
            "      \"description\": \"STKOBRPLPLABIL\",\n",
            "      \"quantity\": 1977,\n",
            "      \"price\": \"X\"\n",
            "    },\n",
            "    {\n",
            "      \"description\": \"STKO SUNFLWR\",\n",
            "      \"quantity\": 1977,\n",
            "      \"price\": \"X\"\n",
            "    },\n",
            "    {\n",
            "      \"description\": \"STKO SUNFLWR\",\n",
            "      \"quantity\": 1977,\n",
            "      \"price\": \"X\"\n",
            "    },\n",
            "    {\n",
            "      \"description\": \"STKO SUNFLWR\",\n",
            "      \"quantity\": 1977,\n",
            "      \"price\": \"X\"\n",
            "    },\n",
            "    {\n",
            "      \"description\": \"BLING BEADS\",\n",
            "      \"quantity\": 1977,\n",
            "      \"price\": \"X\"\n",
            "    },\n",
            "    {\n",
            "      \"description\": \"GREAT VALUE\",\n",
            "      \"quantity\": 91977,\n",
            "      \"price\": \"0 X\"\n",
            "    },\n",
            "    {\n",
            "      \"description\": \"LIIP TON\",\n",
            "      \"quantity\": 124141,\n",
            "      \"price\": \"X\"\n",
            "    },\n",
            "    {\n",
            "      \"description\": \"DRY DOG\",\n",
            "      \"quantity\": 121441,\n",
            "      \"price\": \"X\"\n",
            "    },\n",
            "    {\n",
            "      \"description\": \"SUBTOTAL\",\n",
            "      \"quantity\": 66750,\n",
            "      \"price\": \"931620\"\n",
            "    },\n",
            "    {\n",
            "      \"description\": \"TAX 1\",\n",
            "      \"quantity\": 4159,\n",
            "      \"price\": \"1\"\n",
            "    },\n",
            "    {\n",
            "      \"description\": \"TOTAL\",\n",
            "      \"quantity\": 98121,\n",
            "      \"price\": \"0\"\n",
            "    }\n",
            "  ]\n",
            "}\n"
          ]
        }
      ],
      "source": [
        "output = json.loads(extract.choices[0].message.content)\n",
        "print(json.dumps(output, indent=2))"
      ]
    },
    {
      "cell_type": "markdown",
      "metadata": {
        "id": "MFaLLQEIxJfV"
      },
      "source": [
        "Althought with some missed line items we were able to extract out structured JSON from an image in a zero shot manner! To improve the results for your pipeline and make them production ready I recommend you [finetune](https://docs.together.ai/docs/fine-tuning-overview) the vision model on your own dataset!"
      ]
    }
  ],
  "metadata": {
    "colab": {
      "provenance": [],
      "include_colab_link": true
    },
    "kernelspec": {
      "display_name": "Python 3",
      "name": "python3"
    },
    "language_info": {
      "name": "python"
    }
  },
  "nbformat": 4,
  "nbformat_minor": 0
}