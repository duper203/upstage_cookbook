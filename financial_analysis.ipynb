{
  "nbformat": 4,
  "nbformat_minor": 0,
  "metadata": {
    "colab": {
      "provenance": [],
      "include_colab_link": true
    },
    "kernelspec": {
      "name": "python3",
      "display_name": "Python 3"
    },
    "language_info": {
      "name": "python"
    }
  },
  "cells": [
    {
      "cell_type": "markdown",
      "metadata": {
        "id": "view-in-github",
        "colab_type": "text"
      },
      "source": [
        "<a href=\"https://colab.research.google.com/github/duper203/upstage_cookbook/blob/main/financial_analysis.ipynb\" target=\"_parent\"><img src=\"https://colab.research.google.com/assets/colab-badge.svg\" alt=\"Open In Colab\"/></a>"
      ]
    },
    {
      "cell_type": "code",
      "source": [
        "#@title Install requirements\n",
        "!pip install langchain\n",
        "!pip install langchain-chroma\n",
        "!pip install langchain_upstage\n",
        "!pip install -q python-dotenv"
      ],
      "metadata": {
        "collapsed": true,
        "id": "BB8xwlCWuQum"
      },
      "execution_count": null,
      "outputs": []
    },
    {
      "cell_type": "markdown",
      "source": [
        "# Introduction\n",
        "## Financial Analysis over 10-K documents\n",
        "In the world of finance, extracting critical insights from lengthy documents like 10-K forms is an essential but often time-consuming task for analysts. The 10-K form is an annual report required by the U.S. Securities and Exchange Commission (SEC), which provides a comprehensive summary of a company's financial performance. These documents can run hundreds of pages and are filled with complex, domain-specific terminology. To address this challenge, we showcase how Upstage, combined with LangChain and Chroma, can assist financial analysts in quickly extracting and synthesizing insights from a document with minimal coding effort.\n",
        "\n",
        "We demonstrate how Upstage can empower financial analysts to efficiently extract and synthesize insights from multiple documents with minimal coding effort."
      ],
      "metadata": {
        "id": "RUK-8mJWLB1E"
      }
    },
    {
      "cell_type": "code",
      "source": [
        "#@title 0. Set API key\n",
        "from pprint import pprint\n",
        "import os\n",
        "\n",
        "import warnings\n",
        "warnings.filterwarnings('ignore')\n",
        "\n",
        "from IPython import get_ipython\n",
        "\n",
        "upstage_api_key_env_name = 'UPSTAGE_API_KEY'\n",
        "def load_env():\n",
        "    if 'google.colab' in str(get_ipython()):\n",
        "        # Running in Google Colab\n",
        "        from google.colab import userdata\n",
        "        upstage_api_key = userdata.get(upstage_api_key_env_name)\n",
        "        return os.environ.setdefault('UPSTAGE_API_KEY', upstage_api_key)\n",
        "    else:\n",
        "        # Running in local Jupyter Notebook\n",
        "        from dotenv import load_dotenv\n",
        "        load_dotenv()\n",
        "        return os.environ.get(upstage_api_key_env_name)\n",
        "\n",
        "UPSTAGE_API_KEY = load_env()"
      ],
      "metadata": {
        "id": "2S-lAzZshiIv"
      },
      "execution_count": null,
      "outputs": []
    },
    {
      "cell_type": "code",
      "source": [
        "## will be DELETEd!!\n",
        "from google.colab import userdata\n",
        "UPSTAGE_API_KEY=userdata.get('upstage_api_key')"
      ],
      "metadata": {
        "id": "57XkPHuFcY3K"
      },
      "execution_count": null,
      "outputs": []
    },
    {
      "cell_type": "markdown",
      "source": [
        "## 1. Extract data from Document & Split\n",
        "The first step in our process involves loading the 10-K document and splitting it into manageable chunks of text.\n",
        "\n",
        "For extracting text from the document we will be using [Upstage Layout Analysis API](https://developers.upstage.ai/docs/apis/layout-analysis). Upstage Layout Analysis API automatically categorizes data into meaningful chunks and marks non-text elements like images and tables for easy identification. This approach significantly streamlines data extraction tasks."
      ],
      "metadata": {
        "id": "Z4t3ThJlLYRS"
      }
    },
    {
      "cell_type": "code",
      "execution_count": null,
      "metadata": {
        "id": "9iGbcvgB3h_7"
      },
      "outputs": [],
      "source": [
        "from langchain.text_splitter import RecursiveCharacterTextSplitter, Language\n",
        "from langchain_upstage import UpstageLayoutAnalysisLoader\n",
        "from langchain_chroma import Chroma\n",
        "from langchain_upstage import UpstageEmbeddings"
      ]
    },
    {
      "cell_type": "code",
      "source": [
        "# check if text is in the vector store\n",
        "def is_in_vectorstore(vectorstore, text):\n",
        "    search_results = vectorstore.get(ids=[text])\n",
        "    if search_results and search_results[\"ids\"]:\n",
        "        return True\n",
        "    else:\n",
        "        return False\n"
      ],
      "metadata": {
        "id": "BKM-g4n94dUv"
      },
      "execution_count": null,
      "outputs": []
    },
    {
      "cell_type": "code",
      "source": [
        "file_path = \"c3_k-10.pdf\"\n",
        "\n",
        "loader = UpstageLayoutAnalysisLoader(file_path, split=\"page\", api_key=UPSTAGE_API_KEY)\n",
        "\n",
        "# For improved memory efficiency, consider using the lazy_load method to load documents page by page.\n",
        "docs = loader.load()  # or loader.lazy_load()"
      ],
      "metadata": {
        "id": "ONRZg1Yw4dOJ"
      },
      "execution_count": null,
      "outputs": []
    },
    {
      "cell_type": "code",
      "source": [
        "print(docs[0].page_content[:1000])\n"
      ],
      "metadata": {
        "colab": {
          "base_uri": "https://localhost:8080/"
        },
        "id": "jP2k2trd7VcU",
        "outputId": "7dc8a8d4-f893-42d3-ddad-327ae7db8d30"
      },
      "execution_count": null,
      "outputs": [
        {
          "output_type": "stream",
          "name": "stdout",
          "text": [
            "<h1 id='1' style='font-size:20px'>UNITED STATES<br>SECURITIES AND EXCHANGE COMMISSION<br>Washington, D.C. 20549<br>FORM 10-K</h1> <br><p id='2' data-category='paragraph' style='font-size:14px'>(Mark One)</p> <br><p id='3' data-category='paragraph' style='font-size:14px'>☒ ANNUAL REPORT PURSUANT TO SECTION 13 OR 15(d) OF THE SECURITIES EXCHANGE ACT OF 1934<br>For the fiscal year ended April 30, 2022</p> <p id='4' data-category='paragraph' style='font-size:14px'>OR</p> <p id='5' data-category='paragraph' style='font-size:14px'>☐ TRANSITION REPORT PURSUANT TO SECTION 13 OR 15(d) OF THE SECURITIES EXCHANGE ACT OF 1934</p> <br><p id='6' data-category='paragraph' style='font-size:14px'>For the transition period from __________ to __________<br>Commission File Number: 001-39744</p> <br><p id='7' data-category='paragraph' style='font-size:16px'>C3.ai, Inc.<br>(Exact name of registrant as specified in its charter)</p> <p id='8' data-category='paragraph' style='font-size:14px'>Delaware<br>(State\n"
          ]
        }
      ]
    },
    {
      "cell_type": "code",
      "source": [
        "# 2. Split\n",
        "text_splitter = RecursiveCharacterTextSplitter.from_language(\n",
        "    chunk_size=1000, chunk_overlap=100, language=Language.HTML\n",
        ")\n",
        "splits = text_splitter.split_documents(docs)\n",
        "print(\"Splits:\", len(splits))"
      ],
      "metadata": {
        "colab": {
          "base_uri": "https://localhost:8080/"
        },
        "id": "4tel2vCA4oLO",
        "outputId": "6cc12c2d-f4b9-4b1e-8715-cd5da41422be"
      },
      "execution_count": null,
      "outputs": [
        {
          "output_type": "stream",
          "name": "stdout",
          "text": [
            "Splits: 1001\n"
          ]
        }
      ]
    },
    {
      "cell_type": "markdown",
      "source": [
        "## 2. Store in a vectordb\n",
        "Once the document is split, the next step is to store these chunks in a vector database. We’ll use Chroma to create a vector store and Upstage for generating embeddings.\n",
        "\n"
      ],
      "metadata": {
        "id": "gx9aeCE4Lk4Y"
      }
    },
    {
      "cell_type": "code",
      "source": [
        "vectorstore = Chroma(\n",
        "    persist_directory=\"./chroma_db\",\n",
        "    embedding_function=UpstageEmbeddings(model=\"solar-embedding-1-large\", upstage_api_key=UPSTAGE_API_KEY),\n",
        ")\n",
        "retriever = vectorstore.as_retriever()\n",
        "\n",
        "\n",
        "unique_splits = [\n",
        "    split for split in splits if not is_in_vectorstore(vectorstore, split.page_content)\n",
        "]\n",
        "print(len(unique_splits))"
      ],
      "metadata": {
        "colab": {
          "base_uri": "https://localhost:8080/"
        },
        "id": "O6Zs2vUf4oDn",
        "outputId": "2a71e856-d62a-4588-ae9d-a567721a3a1a"
      },
      "execution_count": null,
      "outputs": [
        {
          "output_type": "stream",
          "name": "stdout",
          "text": [
            "1001\n"
          ]
        }
      ]
    },
    {
      "cell_type": "code",
      "source": [
        "import hashlib\n",
        "\n",
        "def generate_unique_id(content, index):\n",
        "    return hashlib.md5(f\"{index}-{content}\".encode()).hexdigest()\n",
        "if len(unique_splits) > 0:\n",
        "    vectorstore = Chroma.from_documents(\n",
        "        ids=[generate_unique_id(split.page_content, i) for i, split in enumerate(unique_splits)],\n",
        "        persist_directory=\"./chroma_db\",\n",
        "        documents=unique_splits,\n",
        "        embedding=UpstageEmbeddings(model=\"solar-embedding-1-large\", upstage_api_key=UPSTAGE_API_KEY),\n",
        "\n",
        ")"
      ],
      "metadata": {
        "id": "S-gCm67d4n4p"
      },
      "execution_count": null,
      "outputs": []
    },
    {
      "cell_type": "markdown",
      "source": [
        "# ADDED\n",
        "Develop and Test Financial-Specific Prompts"
      ],
      "metadata": {
        "id": "b98cU3CwkHYO"
      }
    },
    {
      "cell_type": "code",
      "source": [
        "# Define financial information categories\n",
        "# Identify the key financial metrics and sections you want to extract from the 10-K documents.\n",
        "\n",
        "financial_categories = {\n",
        "    \"Interest Rate Risk\": [\n",
        "        \"Summarize the company's exposure to interest rate risks.\",\n",
        "        \"What is mentioned about the company's strategy for mitigating interest rate risks?\",\n",
        "        \"Extract details on how interest rate fluctuations have impacted the company's financial performance.\"\n",
        "    ],\n",
        "    \"Liquidity Ratios\": [\n",
        "        \"Provide the liquidity ratios mentioned in the document.\",\n",
        "        \"Explain how the company's current liquidity is evaluated.\",\n",
        "        \"List the ratios used to assess the company's liquidity.\"\n",
        "    ],\n",
        "    \"Credit Risk\": [\n",
        "        \"Describe the company's exposure to credit risk.\",\n",
        "        \"What measures has the company taken to mitigate credit risk?\",\n",
        "        \"Detail the impact of credit risk on the company's financial health.\"\n",
        "    ],\n",
        "    \"Market Risk\": [\n",
        "        \"Outline the market risks the company is exposed to.\",\n",
        "        \"How does the company manage market risk?\",\n",
        "        \"Discuss the effects of market risk on the company's operations.\"\n",
        "    ]\n",
        "}\n",
        "\n"
      ],
      "metadata": {
        "id": "XncALt7oeUsB"
      },
      "execution_count": null,
      "outputs": []
    },
    {
      "cell_type": "code",
      "source": [
        "from langchain_core.prompts import PromptTemplate\n",
        "from langchain_core.output_parsers import StrOutputParser\n",
        "from langchain_upstage import ChatUpstage\n",
        "\n",
        "llm = ChatUpstage(api_key=UPSTAGE_API_KEY)\n"
      ],
      "metadata": {
        "id": "qTfWD99perem"
      },
      "execution_count": null,
      "outputs": []
    },
    {
      "cell_type": "code",
      "source": [
        "def generate_responses(category, prompts, context):\n",
        "    responses = {}\n",
        "    for i, prompt in enumerate(prompts, 1):\n",
        "        prompt_template = PromptTemplate.from_template(\n",
        "            \"\"\"\n",
        "            Generate the requested information based on the following context.\n",
        "            ---\n",
        "            Context: {Context}\n",
        "            \"\"\"\n",
        "        )\n",
        "        chain = prompt_template | llm | StrOutputParser()\n",
        "        response = chain.invoke({\"Context\": context, \"prompt\": prompt})\n",
        "        responses[f\"Prompt_{i}\"] = response\n",
        "    return responses\n"
      ],
      "metadata": {
        "id": "PuOLZ6CWesvr"
      },
      "execution_count": null,
      "outputs": []
    },
    {
      "cell_type": "code",
      "source": [
        "from bs4 import BeautifulSoup\n",
        "\n",
        "def retrieve_documents(query, retriever, top_k=5):\n",
        "    search_result = retriever.invoke(query, top_k=top_k)\n",
        "    extracted_texts = []\n",
        "    for search in search_result:\n",
        "        soup = BeautifulSoup(search.page_content, 'html.parser')\n",
        "        text = soup.get_text(separator=\"\\n\")\n",
        "        extracted_texts.append(text)\n",
        "    return extracted_texts\n"
      ],
      "metadata": {
        "id": "TeD3ZDdKevHw"
      },
      "execution_count": null,
      "outputs": []
    },
    {
      "cell_type": "code",
      "source": [
        "# Store all responses\n",
        "all_responses = {}\n",
        "\n",
        "for category, prompts in financial_categories.items():\n",
        "    print(f\"\\nProcessing Category: {category}\")\n",
        "    # Retrieve relevant documents for the category\n",
        "    query = f\"Tell me about {category.lower()}\"\n",
        "    context = retrieve_documents(query, retriever)\n",
        "\n",
        "    # Generate responses for each prompt in the category\n",
        "    responses = generate_responses(category, prompts, context)\n",
        "    all_responses[category] = responses\n",
        "\n",
        "    # Display responses\n",
        "    for prompt_name, response in responses.items():\n",
        "        print(f\"\\n{prompt_name}: {response}\")\n"
      ],
      "metadata": {
        "colab": {
          "base_uri": "https://localhost:8080/"
        },
        "id": "AJvXF5yIex9k",
        "outputId": "a4fd1909-ed7c-4cc2-e4ba-1a35c76f98ae"
      },
      "execution_count": null,
      "outputs": [
        {
          "output_type": "stream",
          "name": "stdout",
          "text": [
            "\n",
            "Processing Category: Interest Rate Risk\n",
            "\n",
            "Prompt_1: The context provided discusses the market risks faced by the company, which include interest rate risk and foreign currency risk. The company does not hold or issue financial instruments for trading purposes and does not use derivative financial instruments to manage its interest rate risk exposure. As of April 30, 2022, a hypothetical 10% relative change in interest rates would not have had a material impact on the value of the company's cash equivalents or investment portfolio. The company also mentions that it does not currently hedge its foreign currency risk, but may do so in the future if its exposure to foreign currencies becomes more significant. The company also mentions that it does not have any exposure to inflation risk.\n",
            "\n",
            "Prompt_2: Based on the context provided, the company has exposure to market risks in the ordinary course of its business, primarily due to fluctuations in interest rates and foreign currency exchange rates. The company does not hold or issue financial instruments for trading purposes and does not use derivative financial instruments to manage its interest rate risk exposure. As of April 30, 2022, a hypothetical 10% relative change in interest rates would not have had a material impact on the value of the company's cash equivalents or investment portfolio. The company does not currently hedge its foreign currency risk, but may do so in the future if its exposure to foreign currencies should become more significant. The company's international operations are growing, and the company will continue to reassess its approach to manage its risk relating to fluctuations in currency rates. The context also includes information about the company's stock options and the valuation assumptions used to estimate the fair value of the options.\n",
            "\n",
            "Prompt_3: ### Summary:\n",
            "\n",
            "The context discusses the market risks faced by the company in the ordinary course of business, including interest rate risk and foreign currency risk. The company does not hold or issue financial instruments for trading purposes and does not use derivative financial instruments to manage its interest rate risk exposure. As of April 30, 2022, a hypothetical 10% relative change in interest rates would not have had a material impact on the value of the company's cash equivalents or investment portfolio. The company does not have any exposure to inflation risk.\n",
            "\n",
            "### Key points:\n",
            "\n",
            "* The company is exposed to market risks in the ordinary course of its business, primarily due to fluctuations in interest rates and foreign currency exchange rates.\n",
            "* The company does not enter into investments for trading or speculative purposes and does not use derivative financial instruments to manage its interest rate risk exposure.\n",
            "* As of April 30, 2022, a hypothetical 10% relative change in interest rates would not have had a material impact on the value of the company's cash equivalents or investment portfolio.\n",
            "* The company does not have any exposure to inflation risk.\n",
            "* The company may consider using derivative financial instruments to manage its foreign currency risk exposure in the future if its exposure to foreign currencies becomes more significant.\n",
            "* The company will continue to reassess its approach to managing its risk relating to fluctuations in currency rates as its international operations grow.\n",
            "\n",
            "Processing Category: Liquidity Ratios\n",
            "\n",
            "Prompt_1: The context provided discusses the importance of maintaining sufficient liquidity for the company's operations and fulfilling its obligations. It mentions that the company considers highly liquid investments with an original maturity of three months or less as cash equivalents, and it had restricted cash pledged as security deposits at April 30, 2022, and 2021. The company actively monitors and manages its cash and cash equivalents to fund its operations and other corporate purposes. If the company is unable to achieve and sustain increased levels of liquidity, it may face adverse consequences such as reduced investment in its C3 AI Software, difficulties in executing its business plan and fulfilling its obligations, and other operational challenges. In addition, the company believes that free cash flow, a non-GAAP financial measure, is useful in evaluating liquidity and provides information about its ability to fund future operating needs and strategic initiatives.\n",
            "\n",
            "Prompt_2: The context discusses the importance of liquidity for a company's operations and financial position. It mentions that the company considers highly liquid investments with an original maturity of three months or less at the time of purchase as cash equivalents, and it had restricted cash pledged as security deposits at April 30, 2022 and 2021. The company actively monitors and manages its cash and cash equivalents to fund its operations and other corporate purposes. The context also mentions that increased levels of liquidity may be required to adequately support the company's operations and initiatives and to mitigate the effects of business challenges or unforeseen circumstances. If the company is unable to achieve and sustain such increased levels of liquidity, it may suffer adverse consequences, including reduced investment in its C3 AI Software, difficulties in executing its business plan and fulfilling its obligations, and other operational challenges. The context also mentions that in addition to financial results determined in accordance with generally accepted accounting principles in the United States, the company believes free cash flow, a non-GAAP financial measure, is useful in evaluating liquidity and provides information to management and investors about the company's ability to fund future operating needs and strategic initiatives.\n",
            "\n",
            "Prompt_3: The context discusses the company's liquidity and cash management, including their cash equivalents, restricted cash, and the importance of maintaining sufficient liquidity to support their operations and initiatives. The context also mentions that free cash flow is a non-GAAP financial measure that is used to evaluate liquidity and provides information about the company's ability to fund future operating needs and strategic initiatives.\n",
            "\n",
            "Processing Category: Credit Risk\n",
            "\n",
            "Prompt_1: Based on the provided context, it appears that the company is discussing various risks associated with their business operations. The context mentions that the company's financial instruments, such as cash and cash equivalents, investments, and accounts receivable, are subject to credit risk, with the majority of cash and cash equivalents being held by a single financial institution. The company also mentions that they are exposed to interest rate risk and foreign currency exchange rate risk, but do not hold or issue financial instruments for trading purposes. Additionally, the context highlights that investing in the company's Class A common stock involves numerous risks, including those described under \"Risk Factors\" in Part I, Item 1A of the Annual Report on Form 10-K.\n",
            "\n",
            "Prompt_2: Based on the provided context, it appears that the company is discussing its exposure to various risks, including credit risk, market risk, and interest rate risk. The company's financial instruments that potentially subject it to concentration of credit risk include cash and cash equivalents, investments, and accounts receivable. The majority of the company's cash and cash equivalents are held by one financial institution, which exposes the company to that financial institution to the extent that its cash balance with that financial institution is in excess of Federal Deposit Insurance Company (FDIC) insurance limits. The company's investment policy is to invest in securities with a minimum rating of P-2 by Moody's, A-2 by Standard & Poor's, F2 by Fitch's or higher for short-term investments, and minimum rating of BBB by Moody's, Standard & Poor's, Fitch's or higher for long-term investments. The company is also exposed to market risks in the ordinary course of its business, primarily the result of fluctuations in interest rates and foreign currency exchange rates. The company does not hold or issue financial instruments for trading purposes.\n",
            "\n",
            "Prompt_3: The context provided discusses the Company's exposure to market risks, specifically in the areas of credit risk, interest rate risk, and foreign currency exchange rate risk. The Company's financial instruments that potentially subject it to concentration of credit risk include cash and cash equivalents, investments, and accounts receivable. The majority of the Company's cash and cash equivalents are held by one financial institution, which exposes the Company to that financial institution to the extent that its cash balance with that financial institution is in excess of Federal Deposit Insurance Company (FDIC) insurance limits. The Company's investment policy is to invest in securities with a minimum rating of P-2 by Moody's, A-2 by Standard & Poor's, F2 by Fitch's or higher for short-term investments, and minimum rating of BBB by Moody's, Standard & Poor's, Fitch's or higher for long-term investments.\n",
            "\n",
            "The context also mentions that the Company is exposed to market risks in the ordinary course of its business, primarily due to fluctuations in interest rates and foreign currency exchange rates. The Company does not hold or issue financial instruments for trading purposes.\n",
            "\n",
            "Investing in the Company's Class A common stock involves numerous risks, including the risks described under \"Risk Factors\" in Part I, Item 1A of the Annual Report on Form 10-K. The context provides a summary of some of the risks and uncertainties as of the date of the filing of the Annual Report on Form 10-K, any one of which could materially adversely affect the Company's business, financial condition, operating results, and prospects. The more detailed description of each risk factor is contained in the Annual Report on Form 10-K.\n",
            "\n",
            "Processing Category: Market Risk\n",
            "\n",
            "Prompt_1: The context provided discusses the market risks faced by a company in the ordinary course of its business. The company is exposed to market risks primarily due to fluctuations in interest rates and foreign currency exchange rates. The company does not engage in trading financial instruments for speculative purposes.\n",
            "\n",
            "Interest rate risk is a risk that may impact the company's financial position due to adverse changes in financial market prices and rates. The company's exposure to interest rate risk is primarily due to fluctuations in interest rates.\n",
            "\n",
            "Foreign currency exchange rate risk is also discussed, and the company notes that it does not currently hedge its exposure to foreign currencies, but it may do so in the future if its exposure becomes more significant. The company plans to reassess its approach to managing risk relating to fluctuations in currency rates as its international operations grow.\n",
            "\n",
            "Inflation risk is also mentioned, but no specific details are provided.\n",
            "\n",
            "Prompt_2: The context provided discusses the market risks faced by a company in the ordinary course of its business. The company is exposed to risks related to fluctuations in interest rates and foreign currency exchange rates. It does not engage in trading financial instruments for speculative purposes.\n",
            "\n",
            "The company's exposure to interest rate risk is influenced by various factors, including general economic conditions, monetary policies, and the creditworthiness of borrowers. To manage this risk, the company may use various strategies, such as entering into interest rate swaps or other derivative instruments.\n",
            "\n",
            "The company's exposure to foreign currency risk arises from its international operations, where it conducts business in currencies other than the U.S. dollar. To mitigate this risk, the company may use hedging strategies, such as entering into currency forwards or options. However, the company notes that it may not hedge all of its foreign currency exposure and may do so in the future if its exposure to foreign currencies becomes more significant.\n",
            "\n",
            "The context also mentions that the company is exposed to inflation risk, which represents the risk of loss due to adverse changes in inflation rates. The company does not provide details on how it manages this risk.\n",
            "\n",
            "Prompt_3: The company is exposed to market risks in the ordinary course of its business, primarily due to fluctuations in interest rates and foreign currency exchange rates. The company does not hold or issue financial instruments for trading purposes. The company is also subject to inflation risk. The company may manage its foreign currency risk through a variety of techniques, including the use of derivative instruments, but it has not done so in the past. The company may do so in the future if its exposure to foreign currencies should become more significant.\n"
          ]
        }
      ]
    }
  ]
}