{
  "nbformat": 4,
  "nbformat_minor": 0,
  "metadata": {
    "colab": {
      "provenance": [],
      "authorship_tag": "ABX9TyN4hKqk4sayM3qxrveZEvXP",
      "include_colab_link": true
    },
    "kernelspec": {
      "name": "python3",
      "display_name": "Python 3"
    },
    "language_info": {
      "name": "python"
    }
  },
  "cells": [
    {
      "cell_type": "markdown",
      "metadata": {
        "id": "view-in-github",
        "colab_type": "text"
      },
      "source": [
        "<a href=\"https://colab.research.google.com/github/duper203/upstage_cookbook/blob/main/DocVision_3_Generate_webpage.ipynb\" target=\"_parent\"><img src=\"https://colab.research.google.com/assets/colab-badge.svg\" alt=\"Open In Colab\"/></a>"
      ]
    },
    {
      "cell_type": "markdown",
      "source": [
        "# [Upstage DocVision#3] Build a simple Webpage from your drawing\n",
        "\n"
      ],
      "metadata": {
        "id": "koVySboOvaUm"
      }
    },
    {
      "cell_type": "markdown",
      "source": [
        "This will walk through an example of how to use the Upstage Solar DocVision API with LangChain to generate a simple webpage. The result will allow users to select their favorite ice cream flavor, based on the provided image."
      ],
      "metadata": {
        "id": "pX8fB0Fzv8qe"
      }
    },
    {
      "cell_type": "markdown",
      "source": [
        "# STEP 1: Requirements"
      ],
      "metadata": {
        "id": "ubkaZJyiwEaI"
      }
    },
    {
      "cell_type": "code",
      "execution_count": null,
      "metadata": {
        "id": "0zxZ5lfKsf0F"
      },
      "outputs": [],
      "source": [
        "pip install langchain-upstage"
      ]
    },
    {
      "cell_type": "code",
      "source": [
        "from google.colab import userdata\n",
        "upstage_api= userdata.get('upstage_api_key')"
      ],
      "metadata": {
        "id": "i_XQwh11smGP"
      },
      "execution_count": 14,
      "outputs": []
    },
    {
      "cell_type": "markdown",
      "source": [
        "# STEP 2: Encoding an Image\n",
        "To process the image with DocVision, you first need to encode it in base64 format. Whether the image is local or from a URL, the following function will help encode it:\n",
        "\n"
      ],
      "metadata": {
        "id": "idBAYaN5wIex"
      }
    },
    {
      "cell_type": "code",
      "source": [
        "import base64\n",
        "import requests\n",
        "\n",
        "def get_base64_encoded_image(image_source):\n",
        "    if image_source.startswith(\"http://\") or image_source.startswith(\"https://\"):\n",
        "        response = requests.get(image_source)\n",
        "        binary_data = response.content\n",
        "    else:\n",
        "        with open(image_source, \"rb\") as image_file:\n",
        "            binary_data = image_file.read()\n",
        "\n",
        "    base_64_encoded_data = base64.b64encode(binary_data)\n",
        "    base64_string = base_64_encoded_data.decode(\"utf-8\")\n",
        "    return base64_string"
      ],
      "metadata": {
        "id": "0qrGRBdruGO5"
      },
      "execution_count": 19,
      "outputs": []
    },
    {
      "cell_type": "markdown",
      "source": [
        "# Step 3: Generating an HTML Webpage with ChatUpstage\n"
      ],
      "metadata": {
        "id": "eMaIvSCvwTjI"
      }
    },
    {
      "cell_type": "code",
      "source": [
        "from langchain_upstage import ChatUpstage\n",
        "from langchain_core.messages import HumanMessage\n",
        "\n",
        "chat = ChatUpstage(api_key=upstage_api, model=\"solar-docvision\")\n",
        "\n",
        "file_path = 'website2.png'\n",
        "\n",
        "messages = [\n",
        "    HumanMessage(\n",
        "        content=[\n",
        "            {\"type\": \"text\",\n",
        "            \"text\": f\"Using the image as a reference for layout and design, create a responsive HTML webpage that allows users to choose their favorite ice cream flavor. The page should include a form with dropdown or radio button options for different flavors, a submit button, and a visually appealing design inspired by the layout of the image\"},\n",
        "            {\"type\": \"image_url\",\n",
        "                \"image_url\": {\n",
        "                    \"url\": f\"data:image/jpeg;base64,{get_base64_encoded_image(file_path)}\"\n",
        "                },\n",
        "            },\n",
        "        ],\n",
        "    ),\n",
        "]\n",
        "response = chat.invoke(messages)\n",
        "print(response.content)\n",
        "\n",
        "output_filename = \"webpage.html\"\n",
        "html = response.content\n",
        "with open(output_filename, \"w\") as f:\n",
        "    f.write(html)\n"
      ],
      "metadata": {
        "id": "ndlm1aols8qS"
      },
      "execution_count": null,
      "outputs": []
    },
    {
      "cell_type": "markdown",
      "source": [
        "## Display HTML"
      ],
      "metadata": {
        "id": "2x_nJuiTwjwp"
      }
    },
    {
      "cell_type": "code",
      "source": [
        "from IPython.display import HTML\n",
        "\n",
        "display(HTML(html))"
      ],
      "metadata": {
        "colab": {
          "base_uri": "https://localhost:8080/",
          "height": 194
        },
        "id": "vIct7nWqt5Um",
        "outputId": "a5f0f6f6-f3ab-4a44-bdbe-ef24b17b2f96"
      },
      "execution_count": 66,
      "outputs": [
        {
          "output_type": "display_data",
          "data": {
            "text/plain": [
              "<IPython.core.display.HTML object>"
            ],
            "text/html": [
              " <!DOCTYPE html>\n",
              "<html lang=\"en\">\n",
              "  <head>\n",
              "    <meta charset=\"UTF-8\" />\n",
              "    <meta name=\"viewport\" content=\"width=device-width, initial-scale=1.0\" />\n",
              "    <title>Choose Your Favorite Ice Cream Flavor</title>\n",
              "    <link\n",
              "      rel=\"stylesheet\"\n",
              "      href=\"https://stackpath.bootstrapcdn.com/bootstrap/4.1.3/css/bootstrap.min.css\"\n",
              "      integrity=\"sha384-MCw98/SFnGE8fJT3GXwEOngsV7Zt27NXFoaoApmYm81iuXoPkFOJwJ8ERdknLPMO\"\n",
              "      crossorigin=\"anonymous\"\n",
              "    />\n",
              "    <style>\n",
              "      body {\n",
              "        background-color: #f5f5f5;\n",
              "      }\n",
              "      .container {\n",
              "        max-width: 720px;\n",
              "        margin: 0 auto;\n",
              "        padding: 1rem 1rem;\n",
              "      }\n",
              "      .form-group {\n",
              "        margin-bottom: 1rem;\n",
              "      }\n",
              "      .form-control {\n",
              "        background-color: white;\n",
              "        border-color: #ddd;\n",
              "        border-radius: 2px;\n",
              "        padding: 0.5rem 1rem;\n",
              "      }\n",
              "      .form-control:focus {\n",
              "        outline: none;\n",
              "        box-shadow: none;\n",
              "      }\n",
              "      .btn {\n",
              "        background-color: #007bff;\n",
              "        border-color: #007bff;\n",
              "        color: white;\n",
              "        border-radius: 2px;\n",
              "        padding: 0.5rem 1rem;\n",
              "        transition: all 0.2s ease-in-out;\n",
              "      }\n",
              "      .btn:hover {\n",
              "        background-color: #005a9b;\n",
              "        border-color: #005a9b;\n",
              "      }\n",
              "    </style>\n",
              "  </head>\n",
              "  <body>\n",
              "    <div class=\"container\">\n",
              "      <h1>Choose Your Favorite Ice Cream Flavor</h1>\n",
              "      <form method=\"POST\">\n",
              "        <div class=\"form-group\">\n",
              "          <label for=\"ice-cream-flavor\">Ice Cream Flavor</label>\n",
              "          <select id=\"ice-cream-flavor\" name=\"ice-cream-flavor\">\n",
              "            <option value=\"\">-- Choose a Flavor --</option>\n",
              "            <option value=\"strawberry\">Strawberry</option>\n",
              "            <option value=\"chocolate\">Chocolate</option>\n",
              "            <option value=\"vanilla\">Vanilla</option>\n",
              "          </select>\n",
              "        </div>\n",
              "        <button type=\"submit\" class=\"btn\">Submit</button>\n",
              "      </form>\n",
              "    </div>\n",
              "  </body>\n",
              "</html>\n",
              "\n"
            ]
          },
          "metadata": {}
        }
      ]
    },
    {
      "cell_type": "markdown",
      "source": [
        "# STEP 4: Make it fancier~ with Solar Pro"
      ],
      "metadata": {
        "id": "3VGdtQvQygA6"
      }
    },
    {
      "cell_type": "code",
      "source": [
        "from langchain_core.prompts import ChatPromptTemplate\n",
        "from langchain_core.output_parsers import StrOutputParser\n",
        "\n",
        "chat_html = ChatUpstage(api_key=upstage_api, model=\"solar-pro\")\n",
        "\n",
        "prompt_template = ChatPromptTemplate.from_messages(\n",
        "    [\n",
        "        (\n",
        "            \"human\",\n",
        "            \"\"\"Without changing the basic html layout, design a visually appealing webpage with a light purple color scheme Feel free to add your own creative elements. only return the final HTML code.\n",
        "\n",
        "            ---\n",
        "            **the basic html:**\n",
        "            {html}\n",
        "            ---\n",
        "            \"\"\",\n",
        "        )\n",
        "    ]\n",
        ")\n",
        "\n",
        "chain_pro = prompt_template | chat_html | StrOutputParser()\n",
        "response = chain_pro.invoke(\n",
        "            {\n",
        "                \"html\": html,\n",
        "            }\n",
        ")\n",
        "# print(response)"
      ],
      "metadata": {
        "id": "C7_GOg_fwwIj"
      },
      "execution_count": 74,
      "outputs": []
    },
    {
      "cell_type": "code",
      "source": [
        "display(HTML(response))"
      ],
      "metadata": {
        "colab": {
          "base_uri": "https://localhost:8080/",
          "height": 210
        },
        "id": "6c7pYYT_w1sf",
        "outputId": "6622235f-e554-4362-b588-f1f2571bde31"
      },
      "execution_count": 75,
      "outputs": [
        {
          "output_type": "display_data",
          "data": {
            "text/plain": [
              "<IPython.core.display.HTML object>"
            ],
            "text/html": [
              "<!DOCTYPE html>\n",
              "<html lang=\"en\">\n",
              "  <head>\n",
              "    <meta charset=\"UTF-8\" />\n",
              "    <meta name=\"viewport\" content=\"width=device-width, initial-scale=1.0\" />\n",
              "    <title>Choose Your Favorite Ice Cream Flavor</title>\n",
              "    <link\n",
              "      rel=\"stylesheet\"\n",
              "      href=\"https://stackpath.bootstrapcdn.com/bootstrap/4.1.3/css/bootstrap.min.css\"\n",
              "      integrity=\"sha384-MCw98/SFnGE8fJT3GXwEOngsV7Zt27NXFoaoApmYm81iuXoPkFOJwJ8ERdknLPMO\"\n",
              "      crossorigin=\"anonymous\"\n",
              "    />\n",
              "    <style>\n",
              "      body {\n",
              "        background-color: #e6e6fa; /* light purple color scheme */\n",
              "      }\n",
              "      .container {\n",
              "        max-width: 720px;\n",
              "        margin: 0 auto;\n",
              "        padding: 1rem 1rem;\n",
              "      }\n",
              "      .form-group {\n",
              "        margin-bottom: 1rem;\n",
              "      }\n",
              "      .form-control {\n",
              "        background-color: white;\n",
              "        border-color: #bbb; /* matching color scheme */\n",
              "        border-radius: 2px;\n",
              "        padding: 0.5rem 1rem;\n",
              "      }\n",
              "      .form-control:focus {\n",
              "        outline: none;\n",
              "        box-shadow: none;\n",
              "      }\n",
              "      .btn {\n",
              "        background-color: #c4a0ff; /* matching color scheme */\n",
              "        border-color: #c4a0ff;\n",
              "        color: white;\n",
              "        border-radius: 2px;\n",
              "        padding: 0.5rem 1rem;\n",
              "        transition: all 0.2s ease-in-out;\n",
              "      }\n",
              "      .btn:hover {\n",
              "        background-color: #a080ff; /* matching color scheme */\n",
              "        border-color: #a080ff;\n",
              "      }\n",
              "      h1 {\n",
              "        color: #773f93; /* matching color scheme */\n",
              "      }\n",
              "      select {\n",
              "        height: 3rem;\n",
              "        padding: 0.5rem 1rem;\n",
              "      }\n",
              "    </style>\n",
              "  </head>\n",
              "  <body>\n",
              "    <div class=\"container\">\n",
              "      <h1>Choose Your Favorite Ice Cream Flavor</h1>\n",
              "      <form method=\"POST\">\n",
              "        <div class=\"form-group\">\n",
              "          <label for=\"ice-cream-flavor\">Ice Cream Flavor</label>\n",
              "          <select id=\"ice-cream-flavor\" name=\"ice-cream-flavor\">\n",
              "            <option value=\"\">-- Choose a Flavor --</option>\n",
              "            <option value=\"strawberry\">Strawberry</option>\n",
              "            <option value=\"chocolate\">Chocolate</option>\n",
              "            <option value=\"vanilla\">Vanilla</option>\n",
              "          </select>\n",
              "        </div>\n",
              "        <button type=\"submit\" class=\"btn\">Submit</button>\n",
              "      </form>\n",
              "    </div>\n",
              "  </body>\n",
              "</html>"
            ]
          },
          "metadata": {}
        }
      ]
    }
  ]
}
