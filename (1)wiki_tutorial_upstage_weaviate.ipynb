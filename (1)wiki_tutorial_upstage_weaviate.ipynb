{
  "cells": [
    {
      "cell_type": "markdown",
      "metadata": {
        "id": "view-in-github",
        "colab_type": "text"
      },
      "source": [
        "<a href=\"https://colab.research.google.com/github/duper203/upstage_cookbook/blob/main/(1)wiki_tutorial_upstage_weaviate.ipynb\" target=\"_parent\"><img src=\"https://colab.research.google.com/assets/colab-badge.svg\" alt=\"Open In Colab\"/></a>"
      ]
    },
    {
      "cell_type": "code",
      "execution_count": null,
      "metadata": {
        "id": "exvpxI9-W5BO"
      },
      "outputs": [],
      "source": [
        "from google.colab import userdata\n",
        "upstage_api_key = userdata.get('upstage_api_key')\n",
        "WEAVIATE_INSTANCE_URL = userdata.get('WEAVIATE_INSTANCE_URL')\n",
        "Weaviate_API_Key=userdata.get('Weaviate_API_Key')"
      ]
    },
    {
      "cell_type": "markdown",
      "metadata": {
        "id": "dzI1INV24f0A"
      },
      "source": [
        "# 1. Collect & Chunk Data\n",
        "\n"
      ]
    },
    {
      "cell_type": "code",
      "execution_count": null,
      "metadata": {
        "collapsed": true,
        "id": "hKuF8v8w3pp4"
      },
      "outputs": [],
      "source": [
        "pip install -U langchain-community"
      ]
    },
    {
      "cell_type": "code",
      "execution_count": null,
      "metadata": {
        "collapsed": true,
        "id": "qkPSpjp_4Cll"
      },
      "outputs": [],
      "source": [
        "pip install wikipedia"
      ]
    },
    {
      "cell_type": "code",
      "execution_count": null,
      "metadata": {
        "id": "sPjqD0Us29KU"
      },
      "outputs": [],
      "source": [
        "from langchain.document_loaders import WikipediaLoader\n",
        "from langchain.text_splitter import RecursiveCharacterTextSplitter"
      ]
    },
    {
      "cell_type": "code",
      "execution_count": null,
      "metadata": {
        "id": "YP3gKHSU3KPz"
      },
      "outputs": [],
      "source": [
        "search_term = \"2024 Summer Olympics\"\n",
        "docs = WikipediaLoader(query=search_term, load_max_docs=20).load_and_split()"
      ]
    },
    {
      "cell_type": "code",
      "execution_count": null,
      "metadata": {
        "colab": {
          "base_uri": "https://localhost:8080/"
        },
        "id": "Absnpf2I3YUs",
        "outputId": "3b920d11-b218-464c-ccdd-bf859b2b8417"
      },
      "outputs": [
        {
          "output_type": "execute_result",
          "data": {
            "text/plain": [
              "20"
            ]
          },
          "metadata": {},
          "execution_count": 6
        }
      ],
      "source": [
        "# Checks : See how many documents were loaded\n",
        "len(docs)"
      ]
    },
    {
      "cell_type": "code",
      "execution_count": null,
      "metadata": {
        "id": "zBn-Lelq4EHM"
      },
      "outputs": [],
      "source": [
        "# Checks : See what kind if documents were loaded\n",
        "docs[3].page_content"
      ]
    },
    {
      "cell_type": "markdown",
      "metadata": {
        "id": "Jposdikl4oCX"
      },
      "source": [
        "# 2. Embedding"
      ]
    },
    {
      "cell_type": "code",
      "execution_count": null,
      "metadata": {
        "collapsed": true,
        "id": "YkqtyQNa4WQN"
      },
      "outputs": [],
      "source": [
        "pip install -qU langchain-core langchain-upstage"
      ]
    },
    {
      "cell_type": "code",
      "execution_count": null,
      "metadata": {
        "id": "pGAurMeO7DuH"
      },
      "outputs": [],
      "source": [
        "from langchain_upstage import UpstageEmbeddings\n",
        "\n",
        "embeddings = UpstageEmbeddings(\n",
        "  api_key=upstage_api_key,\n",
        "  model=\"solar-embedding-1-large\"\n",
        ")"
      ]
    },
    {
      "cell_type": "code",
      "execution_count": null,
      "metadata": {
        "colab": {
          "base_uri": "https://localhost:8080/"
        },
        "id": "gLKFssK14tuR",
        "outputId": "2bfb08a2-53db-435d-877e-da90e5d89433"
      },
      "outputs": [
        {
          "output_type": "stream",
          "name": "stdout",
          "text": [
            "[\"The 2024 Summer Olympics, officially the Games of the XXXIII Olympiad and branded as Paris 2024, were an international multi-sport event that occurred from 26 July to 11 August 2024 in France, with the opening ceremony having taken place on 26 July. Paris was the host city, with events (mainly football) held in 16 additional cities spread across metropolitan France, including the sailing centre in the second-largest city of France, Marseille on the Mediterranean Sea, as well as one subsite for surfing in Tahiti, French Polynesia.\\nParis was awarded the Games at the 131st IOC Session in Lima, Peru, on 13 September 2017. After multiple withdrawals that left only Paris and Los Angeles in contention, the International Olympic Committee (IOC) approved a process to concurrently award the 2024 and 2028 Summer Olympics to the two remaining candidate cities; both of the bids were praised for high technical plans and innovative ways to use a record-breaking number of existing and temporary facilities. Having previously hosted in 1900 and 1924, Paris became the second city ever to host the Summer Olympics three times (after London, which hosted the games in 1908, 1948, and 2012). Paris 2024 marked the centenary of Paris 1924 and Chamonix 1924 (the first Winter Olympics), as well as the sixth Olympic Games hosted by France (three Summer Olympics and three Winter Olympics) and the first with this distinction since the 1992 Winter Games in Albertville. The Summer Games returned to the traditional four-year Olympiad cycle, after the 2020 edition was postponed to 2021 due to the COVID-19 pandemic.\\nParis 2024 featured the debut of breaking as an Olympic sport, and was the final Olympic Games held during the IOC presidency of Thomas Bach. The 2024 Games were expected to cost €9 billion. The opening ceremony was held outside of a stadium for the first time in modern Olympic history, as athletes were paraded by boat along the Seine. Paris 2024 are the first Olympics in history to reach full gender parity on the field of play.\\nThe United States topped the medal table for the fourth consecutive time, with 40 gold medals and 126 medals in total. China tied with the United States in terms of gold medals (40), and finished second with 91 medals in total. Japan finished third with 20 gold medals and sixth in the overall medal count. Australia finished fourth with 18 gold medals and fifth in the overall medal count. The host nation, France, finished fifth with 16 gold and 64 total medals. Dominica, Saint Lucia, Cape Verde and Albania won their first-ever Olympic medals, the former two both being gold, with Botswana and Guatemala also winning their first-ever gold medals. The Refugee Olympic Team also won their first-ever medal, a bronze in boxing. At the conclusion of the games, despite some controversies throughout relating to politics, logistics and conditions in the Olympic Village, the Games were considered a success by the press and observers.\\n\\n\\n== Host selection ==\\n\\nHaving previously hosted the 1900 and 1924 Games, Paris did not attempt to host the Olympics again until it bid, unsuccessfully, for the 1992 Games which were awarded to Barcelona. Subsequent bids for the 2008 and 2012 Games were also unsuccessful, as they were awarded to Beijing and London, respectively. Undeterred, Paris decided to bid once more for the 2024 edition, which would mark the centenary of its last Games.\\nThe six candidate cities were Paris, Hamburg, Boston, Budapest, Rome, and Los Angeles. The bidding process was slowed by withdrawals, political uncertainty, and deterring costs. Boston surpassed Los Angeles, San Francisco, and Washington, DC, for the official U.S. bid. On 27 July 2015, Boston and the USOC mutually agreed to terminate Boston's bid to host the Games, partly because of mixed feelings among city residents. Hamburg withdrew its bid on 29 November 2015 after holding a referendum. Rome withdrew on 21 September 2016, citing fiscal difficulties. Budapest withdrew o\", 'Athletics at the 2024 Summer Olympics in Paris were held between 1 and 11 August 2024, featuring a total of 48 medal events across three distinct sets: track and field, road running, and racewalking. Four venues were used: Pont d\\'Iéna for race walking, Hôtel de Ville and Les Invalides for the start and end points of the marathon races, and Stade de France for the track and field events.\\nThe competition featured an identical number of medal events for men and women, the first instance in Olympic history. The marathon race walk mixed relay through a marathon course was contested for the first time at these Games, replacing the men\\'s 50 kilometres race walk in the quest for gender equality.\\nAnother significant change to the athletics program was the repechage round format in all individual track events from 200 to 1500 m and the hurdles events (110 m for men, 100 m for women, and 400 m for both), a vast opportunity for the runners to have a second chance of entering the semifinal phase. This format replaced the former system of athletes advancing through the fastest overall times (q) apart from those qualifying directly in the first-round heats (Q).\\n\\n\\n== Venues ==\\nTrack and field events were staged at the Stade de France, with the race walks having been contested at Pont d\\'Iena. The marathon races began at the Hôtel de Ville (city hall) and ended in Les Invalides. Along the course, runners traversed many of the city\\'s most iconic sites and Olympic venues throughout the route.\\nThis traditional marathon course also set a particularly tough profile with an overall elevation gain or loss of 438 m. The route, specially designed for the Paris 2024 Games and approved by World Athletics, was unique, demanding, and technical. Paris 2024 unveiled the routes for the Olympic marathon and the two races – a 42.195 km course and a 10 km course – open to the general public as part of the mass event running.\\n\\n\\n== Schedule ==\\nRoad events (marathons and racewalks) were held in the morning session of the athletics program schedule, with all track, field, and combined events staging their finals in the evening session for the first time since London 2012.\\nFor the first time in its four-decade-long Olympic history since the 1984 Los Angeles Games, the women\\'s marathon occurred on the last day of the athletics program on 11 August, with the men\\'s race having taken place the day prior on 10 August. According to Tony Estanguet, a triple Olympic slalom canoeing champion and president of the Paris 2024 organising committee, \"We wanted to reverse the order in an ambition to more gender equality and bring women to the fore for the first time so the women\\'s marathon will enjoy major visibility on 11 August to cap off the athletics program.\"\\n\\n\\n== Qualification ==\\n\\n\\n=== Athletics – individual events ===\\nAt the end of the 2022 season, World Athletics established a qualification system for athletics competition at the 2024 Summer Olympics. Similar to the previous edition, the qualification system was set on a dual pathway, where the initial half of the total quota (about fifty percent) was distributed to the athletes through entry standards approved by the World Athletics council, with the remainder relying on the world ranking list within the qualifying period. Each country was able to enter a maximum of three athletes for each individual event on the Paris 2024 athletics program. The qualification period for all track and field events (except the 10,000 metres, heptathlon, and decathlon) ran from 1 July 2023 to 30 June 2024.\\n\\n\\n=== Athletics – relay teams ===\\nEach relay event featured sixteen teams from their respective NOCs, composed of the following:\\n\\n14: top fourteen teams based on their results achieved at the 2024 World Athletics Relays in Nassau, Bahamas\\n2: top two teams outside the key qualifier according to the World Athletics performance list for relays within the qualification period (31 December 2022 to 30 June 2024)\\n\\n\\n=== Athletics – marathon race wa', 'Breakdancing competitions at the 2024 Summer Olympics ran from 9 to 10 August at Place de la Concorde, marking the sport\\'s official debut in the program and the first dancesport discipline to appear in Summer Olympic history. Following its successful debut at the 2018 Summer Youth Olympics in Buenos Aires, breaking was confirmed as one of the three additional sports, along with sport climbing and surfing, approved for Paris 2024. The competition saw a total of thirty-three breakers (sixteen b-boys and seventeen b-girls) staged in face-to-face single battles. IOC president Thomas Bach stated that breaking was added as part of an effort to draw more interest from young people in the Olympics.\\n\\n\\n== Inclusion ==\\nBreaking was introduced at the 2024 Summer Olympics in Paris as an optional (temporary) sport. Despite the United States being the birthplace of breakdancing, the sport is not set to be included at the 2028 Summer Olympics in Los Angeles; on its omittance in the latter, the IOC\\'s sports director Kit McConnell stated that \"It\\'s up to each local organizing committee to determine which [additional] sports to put forward that fit with their vision of the Games. Obviously, breaking fit very clearly with Paris\\'s vision of a very youth-focused urban engagement.\" For LA 2028, baseball, softball, cricket, flag football, lacrosse, and squash were approved. World DanceSport Federation (WDSF), the sport\\'s governing body, was cited as working toward ensuring breaking\\'s inclusion at the 2032 Summer Olympics in Brisbane.\\n\\n\\n== Competition format ==\\nThe breaking competition comprised two gender-based medal events (one for men and the other for women) where sixteen B-Boys and sixteen B-Girls competed against each other. \\nThe competition began with a round robin stage. The 16 breakers were split in four groups and danced against the others in their group for a minute each. The two best breakers from each group progressed to the knockout stage, where breakers were eliminated from the competition after losing a one-on-one match.\\n\\n\\n=== Scoring ===\\nThe winner was determined by a panel of nine judges, who scored each battle based on five criteria each worth a fifth of the point maximum. The criteria were:\\n\\nTechnique: The correct execution of moves, as well as athleticism, body control, dynamics, space control, form, lines and shape.\\nVocabulary: The number and variety of moves. A high score requires a diverse set of moves in multiple positions. Moves are grouped into toprock (dance elements executed while standing), downrock (spinning on the floor, combined with footwork, drops and transitions) and freeze (a stop in an acrobatic position).\\nExecution: The clean performance of moves, and the distinction of moves from one another so that they flow, but not blend, into another.\\nMusicality: How well the breaker reacts to and expresses the music, which is provided by a tournament staff DJ and not known to the breakers before the match.\\nOriginality: How the breaker \"wows\" the audience by making the dance their own.\\n\\n\\n== Qualification ==\\n\\nA total of 32 quota places (sixteen each for B-Girls and B-Boys) were available for eligible dancers to compete for the inaugural medals in breaking. NOCs could enter a maximum of four breakers (two per gender) across two medal events.\\nOver eighty percent of the total quota was attributed to a large number of breakers through a tripartite qualification route. First, the 2023 WDSF World Championships, scheduled for 23 to 24 September in Leuven, Belgium, awarded the B-Boy and B-Girl champion with a direct quota place for Paris 2024. Second, a quintet of spots were assigned to the highest-ranked eligible breakers (one B-Boy and one B-Girl) competing in each of the designated continental meets (Africa, Americas, Asia, Europe, and Oceania), respecting the two-member NOC limit. The remaining breakers were provided the final opportunity to book their slots for Paris 2024 through a four-month-long Olympic Qualifier Series, held', \"The basketball competitions at the 2024 Summer Olympics in Paris, France, were held from 27 July to 11 August 2024. Preliminary 5x5 basketball matches occurred at Stade Pierre-Mauroy in Lille, with the final phase staged at the Bercy Arena (not referred to as the Accor Arena due to IOC rules disallowing Olympic host venues to be named after corporate sponsors) in Paris. Retaining its position in the program, the 3x3 competitions were played at Place de la Concorde.\\n\\n\\n== Medal summary ==\\n\\n\\n=== Medal table ===\\n  *   Host nation (France)\\n\\n\\n=== Medalists ===\\n\\n\\n== Qualification summary ==\\n\\n\\n== Competition schedule ==\\n\\n\\n== 5x5 basketball ==\\n\\n\\n=== Qualification ===\\nThe National Olympic Committees may enter only one 12-player men's team and only one 12-player women's team.\\n\\n\\n==== Men's qualification ====\\n\\n\\n==== Women's qualification ====\\n\\n\\n=== Men's tournament ===\\n\\n\\n==== Preliminary round ====\\n\\n\\n===== Group A =====\\n\\n\\n===== Group B =====\\n\\n\\n===== Group C =====\\n\\n\\n===== Third-placed team rankings =====\\n\\n\\n==== Knockout stage ====\\n\\n\\n==== Final standings ====\\n\\n\\n=== Women's tournament ===\\n\\n\\n==== Preliminary round ====\\n\\n\\n===== Group A =====\\n\\n\\n===== Group B =====\\n\\n\\n===== Group C =====\\n\\n\\n===== Third-placed team rankings =====\\n\\n\\n==== Knockout stage ====\\n\\n\\n==== Final ranking ====\\n\\n\\n== 3x3 basketball ==\\n\\n\\n=== Qualification ===\\nFor the second time in history, the 3x3 basketball tournament features eight teams competing in the men's and women's events. The National Olympic Committees may enter only one 4-player men's team and only one 4-player women's team. Each team constitutes three players on the court and a single substitute.\\n\\n\\n==== Men's qualification ====\\n\\n\\n==== Women's qualification ====\\n\\n\\n=== Men's tournament ===\\n\\n\\n==== Pool ====\\n\\n\\n==== Knockout stage ====\\n\\n\\n==== Final ranking ====\\n\\n\\n=== Women's tournament ===\\n\\n\\n==== Pool ====\\n\\n\\n==== Knockout stage ====\\n\\n\\n==== Final ranking ====\\n\\n\\n== See also ==\\nBasketball at the 2022 Asian Games\\nBasketball at the 2023 Pan American Games\\nWheelchair basketball at the 2024 Summer Paralympics\\n\\n\\n== References ==\\n\\n\\n== External links ==\\nOfficial website\", \"The wrestling competitions at the 2024 Summer Olympics in Paris are scheduled to run from 5 to 11 August at Grand Palais Éphémère in Champ de Mars. 288 wrestlers are expected to compete across 18 weight categories at these Games. The men will wrestle against each other in both freestyle and Greco-Roman events, whereas the women will only participate in the freestyle wrestling, with 18 gold medals awarded. Wrestling has been contested at every modern Summer Olympic Games, except Paris 1900.\\nMijaín López became the first and only athlete in modern Olympics history to win five consecutive gold medals in the same individual event after winning in the Greco-Roman wrestling 130 kg.\\n\\n\\n== Competition format ==\\nSixteen wrestlers compete in each division. The competition consists of a single-elimination tournament, with a repechage used to determine the winner of two bronze medals. The two finalists will wrestle for the gold and silver medals. Each wrestler losing to one of the two finalists moves into the repechage that culminates in a pair of bronze medal matches featuring the semifinal losers who each face the remaining repechage opponent from their half of the bracket.\\n\\n\\n== Qualification ==\\n\\nSimilar to the previous Games, 288 wrestling quota places were available through three competition phases for Paris 2024. Each NOC could only qualify one wrestler per weight class. No host country spots will be allocated in wrestling.\\nThe qualification period began at the 2023 World Wrestling Championships, held from the 16 to 24 September in Belgrade, Serbia, where five quota places for each of the eighteen weight categories were awarded to four medalists (gold, silver, and two bronze) along with the champion of a bout between two losers from the bronze-medal matches. At the beginning of the 2024 season, four continental qualification tournaments (Asia, Europe, the Americas, and the joint Africa & Oceania) distributed a total of 144 spots to the top two finalists of each continent across eighteen weight categories. The remainder of the total quota were decided at the 2024 World Qualification Tournament, offering three quota places per weight category to the two highest-ranked wrestlers and the champion of a wrestle-off between two bronze medalists.\\n\\n\\n=== Azerbaijani qualification match fixing scandal ===\\nDuring the 2024 European Wrestling Olympic Qualification Tournament in Baku, Azerbaijan, Italian wrestler Frank Chamizo stated that he was offered a $300,000 bribe to lose to Azerbaijani wrestler Turan Bayramov, which Chamizo refused. After a controversial referee decision resulted in Bayramov winning on criteria, Chamizo accused the referee of match fixing. Two weeks after the tournament, the refereeing body that officiated the match were suspended by the UWW after two independent panels ruled the bout was scored incorrectly. However, the result cannot be changed after the winner is officially declared, due to a policy. Chamizo ended up qualified by ranking, due to several olympic spots being redistributed after the denial of athletes from Russia and Belarus.\\n\\n\\n== Competition schedule ==\\n\\n\\n== Medal summary ==\\n\\n\\n=== Medal table ===\\n  *   Host nation (France)\\n\\n\\n=== Men's freestyle ===\\n\\n\\n=== Men's Greco-Roman ===\\n\\n\\n=== Women's freestyle ===\\n\\n\\n== Participating nations ==\\nThere are 61 participating nations:\\n\\n\\n== References ==\\n\\n\\n== External links ==\\nResults book\", 'The swimming competitions at the 2024 Summer Olympics in Paris were held from 27 July to 9 August 2024. Pool events (27 July to 4 August) took place at the Paris La Défense Arena, with the two-day marathon swimming (8 to 9 August) staged at Pont Alexandre III through the Seine River.\\n\\n\\n== Events ==\\nSimilar to the 2020 program format, swimming features a total of 37 events (18 each for men and women and 1 mixed event), including two 10 km open-water marathons. The following events were contested (all pool events are long-course, and distances are in meters unless stated):\\n\\nFreestyle: 50, 100, 200, 400, 800, and 1500;\\nBackstroke: 100 and 200;\\nBreaststroke: 100 and 200;\\nButterfly: 100 and 200;\\nIndividual medley: 200 and 400;\\nRelays: 4 × 100 free, 4 × 200 free; 4 × 100 medley (men\\'s, women\\'s, and mixed)\\nMarathon: 10 kilometres\\n\\n\\n=== Schedule ===\\nThe swimming program schedule for Paris 2024 will occur in two segments. For the pool events, similar to the case for the  2012 Games, prelims ran in the morning, followed by the semifinal and final sessions in the evening and the night session (due to the substantial fees NBC has paid for rights to the Olympics, the IOC has allowed NBC to have influence on event scheduling to maximize U.S. television ratings when possible; NBC agreed to a $7.75 billion contract extension on 7 May 2014, to air the Olympics through the 2032 Games and is also one of the major sources of revenue for the IOC). Several significant changes are instituted to the swimming schedule, with the program extending to nine days for the first time as opposed to the regular eight-day format. The extra day would be used to alleviate the schedules of the swimmers who would compete in the individual and relay events at the same period. Moreover, it relieves a packed schedule that witnessed three new events added to the program at the previous Games.\\nIn February 2024, a change was announced to the original schedule for Days 5 and 6, after lobbying by the French swimming governing body to give Léon Marchand a chance to win both the men\\'s 200 metre butterfly and 200 metre breaststroke events. All events remain on the originally planned days, but the event order has been modified to create a longer gap between the 200 metre butterfly and 200 metre breaststroke events.\\n\\n\\n== Qualification ==\\n\\n\\n=== Individual events ===\\nWorld Aquatics establishes qualifying times for individual events. The time standards consist of two types, namely an \"Olympic Qualifying Time\" (OQT, colloquially known as the A-cut) and an \"Olympic Consideration time\" (OCT, colloquially known as the B-cut). Each country can enter a maximum of two swimmers per event, provided that they meet the (faster) qualifying time. A country can enter one swimmer per event that meets the invitation standard. Any swimmer who meets the \"qualifying\" time will be entered into the event for the Games; a swimmer meeting the \"invitation\" standard is eligible for entry allotted by ranking. If a country does not have a swimmer who meets either of the qualifying standards, it may have entered one male and one female. A country that does not receive an allocation spot but enters at least one swimmer achieving a qualifying standard might have entered those with the highest ranking.\\n\\n\\n=== Relay events ===\\nEach relay event features 16 teams, composed of the following:\\n\\n3: top three teams based on their final results achieved at the 2023 World Aquatics Championships in Fukuoka, Japan\\n13: top thirteen teams, with the fastest times based upon the results achieved in their preliminary heat and finals performances in the 2023 World Aquatics Championships in Fukuoka and 2024 World Aquatics Championships in Doha, excluding those teams already qualified in that event from the 2023 World Aquatics Championships in Fukuoka.\\nAll athletes entered in individual events can be used in relays, even if they have not achieved the OCT for the corresponding stroke and distance of the relay in which they are enter', \"The United States of America (USA), represented by the United States Olympic & Paralympic Committee (USOPC), competed at the 2024 Summer Olympics in Paris from July 26 to August 11, 2024. U.S. athletes have appeared in every Summer Olympic Games of the modern era, except for the 1980 edition in Moscow, when America led a sixty-six-nation boycott in protest of the Soviet invasion of Afghanistan. As Los Angeles is hosting the 2028 Summer Olympics, the United States marched penultimately before the homebound French team entered Place du Trocadéro during the parade of nations segment of the opening ceremony. Additionally, an American segment featuring H.E.R. and Tom Cruise from Paris, and the Red Hot Chili Peppers, Billie Eilish, Snoop Dogg, and Dr. Dre from Long Beach, was performed during the closing ceremony.\\nThe opening ceremony flag-bearers for the United States were LeBron James and Coco Gauff. James, a two-time Olympic gold medalist, is the first male basketball player to be chosen. At 20 years of age, Gauff is the youngest American athlete and the first tennis player to be so honored. The closing ceremony flag-bearers were Nick Mead and Katie Ledecky. Mead was part of the U.S. men's four rowing team that won their first gold medal since 1960, while Ledecky, a nine-time Olympic gold medalist, became the most decorated female Olympian to be chosen.\\nThe United States competed in all sports except handball and was represented by more female than male athletes for the fourth consecutive time in the Summer Olympics (278 men and 314 women).\\nThe team topped the medal rankings, with a total of 40 gold, 44 silver, and 42 bronze medals. Tied with China on having the same number of gold medals (40), the U.S. placed first in the overall medal tally through winning a count-back (44–27 in silver). The occasion also marked the first time in Summer Olympic history that two countries finished with an equal number of gold medals at the top.\\n\\n\\n== Medalists ==\\n\\nThe following U.S. competitors won medals at the games. In the discipline sections below, the medalists' names are bolded.\\n\\na  Athletes who participated in the heats only.\\n\\n\\n== Competitors ==\\nOn July 10, 2024, the United States Olympic & Paralympic Committee announced the 592 athletes (314 women and 278 men) that had qualified for and would compete at the 2024 Paris Olympics.\\nThe following is the list of number of competitors in the Games. Note that reserves in soccer are not counted:\\n\\n\\n== Background ==\\nThe United States will be looking to extend its winning streak both in the gold medal count and overall medal count to the fourth and eighth consecutive Olympic Games, respectively. In the run-up to the Paris Olympics, the USOPC debuted an all-new brand platform, One for All, showcasing the many powerful stories of the athletes who make up the collective Team USA.\\nBest results (both records)\\n\\nGold medals – 83 (1984 Summer Olympics)\\nTotal medals – 231 (1904 Summer Olympics)\\n\\nData technology firm Gracenote, which specializes in Olympic medal projections, traditionally published its first estimates a year before the Games' commencement, in July 2023. In this release, based on the analysis of recent performances, the United States was predicted to win 43 gold, 43 silver, and 42 bronze medals at Paris for a total of 128 ahead of hosts France (32–20–11) and China (26–20–22). In January 2024, the projection was adjusted to 37 gold and 129 total medals (China: 35–85, France 26–53). In May 2024, it was again slightly adjusted to 39 gold, 125 overall (China: 33–90, France 29–55).\\n\\n\\n== Team leaders ==\\nRocky Harris was named the chef de mission of the 2024 U.S. Olympic team. Team USA House is located in the Palais Brongniart, offering guests a home base to cheer on and celebrate American athletes at the Games. Jose Castillo, a Johnson City, Tennessee entrepreneur, will serve as a host at Team USA House.\\n\\n\\n== Uniforms ==\\n\\nTeam USA revealed 2024 Paris Olympics opening ceremony and closing ceremony uni\", 'Individual Neutral Athletes is the name used to represent approved individual Russian and Belarusian athletes at the 2024 Summer Olympics, after the International Olympic Committee (IOC) banned those nations\\' previous designations due to the Russian invasion of Ukraine in 2022 that is still ongoing as of 2024. The IOC country code is AIN, from the French athlètes individuels neutres.\\nThe delegation was banned from using the Olympic flag and Olympic anthem, which was the usual custom for neutral designated athletes in previous games. They instead used a jade or turquoise flag depicting a circular AIN emblem and a one-off instrumental anthem, both assigned by the IOC. Individual neutral athletes must be first background checked and then approved by each sport\\'s international federation, and then by a special panel created by the IOC. As individual athletes, the delegation did not take part in the parade of nations during the opening ceremony, nor was listed as a delegation in the official medal tables.\\nWhile the flag uses the singular wording \"Individual Neutral Athlete\", the IOC uses the plural wording \"Individual Neutral Athletes\" in prose.\\n\\n\\n== Background ==\\n\\n\\n=== Timeline ===\\nFollowing the Russian invasion of Ukraine on 24 February 2022, which began shortly after the 2022 Winter Olympics, the IOC banned Russia and Belarus and recommended that other international sporting organizers do the same on 28 February 2022. Accordingly, Russian and Belarusian athletes were banned from the 2022 Winter Paralympics.\\nOn 25 January 2023, the IOC published a statement supporting the idea that Russian and Belarusian athletes could be allowed to compete as neutrals, as long as they did not \"actively\" support the war and as long as Russian and Belarusian flags, anthems, colors, and names were disallowed (thus banning the alternate designations used by Russia in 2018 and 2020).\\nOn 28 March 2023, the IOC introduced the AIN name and narrowed the requirements down to individual athletes, disallowing any teams of Russian and Belarusian athletes from competing. For events organized by an international federation (IF) other than the IOC, the IOC recommended using no flag at all (or if not possible, the event\\'s flag, the IF\\'s flag, or the letters \"AIN\") and the event\\'s anthem or the IF\\'s anthem. Federations that did not have French as an official language still used the AIN name. The IOC also donated $5 million to the National Olympic Committee of Ukraine.\\nOn 22 September 2023, the World Anti-Doping Agency (WADA) banned the Russian flag and anthem from international sporting events for a second time due to Russian legislation and RUSADA failing to comply with the World Anti-Doping Code, overlapping with the Olympic Truce ban. WADA announced that the ban would not be lifted until \"the non-conformities related to national legislation are corrected in full.\"\\nOn 12 October 2023, the IOC suspended the Russian Olympic Committee until further notice, overlapping with the other two bans, due to its violation of the Olympic Charter due to its inclusion of the regional Olympic Councils of Kherson, Zaporizhzhia, Donetsk, and Luhansk into the Russian Olympic Committee. At the time of its violation of the Olympic Charter, Russian Olympic Committee president Stanislav Pozdnyakov had said he did not see any problems with the incorporation of the former Ukrainian regional IOCs into the Russian IOC The Russian Olympic Committee responded to its suspension by saying that the IOC had not issued a similar suspension after the Russian Olympic Committee annexed a sporting entity in Crimea in 2014, to which IOC President Thomas Bach remarked, \"this argument was a little bit, \\'Why did you not sanction us already, earlier?\\'\"\\nOn 8 December 2023, the IOC published a \"draft\" version of the AIN flag depicting a colorless emblem on a white background, and stated that they would decide on a different neutral anthem at a later date. The IOC also officially stated that the AIN design', 'Gymnastics competitions at the 2024 Summer Olympics in Paris were contested in three categories: artistic gymnastics, rhythmic gymnastics and trampolining. The artistic (27 July to 5 August) and trampoline (2 August) events occurred at the Accor Arena (referred to as the Bercy Arena due to IOC sponsorship rules), with the rhythmic events staged at Porte de La Chapelle Arena from 8 to 10 August.\\n\\n\\n== Qualification ==\\n\\nThe qualification pathway for the 2024 Summer Olympics is significantly simplified and modified from those in 2020. In the artistic team event, a maximum of five gymnasts will be eligible to participate as opposed to the four per team and two individuals who competed in Tokyo 2020. Three teams who finish on the podium qualify for the Olympics through the 2022 World Artistic Gymnastics Championships in Liverpool with a large proportion of quota places distributed at the same meet in Antwerp, Belgium by the following year. The 2024 World Cup series will also hand the gymnasts an opportunity to earn more spots in separate apparatus events.\\nIn rhythmic gymnastics, the 2022 World Championships, held from 14 to 18 September in Sofia, Bulgaria, witnessed individual and group all-around medalists book their tickets in Paris. Most quota places will be allocated at the same meet in Valencia, Spain by the following year with fourteen individual gymnasts and five nations across all continents vying for qualification.\\nHalf of the trampoline qualifying slots will be awarded to the highest-ranked gymnasts at the 2023 World Championships in Birmingham with the majority coming from the 2023–2024 World Cup series. Across all gymnastics disciplines, the remaining places will be offered to the gymnasts vying for qualification at their respective continental meets.\\n\\n\\n== Participating nations ==\\nThere are 54 participating nations:\\n\\n\\n== Competition schedule ==\\n\\n\\n== Medal summary ==\\n\\n\\n=== Medal table ===\\n  *   Host nation (France)\\n\\n\\n=== Artistic gymnastics ===\\n\\n\\n==== Men ====\\n\\n\\n==== Women ====\\n\\n\\n=== Rhythmic gymnastics ===\\n\\n\\n=== Trampoline ===\\n\\n\\n== See also ==\\nGymnastics at the 2020 Summer Olympics\\n\\n\\n== Notes ==\\n\\n\\n== References ==\\n\\n\\n== External links ==\\nResults book – Artistic Gymnastics\\nResults book – Rhythmic Gymnastics\\nResults book – Trampoline Gymnastics', \"The cycling competitions of the 2024 Summer Olympics in Paris occurred at four different venues (Pont d'Iéna for road and time trial races; Vélodrome de Saint-Quentin-en-Yvelines for track cycling and BMX racing; Élancourt Hill for mountain biking; and Place de la Concorde for the BMX freestyle), from 27 July to 11 August, featuring twenty-two events across five disciplines.\\nCycling competitions have been contested in every Summer Olympics edition since the modern Olympiad revived in 1896, along with athletics, artistic gymnastics, fencing and swimming.\\nA total of 514 cyclists have competed at Paris 2024 with an equal split between men and women for the first time in the sport's history, attaining the goal of gender equality as one of the objectives ratified by the Union Cycliste Internationale (UCI). Having already been achieved in mountain biking, BMX racing, and BMX freestyle on the Tokyo 2020 program, several significant changes were instituted in the road and track cycling, with some men's quota places transferred to the women's side and with the number of riders in women's team sprint increasing from two to three. Conforming to the recommendations of the International Olympic Committee's 2020 agenda, cycling had fourteen fewer places at these Games than those in 2020, a reduction that affected road racing and mountain biking. Nonetheless, the distribution of an extra place for track cycling and six in BMX freestyle, with the number of athletes competing in the men's and women's events increasing from nine to twelve, partly counteracted the moderate decrease in the cycling spots offered at these Games.\\nDespite the modest quota decrease, cycling featured a total of twenty-two medal events across five disciplines, similar to the 2020 program format. While the sport continued to run on all days between the opening and closing ceremonies, Paris 2024 witnessed some scheduling changes contrary to the previous edition; hence, the men's and women's individual time trial medalists were awarded on the first day of the competition.\\nFor road cycling there was a special training venue,  Polygone de Vincennes, so the cyclists were not dependent on the (busy) roads of Paris.\\nThe 20-year reign of Great Britain at the top of the Olympic cycling table was finally broken, as home nation France topped a tightly contested table with three gold medals, tied with Australia, Netherlands, United States, with Belgium, New Zealand and Great Britain just one gold medal behind. Despite the significant drop in gold medals, Great Britain won the most overall medals, with 11.\\n\\n\\n== Qualification ==\\n\\nAs the host country, France reserved a men's and women's quota place in BMX racing, BMX freestyle, and mountain biking; and two more in the men's and women's road races. When one or two French cyclists qualify directly and regularly, their spare slots were reallocated to the next highest-ranked eligible NOCs in the aforementioned events based on the national order of the UCI World Ranking list by October 17, 2023.\\nAbout ninety percent of the total quota places were attributed through the UCI World Ranking lists of their respective disciplines, with some spots offered for the cyclists at the 2023 UCI World Championships and at continental qualification tournaments (Africa, Asia, and the Americas).\\n\\n\\n== Competition schedule ==\\n\\n\\n== Medal summary ==\\n\\n\\n=== Medal table ===\\n  *   Host nation (France)\\n\\n\\n=== Road cycling ===\\n\\n\\n=== Track cycling ===\\n\\n\\n==== Men's ====\\n\\n\\n==== Women's ====\\n\\n\\n=== Mountain biking ===\\n\\n\\n=== BMX ===\\n\\n\\n== See also ==\\n\\nCycling at the 2023 European Games\\nCycling at the 2023 Pan American Games\\nCycling at the 2024 Summer Paralympics\\n\\n\\n== References ==\\n\\n\\n== External links ==\\nResults book – Cycling BMX Freestyle\\nResults book – Cycling BMX Racing\\nResults book – Cycling Mountain Bike\\nResults book – Cycling Road\\nResults book – Cycling Track\", \"The football tournament at the 2024 Summer Olympics took place from 24 July to 10 August 2024 in France. The draw took place in Paris on 20 March 2024.\\nIn addition to the Olympic host city of Paris, matches were also played in Bordeaux, Décines-Charpieu (near Lyon), Marseille, Nantes, Nice and Saint-Étienne.\\nThe games held separate tournaments for men and women Associations affiliated with FIFA participated in qualifying tournaments to clinch their spots for the Olympics. Men's teams were restricted to under-23 players (born on or after 1 January 2001) with a maximum of three overage players allowed, while there were no age restrictions on women's teams.\\nCanada were the women's defending champions but lost in the quarter-finals. Brazil were the two-time men's defending champions but did not qualify.\\n\\n\\n== Competition schedule ==\\nThe competition schedule was announced on 1 April 2022. The final match schedule was confirmed by FIFA on 28 July 2022.\\n\\n\\n== Venues ==\\nA total of seven stadiums are used, as confirmed on 17 December 2020.\\n\\n\\n== Qualification ==\\nThe FIFA Council approved the distribution of spots at their meeting on 24 February 2022.\\n\\n\\n=== Qualification summary ===\\n\\n\\n=== Men's qualification ===\\n\\nIn addition to host nation France, 15 men's national under-23 teams qualified from 6 separate continental confederations.\\n\\n\\n=== Women's qualification ===\\n\\nIn addition to host nation France, 11 women's national teams qualified from 6 separate continental confederations.\\n\\n\\n== Medal summary ==\\n\\n\\n=== Medal table ===\\n  *   Host nation (France)\\n\\n\\n=== Medalists ===\\n\\n\\n== Men's tournament ==\\n\\n\\n=== Group stage ===\\n\\n\\n==== Group A ====\\n\\n\\n==== Group B ====\\n\\n\\n==== Group C ====\\n\\n\\n==== Group D ====\\n\\n\\n=== Knockout stage ===\\n\\n\\n== Women's tournament ==\\n\\n\\n=== Group stage ===\\n\\n\\n==== Group A ====\\n\\n\\n==== Group B ====\\n\\n\\n==== Group C ====\\n\\n\\n==== Ranking of third-placed teams ====\\n\\n\\n=== Knockout stage ===\\n\\n\\n== See also ==\\nFootball at the 2023 African Games\\nFootball at the 2023 Pan American Games\\nFootball 5-a-side at the 2024 Summer Paralympics\\n\\n\\n== References ==\\n\\n\\n== External links ==\\nOfficial website \\nResults book Archived 11 August 2024 at the Wayback Machine\", \"The weightlifting competitions at the 2024 Summer Olympics in Paris took place from 7 to 11 August at the Paris Expo Porte de Versailles. Several significant changes are instituted in the weightlifting program for Paris 2024, as the number of categories is trimmed from fourteen in Tokyo to ten. Furthermore, a total of 120 weightlifters, with an equal split between men and women, will compete in each of the ten weight classes, a massive drop from the 196 at the previous Games.\\n\\n\\n== Qualification ==\\n\\n120 weightlifting quota places, with an equal distribution between men and women, are available for Paris 2024, almost eighty fewer overall than those in Tokyo 2020. Qualified NOCs are permitted to enter a maximum of three weightlifters per gender, with a maximum of one in each bodyweight category.\\nOver eighty-three percent of the total quota will be awarded to the ten highest-ranked weightlifters across ten different weight classes through the biennial IWF Olympic Qualification Ranking list (running from 1 August 2022, to 28 April 2024). Five more spots per gender will be offered to the highest-ranked weightlifter vying for qualification and outside the top ten based on their continental representation (Africa, the Americas, Asia, Europe, or Oceania) from the list.\\nHost country France reserves two men's and two women's quota places in weightlifting, while a further three places per gender are entitled to eligible NOCs to have their weightlifters compete in Paris 2024 as granted by the Universality principle.\\n\\n\\n== Competition format ==\\nOn 14 June 2022, the International Weightlifting Federation officially announced the new weight categories for Paris 2024, with the total medal count reducing from fourteen to ten. Among the weightlifting medal events, the 61 and 73 kg categories for men and the 49 and 59 kg for women remain present from Tokyo 2020. The following list is the official weight categories for men and women, respectively.\\n\\n\\n== Competition schedule ==\\n\\n\\n== Participating nations ==\\nThere are 57 participating nations:\\n\\n\\n== Medal summary ==\\n\\n\\n=== Medal table ===\\n  *   Host nation (France)\\n\\n\\n=== Men's events ===\\n\\n\\n=== Women's events ===\\n\\n\\n== See also ==\\nPowerlifting at the 2024 Summer Paralympics\\n\\n\\n== References ==\\n\\n\\n== External links ==\\nResults book\", \"The volleyball tournaments at the 2024 Summer Olympics in Paris were held from 27 July to 11 August 2024. 24 volleyball teams and 48 beach volleyball teams participated in the tournament. Indoor volleyball competitions occurred at Paris Expo Porte de Versailles with the beach volleyball tournament staged at the Eiffel Tower Stadium in Champ de Mars. \\nThis was the first time in the history of the Olympic volleyball competition, each team participating in the Games was entitled to include one non-competing (AP) athlete to replace an athlete for medical reasons. As such, team rosters increased from 12 to 13 athletes. However, only 12 were considered as part of the team.\\n \\n\\n\\n== Medal summary ==\\n\\n\\n=== Medal table ===\\n  *   Host nation (France)\\n\\n\\n=== Medalists ===\\n\\n\\n==== Beach volleyball ====\\n\\n\\n==== Indoor volleyball ====\\n\\n\\n== Qualification summary ==\\n\\n\\n=== Summary table ===\\n\\n\\n=== Indoor volleyball ===\\nOn 6 April 2022, Fédération Internationale de Volleyball welcomed the International Olympic Committee's decision to approve several changes to the Olympic volleyball program and its qualification system, particularly on the rules of the allocation of the quota places for Paris 2024. Twelve teams per gender will participate in the indoor volleyball tournament. As the host nation, France, the reigning men's champions, reserves a direct spot each for both the men's and women's teams.\\nThe remainder of the twelve-team field per gender must endure a dual qualification pathway to secure the quota places for Paris 2024. First, the winners and runners-up from each of the three Olympic qualification tournaments will qualify directly for the Games. Second, the last five berths will be attributed to the eligible NOCs based on the FIVB world rankings by June 2024 while observing the universality principle, that is, prioritizing those from the continents without a qualified team yet in the Paris 2024 tournament.\\n\\n\\n==== Men's volleyball ====\\n\\n\\n==== Women's volleyball ====\\n\\n\\n=== Beach volleyball ===\\nTwenty-four teams per gender will participate in the beach volleyball tournament with a maximum of two per NOC. As the host nation, France reserves the direct spot for both the men's and women's beach volleyball teams.\\nThe remainder of the twenty-four team field must endure a tripartite qualification pathway to obtain a ticket for Paris 2024, abiding by the universality principle and respecting the two-team NOC limit. The initial spot will be directly awarded to the men's and women's winners, respectively, from the 2023 FIVB World Championships, scheduled for 6 to 15 October in Tlaxcala, Mexico, with the seventeen highest-ranked eligible pairs joining them in the field through the FIVB Olympic ranking list (based on the twelve best performances achieved as a pair) between 1 January 2023 and 10 June 2024. The final five spots will be attributed to the eligible NOCs from each of the five continental qualification tournaments (Africa – CAVB; Asia and Oceania – AVC; Europe – CEV; North America, Central America, and the Caribbean – NORCECA; and South America – CSV).\\n\\n\\n==== Men's beach volleyball ====\\n\\n\\n==== Women's beach volleyball ====\\n\\nNotes\\na The Netherlands originally won the CEV Continental Cup. However, there was no athlete who met the requirements set by the Dutch NOC. Therefore, the NOC forfeited quota spot, and the Czech Republic as the runners-up received the reallocated quota spot.\\n\\n\\n== Men's indoor tournament ==\\n\\n\\n=== Pool A ===\\n\\n\\n=== Pool B ===\\n\\n\\n=== Pool C ===\\n\\n\\n=== Combined ranking ===\\n\\n\\n=== Knockout stage ===\\n\\n\\n=== Final standings ===\\n\\n\\n== Women's indoor tournament ==\\n\\n\\n=== Pool A ===\\n\\n\\n=== Pool B ===\\n\\n\\n=== Pool C ===\\n\\n\\n=== Combined ranking ===\\n\\n\\n=== Knockout stage ===\\n\\n\\n=== Final standings ===\\n\\n\\n== Men's beach volleyball competition ==\\n\\n\\n=== Knockout stage ===\\n\\n\\n=== Final standings ===\\n\\n\\n== Women's beach volleyball competition ==\\n\\n\\n=== Knockout stage ===\\n\\n\\n=== Final standings ===\\n\\n\\n== See also ==\\nBeach volleyball at the 2023 Pan American Games\", \"Great Britain, (known as Team GB or the 'Great Britain and Northern Ireland Olympic Team') the team of the British Olympic Association (BOA) which represents the United Kingdom, competed at the 2024 Summer Olympics in Paris from 26 July to 11 August 2024. The delegation of 327 athletes included 172 women and 155 men and featured 73 medallists from previous Games. The team was made up of athletes from the whole United Kingdom including Northern Ireland (whose people may elect to hold Irish citizenship and are able to be selected to represent either Great Britain or Ireland at the Olympics). Additionally some British overseas territories compete separately from Britain in Olympic competition.\\nBritish athletes have appeared in every Summer Olympic Games of the modern era, alongside Australia, France, Greece, and Switzerland, although Great Britain is the only team to have won at least one gold medal at all of them. This streak was maintained in Paris when Rosalind Canter, Laura Collett and Tom McEwen won gold in the Equestrian Team eventing competition on Day three of the Games. The first medal for the team was won on the first morning at the diving centre, where Yasmin Harper and Scarlett Mew Jensen won bronze in the women's synchronised 3 metre springboard, the first 'synchro' medal ever won by British women at the Olympics, and one of five diving medals won by the team.\\nDuring the Games the British team won its first ever Olympic medals in sport climbing, with Toby Roberts' gold in the men's combined, and in artistic swimming, with Kate Shortman and Isabelle Thorpe taking silver in the women's duet. Meanwhile track cyclist Emma Finucane became the first British female athlete to win three medals at the same Games since Mary Rand in Tokyo in 1964.\\nRowing, by gold medals (three), and cycling, by overall medals (11), were the most successful disciplines for Team GB in Paris. Great Britain won three medals in three events in triathlon, including one gold, and five medals, including two golds, from six equestrian events, with every member of the equestrian team, and all but one member of the triathlon team bringing home a medal. British athletes won medals in all four velodrome team events, all five athletics stadium relays, all four synchronised diving events, all three equestrian team events, eight rowing boats, the mixed triathlon relay and a unique second successive gold in the men's 4 × 200 metres freestyle relay for the exact same four swimmers who had previously won gold in Tokyo, a feat never achieved previously by any nation in a swimming event.\\nA number of previous British Olympic champions ended their competitive career in Paris; Tom Daley announced his retirement after winning a British record fifth diving medal in five games in the men's 10 metre synchronised platform, a silver with Noah Williams, who himself later became only the third male British diver to win an individual platform medal; Andy Murray withdrew from the tennis singles but reached the quarter-finals in the men's doubles with Dan Evans in his final tournament; six time Olympic medallist Max Whitlock finished fourth in both the men's team and the individual pommel horse finals in his fourth and final Olympic Games.\\n65 medals were won, the third most overall medals won by any nation in the Games after United States and China, beating the amount won in Tokyo 2020 and the lower target of 50 set by UK Sport. 14 gold medals were won, the lowest amount since Athens 2004 – leading to a final ranking of 7th in the medal table.\\n\\n\\n== Medallists ==\\n\\n\\n== Administration ==\\nOn 17 March 2022, the British Olympic Association announced that Mark England would be the team's chef de mission in Paris, following his success in the role at the two previous Games in Rio de Janeiro and Tokyo, where Great Britain won 67 and 64 medals respectively. \\n\\n\\n== Medal targets ==\\nUK Sport, the organisation responsible for investing money sourced from the National Lottery and the governmen\", \"The handball tournaments at the 2024 Summer Olympics in Paris, France were held from 25 July to 11 August 2024. Preliminary pool matches occurred at South Paris Arena 6, with the final phase staged at Pierre Mauroy Stadium in Lille. The format remained the same since 2000 for the men and 2008 for the women, as twelve teams in two groups battle each other in the round robin, followed by the knockout matches for the top eight starting with the quarterfinals and ending with the final and bronze match.\\n\\n\\n== Schedule ==\\n\\n\\n== Events ==\\nTwo sets of medals will be awarded in the following events:\\n\\nMen's handball (12 teams)\\nWomen's handball (12 teams)\\n\\n\\n== Venues ==\\n\\nThe Stade Pierre-Mauroy stadium in Lille can be changed from a football stadium to a handball stadium in three hours by moving the center part with hydraulics lifts and slide them above the other part of the field. This creates a lower-level center floor around which up to 30,000 seats can be set up. The handball court is turned 90° compared to the football pitch.\\n\\n\\n== Qualification ==\\nThe National Olympic Committees might enter only one 14-player men's team and only one 14-player women's team.\\n\\n\\n=== Qualification summary ===\\n\\n\\n=== Men's qualification ===\\n\\n\\n=== Women's qualification ===\\n\\n\\n== Medal summary ==\\n\\n\\n=== Medal table ===\\n  *   Host nation (France)\\n\\n\\n=== Medalists ===\\n\\n\\n== Men's tournament ==\\n\\n\\n=== Preliminary round ===\\n\\n\\n==== Group A ====\\n\\n\\n==== Group B ====\\n\\n\\n=== Knockout stage ===\\n\\n\\n=== Final standings ===\\n\\n\\n== Women's tournament ==\\n\\n\\n=== Preliminary round ===\\n\\n\\n==== Group A ====\\n\\n\\n==== Group B ====\\n\\n\\n=== Knockout stage ===\\n\\n\\n=== Final standings ===\\n\\n\\n== See also ==\\nHandball at the 2023 Pan American Games\\nHandball at the 2022 Asian Games\\n\\n\\n== References ==\", \"Judo competitions at the 2024 Summer Olympics in Paris took place from 27 July to 3 August at Grand Palais Éphémère in Champ de Mars. The number of judokas competing across fourteen weight categories at these Games has been reduced from 393 in Tokyo 2020 to 372, with an equal distribution between men and women.\\nDespite the slight changes in athlete figures, the judo program for Paris 2024 remains constant from the previous editions, as the competition featured an equal number of bodyweight classes for men and women, with seven each, and the return of the mixed team tournament.\\n\\n\\n== Competition format ==\\nThe judo program features a total of fourteen bodyweight classes, seven each for both men and women. Regularly starting on the first day of the competition, a single men's and women's weight category will occur each day before the program concludes with the mixed team tournament (scheduled for 3 August).\\nIn each weight category, athletes are seeded in a single-elimination bracket, a traditional knock-out format until the final with a slight twist. Those defeated in the quarterfinals will remain in the competition with a repechage draw resulting to double bronze-medal matches awarded to the judokas.\\nThe mixed-team tournament, an event introduced in the previous edition, features a squad of six individual judokas with three weight categories per gender competing against another team. To win every match, the team must score four victories out of six rounds.\\nSince the previous edition, several rule changes are instituted to empower the judo program for Paris 2024 and subsequent Summer Olympic editions. Based on the 2016 IJF rule changes, the game time for men have shortened by a minute, and the length of a game becomes four minutes similar to the women's side. The waza-ari scores remain constant from Tokyo 2020, requiring a judoka to pin his or her opponent between the ten and twenty-second limit, or to throw the opponent successfully but not well-controlled to be awarded as ippon. According to the fundamental judo rules, any athlete can win in a tripartite pathway: 1) to throw the opponent to the ground at a certain efficiency, 2) to hold down the opponent for 20 seconds, and 3) to force the opponent to a submission by arm lock or by strangulation. Originally, scoring an ippon ends the game but two waza-aris are now equal to an ippon in the competition.\\n\\n\\n== Qualification ==\\n\\nThe competition at these Games comprised a total of 372 athletes coming from their respective NOCs; each could enter a maximum of fourteen judokas, seven each for both men and women per bodyweight category. The host country France received a spot in all fourteen individual events, while fifteen places were reserved for the eligible NOCs through universality quotas awarded by the Tripartie Commission.\\nThe remaining judokas were required to undergo a qualifying process to secure a spot in their respective weight category for the Games through the world ranking list prepared by the International Judo Federation (IJF). The qualification window had commenced on 24 June 2022, and concluded two years later (23 June 2024), with the final eligibility list published two days after the deadline.\\nThe top 17 judokas in each bodyweight category from the world ranking list qualified directly for the Games, with each NOC subjected to a limit of one judoka per division. If an NOC had more than one judoka ranked among the top 17 in a weight class, it was for the NOC to decide which athlete obtained the quota place.\\nFurther continental quotas (13 men and 12 women for Europe, 12 of each gender for Africa, ten men and 11 women for the Americas, ten of each gender for Asia, and five of each gender for Oceania) were also available. The International Judo Federation publishes a list of all judokas for each continent across all gender-based bodyweight categories to assign these quota places according to their world ranking points. Eligible judokas with the highest number of points on\", \"India competed at the 2024 Summer Olympics in Paris, France, held from 26 July to 11 August 2024. The country made its debut at the 1900 Summer Olympics. Indian athletes have appeared at every edition of the Summer Olympic Games since 1920 and the Paris Games edition marked India's 26th appearance at the Summer Olympics. \\nThe Indian contingent consisted of 110 athletes who competed in 16 sports. P.V. Sindhu and Sharath Kamal were the designated flag-bearers for the opening ceremony. Manu Bhaker and P. R. Sreejesh carried the Indian flag during the closing ceremony. \\nIndia won six medals including a silver and five bronze to be ranked 71st amongst the 206 NOCs that participated in the Olympics. This was India's third-highest medal haul after the 2020 and 2012 respectively. Manu Bhaker won two bronze medals in shooting and became the first Indian to win two medals in a single Olympics since Independence. Neeraj Chopra, who won a silver medal in the men's javelin throw event, became the first Indian individual medalist to win a gold and silver at the Olympics. Wrestler Aman Sehrawat, who won a bronze medal became the youngest ever Indian medal winner in the Olympic Games.\\n\\n\\n== Background ==\\nThe Indian Olympic Association was recognized by the International Olympic Committee in 1927. However, by this time, the nation had already made its first Summer Olympics debut at the 1900 Olympics in Paris and had competed in Olympic Games of 1920 and 1924. Indian athletes have appeared at every edition of the Summer Olympic Games since 1920 and this edition of the Games marked the nation's 26th appearance at the Summer Olympics.\\nThe Indian contingent for this year's games consisted of 117 athletes: 110 competitors and 7 alternate, in addition to 118 support staff and 22 officials. Gagan Narang was appointed as the Chef de mission aka head of mission while Shiva Keshavan was chosen as his deputy. \\nP.V. Sindhu and Sharath Kamal were the designated flag-bearers for the opening ceremony of Paris 2024. Shooter Manu Bhaker who won two medals at the edition and the field hockey team's goalkeeper P. R. Sreejesh were the flag bearers for the closing ceremony.\\n\\n\\n== Medalists ==\\n\\nIndia won six medals in total including one silver and five bronze, three of which come from shooting. This was India's joint second highest total medal haul after the previous Games. Manu Bhaker won the first medal for India in the women's 10 m air pistol event. She won a bronze medal and became the first woman shooter to win an Olympic medal for India. In the mixed 10 m air pistol team event, she partnered with Sarabjot Singh to win another bronze medal, thus becoming the first Indian since independence to win two medals in a single Olympics. Swapnil Kusale then won another bronze medal in the men's 50 m rifle three positions event. This became India's seventh shooting medal across the Olympic Games.\\nThe men's field hockey team won the bronze medal in the men's event after they defeated Spain in the match for the third place. This was the country's second consecutive bronze in men's hockey at the Olympics. Neeraj Chopra then won a silver medal in the men's javelin throw event. With his gold medal in the 2020 Olympics, he became the fifth individual multiple medalist for India and first to win a gold and silver combination. Aman Sehrawat won a bronze medal for India in the men's freestyle 57kg wrestling event. The 21-year-old became the youngest Indian to win an Olympic medal.\\n\\n\\n== Competitors ==\\nThere were 110 athletes who took part in the medal events across 16 sports.\\n\\n\\n== Archery ==\\n\\nAs per the qualification system drawn up by the World Archery Federation, each National Olympic Committee (NOC) was permitted to enter a maximum of six competitors, three per gender. NOCs that qualify teams for a particular gender are able to send a three-member team to the team event and also have each member compete in the individual event with the remaining spots filled by individual quali\", \"The men's football tournament at the 2024 Summer Olympics was held from 24 July to 9 August 2024. It was the 28th edition of the men's Olympic football tournament. Together with the women's competition, the 2024 Summer Olympics football tournament was held at seven stadiums in seven cities in France. Teams participating in the men's competition were restricted to under-23 players (born on or after 1 January 2001) with a maximum of three overage players allowed.\\nBrazil were the two-time defending champions, having won in 2016 and 2020, but did not qualify for this tournament.\\nSpain won their second gold medal and first since 1992, defeating hosts France 5–3 after extra time in the final, held at Parc des Princes in Paris.\\n\\n\\n== Schedule ==\\nThe schedule was as follows.\\n\\n\\n== Qualification ==\\n\\nIn addition to host nation France, fifteen men's national teams qualified from six separate continental confederations. The Organising Committee for FIFA Competitions ratified the distribution of spots at their meeting on 24 February 2022.\\n\\n\\n== Venues ==\\n\\n\\n== Squads ==\\n\\nEach team had to submit a squad of eighteen players, two of whom had to be goalkeepers, with at least fifteen born on or after 1 January 2001, and three who could be older dispensation players. Additionally, each team could also have a list of four alternate players, who could replace any player in the squad in case of injury during the tournament.\\n\\n\\n== Match officials ==\\nOn 3 April 2024, FIFA released the list of match referees that would officiate at the Olympics.\\n\\n\\n== Draw ==\\nThe draw for the groups was held on 20 March 2024, 20:00 CET (UTC+1), at the Pulse building in Saint-Denis, France. The sixteen teams were drawn into four groups of four teams each. The hosts France were automatically seeded into Pot 1 and placed into the first position of Group A, while the remaining teams were seeded into their respective pots based on their results in the last five Men's Olympic Football Tournament (with more recent tournaments weighted more heavily), as follows:\\n\\n2004 Men's Olympic Football Tournament: 20% value of total points;\\n2008 Men's Olympic Football Tournament: 40% value of total points;\\n2012 Men's Olympic Football Tournament: 60% value of total points;\\n2016 Men's Olympic Football Tournament: 80% value of total points;\\n2020 Men's Olympic Football Tournament: 100% value of total points.\\nFurthermore, five bonus points were added to each of the six continental champions from the qualifying tournaments.\\n\\nNotes\\n\\nThe draw started with teams from Pot 1 being drawn first and placed in the first position of their groups (hosts France automatically assigned to A1). Then the teams from Pot 2 were drawn, followed by Pot 3 and Pot 4, with each team also being drawn to one of the positions within their group. No group could contain more than one team from each confederation. The ceremony was hosted by the local presenter Fabien Leveque and conducted by FIFA's Director of Tournaments Jaime Yarza and Chief Women's Football Officer Sarai Bareman, with the former Argentine footballer Javier Saviola and French track and field legend athlete Marie-José Pérec as draw assistants.\\nThe draw resulted in the following groups:\\n\\nNotes\\n\\n\\n== Group stage ==\\nThe competing countries were divided into four groups of four teams, denoted as groups A, B, C and D. Teams in each group played one another in a round-robin basis, with the top two teams of each group advancing to the quarter-finals.\\nAll times are local, CEST (UTC+2).\\n\\n\\n=== Tiebreakers ===\\nThe ranking of teams in the group stage was determined as follows:\\n\\nPoints obtained in all group matches (three points for a win, one for a draw, none for a defeat);\\nGoal difference in all group matches;\\nNumber of goals scored in all group matches;\\nPoints obtained in the matches played between the teams in question;\\nGoal difference in the matches played between the teams in question;\\nNumber of goals scored in the matches played between the teams in question;\\nFair pl\", \"Artistic swimming (formerly called synchronized swimming) competitions at the 2024 Summer Olympics in Paris, France ran between 5 and 10 August at the Paris Aquatic Centre. For the first time since the 1996 Summer Olympics in Atlanta, the competition featured fewer than 100 athletes, with a total of 96 athletes competing in two medal events, namely the women's duet and the mixed team.\\nSeveral significant changes were instituted in the artistic swimming program for Paris 2024 to reinforce the Games-wide effort to achieve gender equality and vast diversity among the nations in the qualifying process. On 7 October 2022, World Aquatics (then FINA) favored nearly 99 percent of the votes to amend the artistic swimming rules between 2022 and 2025, such as the composition of an eight-member mixed team (previously a women's team event) with a maximum number of two males in the team. However, no men were selected to compete.\\nThis was also the first time since 2000 that a team other than Russia won the gold in either discipline, as Russia was banned from the 2024 Olympics due to Russia's and Belarus's invasion of Ukraine.\\n\\n\\n== Qualification ==\\n\\nFor the team event, the highest-ranked NOC in each of the five continental meets, except for the host nation France (representing Europe), obtained a quota place, while the remaining NOCs competed for the five available spots at the 2024 World Aquatics Championships. For the duet, the highest-ranked NOC from each of the five continental meets that did not have a qualified team received a spot, with the remaining NOCs competing for the three remaining spots through the 2024 Worlds. All ten NOCs eligible to compete in the team event were required to select two members to form a duet.\\n\\n\\n=== Qualification summary ===\\n\\n\\n== Participating nations ==\\n\\n\\n== Competition schedule ==\\n\\nCompetition on August 6th was opened by Bill May.\\n\\n\\n== Medal summary ==\\n\\n\\n=== Medal table ===\\n  *   Host nation (France)\\n\\n\\n=== Medalists ===\\n\\n\\n== See also ==\\nArtistic swimming at the 2022 Asian Games\\nArtistic swimming at the 2023 European Games\\nArtistic swimming at the 2023 Pan American Games\\n\\n\\n== References ==\", \"Surfing at the 2024 Summer Olympics took place 27 July – 5 August 2024 in Teahupoʻo reef pass, Tahiti, French Polynesia, breaking the record for the farthest away a medal competition has been staged from the host city. A total of 48 surfers (24 for the men's and women's competitions each) were competing in the shortboard events, augmenting the athlete size by eight more than those in Tokyo 2020.\\n\\n\\n== Venue ==\\nThe surfing competition was staged in Teahupo'o, Tahiti, in the French overseas collectivity of French Polynesia in the southern Pacific. The decision was made to hold the surfing competition in the French territory instead of continental Europe because of the famous massive waves on the island suitable for the surfing competitions. Tahiti is 15,000 km (9,300 mi) from Paris, setting a new record for greatest physical distance of a medal event from the host city, a record that was last set in 1956 when the equestrian events of the 1956 Summer Olympics in Melbourne, Australia, had to be held in Stockholm, Sweden, because Australia had strict quarantine rules for animals coming from overseas.\\nParticipants in the surf competitions will be the only ones not staying at the Olympic village on L'Île-Saint-Denis, and will instead stay on the ship M/V Aranui 5 anchored off Tahiti as the first floating Olympic village. The surfing competition is also the only event held without spectators.\\n\\n\\n== Qualification ==\\n\\nThe qualification system for Paris 2024 builds on the previous format used for Tokyo 2020, ensuring the participation of the world's best professional surfers, along with the vast promotion of geographical universal opportunities for surfers around the world at the Games. While the quota of two male and two female surfers per country remains intact, two exceptions to this rule have been introduced for the ISA World Surfing Games 2022 and 2024 team champions. These exceptions may increase the quota for some teams to three surfers.\\n\\n\\n== Competition schedule ==\\n\\nOn 29 July, the weather turned dangerous towards the end of round 3 of the men's shortboard event, forcing the postponement of the women's third round. The waves continued to be too rough for competition over the next two days, leading to the last women's round and all finals being postponed. Surfing resumed on 1 August. Competition was again called off on 3 and 4 August, with the semifinals and finals tentatively set for 5 August.\\n\\n\\n== Participating nations ==\\nA total of 48 surfers from 21 nations qualified. Canada and Mexico made their Olympic debuts in the sport.\\n\\n\\n== Medal summary ==\\n\\n\\n=== Medal table ===\\n  *   Host nation (France)\\n\\n\\n=== Medalists ===\\n\\n\\n== See also ==\\nSurfing at the 2020 Summer Olympics\\nSurfing at the 2023 Pan American Games\\n\\n\\n== References ==\"]\n",
            "['https://en.wikipedia.org/wiki/2024_Summer_Olympics', 'https://en.wikipedia.org/wiki/Athletics_at_the_2024_Summer_Olympics', 'https://en.wikipedia.org/wiki/Breaking_at_the_2024_Summer_Olympics', 'https://en.wikipedia.org/wiki/Basketball_at_the_2024_Summer_Olympics', 'https://en.wikipedia.org/wiki/Wrestling_at_the_2024_Summer_Olympics', 'https://en.wikipedia.org/wiki/Swimming_at_the_2024_Summer_Olympics', 'https://en.wikipedia.org/wiki/United_States_at_the_2024_Summer_Olympics', 'https://en.wikipedia.org/wiki/Individual_Neutral_Athletes_at_the_2024_Summer_Olympics', 'https://en.wikipedia.org/wiki/Gymnastics_at_the_2024_Summer_Olympics', 'https://en.wikipedia.org/wiki/Cycling_at_the_2024_Summer_Olympics', 'https://en.wikipedia.org/wiki/Football_at_the_2024_Summer_Olympics', 'https://en.wikipedia.org/wiki/Weightlifting_at_the_2024_Summer_Olympics', 'https://en.wikipedia.org/wiki/Volleyball_at_the_2024_Summer_Olympics', 'https://en.wikipedia.org/wiki/Great_Britain_at_the_2024_Summer_Olympics', 'https://en.wikipedia.org/wiki/Handball_at_the_2024_Summer_Olympics', 'https://en.wikipedia.org/wiki/Judo_at_the_2024_Summer_Olympics', 'https://en.wikipedia.org/wiki/India_at_the_2024_Summer_Olympics', 'https://en.wikipedia.org/wiki/Football_at_the_2024_Summer_Olympics_%E2%80%93_Men%27s_tournament', 'https://en.wikipedia.org/wiki/Artistic_swimming_at_the_2024_Summer_Olympics', 'https://en.wikipedia.org/wiki/Surfing_at_the_2024_Summer_Olympics']\n"
          ]
        }
      ],
      "source": [
        "wiki_content = [doc.page_content for doc in docs]\n",
        "wiki_source = [doc.metadata['source'] for doc in docs]\n",
        "\n",
        "print(wiki_content)\n",
        "print(wiki_source)"
      ]
    },
    {
      "cell_type": "code",
      "execution_count": null,
      "metadata": {
        "id": "t-f68IrJ66P_"
      },
      "outputs": [],
      "source": [
        "wiki_vector = embeddings.embed_documents(wiki_content)\n",
        "\n",
        "wiki_json_structure = [\n",
        "    {\n",
        "        \"wiki_content\": wiki_content,\n",
        "        \"vector\": vector,\n",
        "        \"wiki_source\": wiki_source\n",
        "    }\n",
        "    for wiki_content, vector, wiki_source in zip(wiki_content, wiki_vector, wiki_source)\n",
        "]\n"
      ]
    },
    {
      "cell_type": "markdown",
      "metadata": {
        "id": "X3nv17OT7lTH"
      },
      "source": [
        "# 3. Store in VectorDB"
      ]
    },
    {
      "cell_type": "code",
      "execution_count": null,
      "metadata": {
        "collapsed": true,
        "id": "cgFi2VX67kxI"
      },
      "outputs": [],
      "source": [
        "pip install -U weaviate-client"
      ]
    },
    {
      "cell_type": "code",
      "execution_count": null,
      "metadata": {
        "id": "_oVYu6ga7ukL"
      },
      "outputs": [],
      "source": [
        "import weaviate\n",
        "import json\n",
        "\n",
        "client = weaviate.Client(\n",
        "    url = WEAVIATE_INSTANCE_URL,  # Replace with your Weaviate endpoint\n",
        "    auth_client_secret=weaviate.auth.AuthApiKey(api_key=Weaviate_API_Key),  # Replace with your Weaviate instance API key\n",
        ")"
      ]
    },
    {
      "cell_type": "code",
      "execution_count": null,
      "metadata": {
        "colab": {
          "base_uri": "https://localhost:8080/"
        },
        "id": "j_MeSeQsUqZo",
        "outputId": "525b5263-921d-4333-d362-9ab4da8d7869"
      },
      "outputs": [
        {
          "output_type": "execute_result",
          "data": {
            "text/plain": [
              "True"
            ]
          },
          "metadata": {},
          "execution_count": 28
        }
      ],
      "source": [
        "# Check connection\n",
        "client.is_ready()"
      ]
    },
    {
      "cell_type": "code",
      "execution_count": null,
      "metadata": {
        "collapsed": true,
        "id": "iYIyq-GX7ybM"
      },
      "outputs": [],
      "source": [
        "# Class definition object. Weaviate's autoschema feature will infer properties when importing.\n",
        "class_obj = {\n",
        "    \"class\": \"Wiki\",\n",
        "    \"vectorizer\": \"none\",\n",
        "}\n",
        "\n",
        "# Add the class to the schema\n",
        "client.schema.create_class(class_obj)"
      ]
    },
    {
      "cell_type": "code",
      "execution_count": null,
      "metadata": {
        "colab": {
          "base_uri": "https://localhost:8080/"
        },
        "id": "xEuWWKyp8Spk",
        "outputId": "b6e6fcb3-ac47-4eb1-9799-aed04189009e"
      },
      "outputs": [
        {
          "output_type": "stream",
          "name": "stdout",
          "text": [
            "importing question: 1\n",
            "importing question: 2\n",
            "importing question: 3\n",
            "importing question: 4\n",
            "importing question: 5\n",
            "importing question: 6\n",
            "importing question: 7\n",
            "importing question: 8\n",
            "importing question: 9\n",
            "importing question: 10\n",
            "importing question: 11\n",
            "importing question: 12\n",
            "importing question: 13\n",
            "importing question: 14\n",
            "importing question: 15\n",
            "importing question: 16\n",
            "importing question: 17\n",
            "importing question: 18\n",
            "importing question: 19\n",
            "importing question: 20\n"
          ]
        }
      ],
      "source": [
        "data = wiki_json_structure\n",
        "\n",
        "# Configure a batch process\n",
        "client.batch.configure(batch_size=100)  # Configure batch\n",
        "with client.batch as batch:\n",
        "    # Batch import all Questions\n",
        "    for i, d in enumerate(data):\n",
        "        print(f\"importing question: {i+1}\")\n",
        "\n",
        "        properties = {\n",
        "            \"wiki_content\": d[\"wiki_content\"],\n",
        "            \"wiki_source\": d[\"wiki_source\"]\n",
        "            }\n",
        "\n",
        "        batch.add_data_object(properties, \"Wiki\", vector=d[\"vector\"])"
      ]
    },
    {
      "cell_type": "markdown",
      "metadata": {
        "id": "gJMTIlVj89W5"
      },
      "source": [
        "# 4. Retrieval & Generation"
      ]
    },
    {
      "cell_type": "code",
      "execution_count": null,
      "metadata": {
        "id": "pWS7qcyBH1jQ"
      },
      "outputs": [],
      "source": [
        "from langchain_upstage import ChatUpstage\n",
        "from langchain_core.messages import HumanMessage, SystemMessage\n",
        "from langchain_core.prompts import PromptTemplate\n",
        "from langchain_core.output_parsers import StrOutputParser\n",
        "\n",
        "## 1. Set up Upstage Solar\n",
        "\n",
        "llm = ChatUpstage(upstage_api_key=\"CkRQIx0788kRXMcbsZQY0vckTLcyP8Jf\")\n",
        "\n",
        "prompt_template = PromptTemplate.from_template(\n",
        "    \"\"\"\n",
        "    You are a bot that answers questions about the 2024 Summer Olympics, using only the context provided.\n",
        "    When you generate the answer always provide the link(wiki url) we can be searching for (provide just the link itself).\n",
        "If you don't know the answer, simply state that you don't know.\"\n",
        "    ---\n",
        "    Question: {question}\n",
        "    ---\n",
        "    Context: {context}\n",
        "    \"\"\"\n",
        ")\n",
        "chain = prompt_template | llm | StrOutputParser()"
      ]
    },
    {
      "cell_type": "code",
      "execution_count": null,
      "metadata": {
        "id": "mQ5EteNP-I-M"
      },
      "outputs": [],
      "source": [
        "## 2. Retrieval based on the Question and Generate Response\n",
        "\n",
        "def ask_question(question):\n",
        "    # Embed the question using the embeddings model\n",
        "    question_vector = embeddings.embed_query(question)\n",
        "    query_result = {\"vector\":question_vector}\n",
        "\n",
        "    # Retrieve relevant documents from the vector database\n",
        "    retrieved_doc = client.query.get(\n",
        "        \"Wiki\", [\"wiki_content\"]\n",
        "    ).with_near_vector(\n",
        "        query_result\n",
        "    ).with_limit(2).with_additional(['certainty']).do()\n",
        "\n",
        "    # Use the chain to invoke the answer generation process\n",
        "    answer = chain.invoke({\"question\": question, \"context\": retrieved_doc})\n",
        "\n",
        "    return answer\n",
        "\n"
      ]
    },
    {
      "cell_type": "markdown",
      "source": [
        "# 5. Make a Chatbot"
      ],
      "metadata": {
        "id": "QkGSOHGvJxdW"
      }
    },
    {
      "cell_type": "code",
      "execution_count": null,
      "metadata": {
        "id": "u7mgh_oXCNds"
      },
      "outputs": [],
      "source": [
        "def chatbot():\n",
        "    print(\"Welcome to the chatbot! Ask me anything.\")\n",
        "\n",
        "    while True:\n",
        "        question = input(\"You: \")\n",
        "\n",
        "        if question.lower() in [\"exit\", \"quit\", \"bye\"]:\n",
        "            print(\"Goodbye!\")\n",
        "            break\n",
        "\n",
        "        answer = ask_question(question)\n",
        "\n",
        "        print(f\"Chatbot: {answer}\")"
      ]
    },
    {
      "cell_type": "code",
      "execution_count": null,
      "metadata": {
        "colab": {
          "base_uri": "https://localhost:8080/"
        },
        "id": "sYlFziaNCP07",
        "outputId": "4458af67-f1fe-4937-c29e-9860f4d1e6f6"
      },
      "outputs": [
        {
          "output_type": "stream",
          "name": "stdout",
          "text": [
            "Welcome to the chatbot! Ask me anything.\n",
            "You: How many medals have the United States won?\n",
            "Chatbot: The United States won a total of 128 medals at the 2024 Summer Olympics in Paris. You can find more information about this in the context provided.\n",
            "You: Which country has the most medals?\n",
            "Chatbot: The United States of America has the most medals.\n",
            "\n",
            "Link: https://en.wikipedia.org/wiki/United_States_at_the_2024_Summer_Olympics\n",
            "You: Tell me about the Men's Football Tournament\n",
            "Chatbot: The men's football tournament at the 2024 Summer Olympics was held from 24 July to 9 August 2024. It was the 28th edition of the men's Olympic football tournament. Teams participating in the men's competition were restricted to under-23 players (born on or after 1 January 2001) with a maximum of three overage players allowed. Spain won their second gold medal and first since 1992, defeating hosts France 5–3 after extra time in the final, held at Parc des Princes in Paris.\n",
            "\n",
            "Reference(s):\n",
            "date: 11 August 2024\n",
            "url: https://en.wikipedia.org/wiki/Football_at_the_2024_Summer_Olympics\n",
            "You: How many participating nations in wrestling\n",
            "Chatbot: There are 61 participating nations in wrestling.\n",
            "\n",
            "Link: https://en.wikipedia.org/wiki/Wrestling_at_the_2024_Summer_Olympics\n",
            "You: bye\n",
            "Goodbye!\n"
          ]
        }
      ],
      "source": [
        "chatbot()\n",
        "# How many medals have the United States won?\n",
        "# Which country has the most medals?\n",
        "# Tell me about the Men's Football Tournament\n",
        "# How many participating nations in wrestling"
      ]
    }
  ],
  "metadata": {
    "colab": {
      "provenance": [],
      "authorship_tag": "ABX9TyN6IrTZQkiT21s2cat1HWbN",
      "include_colab_link": true
    },
    "kernelspec": {
      "display_name": "Python 3",
      "name": "python3"
    },
    "language_info": {
      "name": "python"
    }
  },
  "nbformat": 4,
  "nbformat_minor": 0
}
