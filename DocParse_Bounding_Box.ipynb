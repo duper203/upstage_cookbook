{
  "nbformat": 4,
  "nbformat_minor": 0,
  "metadata": {
    "colab": {
      "provenance": [],
      "authorship_tag": "ABX9TyOdqHogCjrykMW6gHV7qNZM",
      "include_colab_link": true
    },
    "kernelspec": {
      "name": "python3",
      "display_name": "Python 3"
    },
    "language_info": {
      "name": "python"
    }
  },
  "cells": [
    {
      "cell_type": "markdown",
      "metadata": {
        "id": "view-in-github",
        "colab_type": "text"
      },
      "source": [
        "<a href=\"https://colab.research.google.com/github/duper203/upstage_cookbook/blob/main/DocParse_Bounding_Box.ipynb\" target=\"_parent\"><img src=\"https://colab.research.google.com/assets/colab-badge.svg\" alt=\"Open In Colab\"/></a>"
      ]
    },
    {
      "cell_type": "code",
      "execution_count": null,
      "metadata": {
        "id": "ZdUq4jsXi3F0"
      },
      "outputs": [],
      "source": [
        "import os\n",
        "from langchain_upstage import UpstageDocumentParseLoader\n",
        "import json\n",
        "from PIL import Image, ImageDraw\n",
        "\n",
        "\n",
        "os.environ[\"UPSTAGE_API_KEY\"] = \"UPSTAGE_API_KEY\"\n",
        "\n",
        "file_path = \"chase.png\"\n",
        "loader = UpstageDocumentParseLoader(file_path)\n",
        "\n",
        "pages = loader.load()  # or loader.lazy_load()\n",
        "for page in pages:\n",
        "    data = page.metadata['coordinates']\n",
        "\n",
        "    with Image.open(file_path) as img:\n",
        "        width, height = img.size\n",
        "\n",
        "        draw = ImageDraw.Draw(img)\n",
        "\n",
        "        for coordinate_set in data:\n",
        "            # Calculate bounding box (convert normalized coordinates to absolute coordinates)\n",
        "            bounding_box = [{\"x\": int(coord['x'] * width), \"y\": int(coord['y'] * height)} for coord in coordinate_set]\n",
        "\n",
        "            # Get top-left and bottom-right coordinates (assuming rectangle shape)\n",
        "            top_left = (bounding_box[0]['x'], bounding_box[0]['y'])\n",
        "            bottom_right = (bounding_box[2]['x'], bounding_box[2]['y'])\n",
        "\n",
        "            # Draw the rectangle (bounding box) on the image\n",
        "            draw.rectangle([top_left, bottom_right], outline=\"red\", width=3)\n",
        "\n",
        "        img.show()"
      ]
    }
  ]
}